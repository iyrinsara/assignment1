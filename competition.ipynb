{
 "cells": [
  {
   "cell_type": "code",
   "execution_count": 1,
   "id": "31656be4",
   "metadata": {},
   "outputs": [
    {
     "data": {
      "text/html": [
       "<div>\n",
       "<style scoped>\n",
       "    .dataframe tbody tr th:only-of-type {\n",
       "        vertical-align: middle;\n",
       "    }\n",
       "\n",
       "    .dataframe tbody tr th {\n",
       "        vertical-align: top;\n",
       "    }\n",
       "\n",
       "    .dataframe thead th {\n",
       "        text-align: right;\n",
       "    }\n",
       "</style>\n",
       "<table border=\"1\" class=\"dataframe\">\n",
       "  <thead>\n",
       "    <tr style=\"text-align: right;\">\n",
       "      <th></th>\n",
       "      <th>male</th>\n",
       "      <th>age</th>\n",
       "      <th>education</th>\n",
       "      <th>currentSmoker</th>\n",
       "      <th>cigsPerDay</th>\n",
       "      <th>BPMeds</th>\n",
       "      <th>prevalentStroke</th>\n",
       "      <th>prevalentHyp</th>\n",
       "      <th>diabetes</th>\n",
       "      <th>totChol</th>\n",
       "      <th>sysBP</th>\n",
       "      <th>diaBP</th>\n",
       "      <th>BMI</th>\n",
       "      <th>heartRate</th>\n",
       "      <th>glucose</th>\n",
       "      <th>TenYearCHD</th>\n",
       "    </tr>\n",
       "  </thead>\n",
       "  <tbody>\n",
       "    <tr>\n",
       "      <th>0</th>\n",
       "      <td>1</td>\n",
       "      <td>39</td>\n",
       "      <td>4.0</td>\n",
       "      <td>0</td>\n",
       "      <td>0.0</td>\n",
       "      <td>0.0</td>\n",
       "      <td>0</td>\n",
       "      <td>0</td>\n",
       "      <td>0</td>\n",
       "      <td>195.0</td>\n",
       "      <td>106.0</td>\n",
       "      <td>70.0</td>\n",
       "      <td>26.97</td>\n",
       "      <td>80.0</td>\n",
       "      <td>77.0</td>\n",
       "      <td>0</td>\n",
       "    </tr>\n",
       "    <tr>\n",
       "      <th>1</th>\n",
       "      <td>0</td>\n",
       "      <td>46</td>\n",
       "      <td>2.0</td>\n",
       "      <td>0</td>\n",
       "      <td>0.0</td>\n",
       "      <td>0.0</td>\n",
       "      <td>0</td>\n",
       "      <td>0</td>\n",
       "      <td>0</td>\n",
       "      <td>250.0</td>\n",
       "      <td>121.0</td>\n",
       "      <td>81.0</td>\n",
       "      <td>28.73</td>\n",
       "      <td>95.0</td>\n",
       "      <td>76.0</td>\n",
       "      <td>0</td>\n",
       "    </tr>\n",
       "    <tr>\n",
       "      <th>2</th>\n",
       "      <td>1</td>\n",
       "      <td>48</td>\n",
       "      <td>1.0</td>\n",
       "      <td>1</td>\n",
       "      <td>20.0</td>\n",
       "      <td>0.0</td>\n",
       "      <td>0</td>\n",
       "      <td>0</td>\n",
       "      <td>0</td>\n",
       "      <td>245.0</td>\n",
       "      <td>127.5</td>\n",
       "      <td>80.0</td>\n",
       "      <td>25.34</td>\n",
       "      <td>75.0</td>\n",
       "      <td>70.0</td>\n",
       "      <td>0</td>\n",
       "    </tr>\n",
       "    <tr>\n",
       "      <th>3</th>\n",
       "      <td>0</td>\n",
       "      <td>61</td>\n",
       "      <td>3.0</td>\n",
       "      <td>1</td>\n",
       "      <td>30.0</td>\n",
       "      <td>0.0</td>\n",
       "      <td>0</td>\n",
       "      <td>1</td>\n",
       "      <td>0</td>\n",
       "      <td>225.0</td>\n",
       "      <td>150.0</td>\n",
       "      <td>95.0</td>\n",
       "      <td>28.58</td>\n",
       "      <td>65.0</td>\n",
       "      <td>103.0</td>\n",
       "      <td>1</td>\n",
       "    </tr>\n",
       "    <tr>\n",
       "      <th>4</th>\n",
       "      <td>0</td>\n",
       "      <td>46</td>\n",
       "      <td>3.0</td>\n",
       "      <td>1</td>\n",
       "      <td>23.0</td>\n",
       "      <td>0.0</td>\n",
       "      <td>0</td>\n",
       "      <td>0</td>\n",
       "      <td>0</td>\n",
       "      <td>285.0</td>\n",
       "      <td>130.0</td>\n",
       "      <td>84.0</td>\n",
       "      <td>23.10</td>\n",
       "      <td>85.0</td>\n",
       "      <td>85.0</td>\n",
       "      <td>0</td>\n",
       "    </tr>\n",
       "    <tr>\n",
       "      <th>...</th>\n",
       "      <td>...</td>\n",
       "      <td>...</td>\n",
       "      <td>...</td>\n",
       "      <td>...</td>\n",
       "      <td>...</td>\n",
       "      <td>...</td>\n",
       "      <td>...</td>\n",
       "      <td>...</td>\n",
       "      <td>...</td>\n",
       "      <td>...</td>\n",
       "      <td>...</td>\n",
       "      <td>...</td>\n",
       "      <td>...</td>\n",
       "      <td>...</td>\n",
       "      <td>...</td>\n",
       "      <td>...</td>\n",
       "    </tr>\n",
       "    <tr>\n",
       "      <th>4233</th>\n",
       "      <td>1</td>\n",
       "      <td>50</td>\n",
       "      <td>1.0</td>\n",
       "      <td>1</td>\n",
       "      <td>1.0</td>\n",
       "      <td>0.0</td>\n",
       "      <td>0</td>\n",
       "      <td>1</td>\n",
       "      <td>0</td>\n",
       "      <td>313.0</td>\n",
       "      <td>179.0</td>\n",
       "      <td>92.0</td>\n",
       "      <td>25.97</td>\n",
       "      <td>66.0</td>\n",
       "      <td>86.0</td>\n",
       "      <td>1</td>\n",
       "    </tr>\n",
       "    <tr>\n",
       "      <th>4234</th>\n",
       "      <td>1</td>\n",
       "      <td>51</td>\n",
       "      <td>3.0</td>\n",
       "      <td>1</td>\n",
       "      <td>43.0</td>\n",
       "      <td>0.0</td>\n",
       "      <td>0</td>\n",
       "      <td>0</td>\n",
       "      <td>0</td>\n",
       "      <td>207.0</td>\n",
       "      <td>126.5</td>\n",
       "      <td>80.0</td>\n",
       "      <td>19.71</td>\n",
       "      <td>65.0</td>\n",
       "      <td>68.0</td>\n",
       "      <td>0</td>\n",
       "    </tr>\n",
       "    <tr>\n",
       "      <th>4235</th>\n",
       "      <td>0</td>\n",
       "      <td>48</td>\n",
       "      <td>2.0</td>\n",
       "      <td>1</td>\n",
       "      <td>20.0</td>\n",
       "      <td>NaN</td>\n",
       "      <td>0</td>\n",
       "      <td>0</td>\n",
       "      <td>0</td>\n",
       "      <td>248.0</td>\n",
       "      <td>131.0</td>\n",
       "      <td>72.0</td>\n",
       "      <td>22.00</td>\n",
       "      <td>84.0</td>\n",
       "      <td>86.0</td>\n",
       "      <td>0</td>\n",
       "    </tr>\n",
       "    <tr>\n",
       "      <th>4236</th>\n",
       "      <td>0</td>\n",
       "      <td>44</td>\n",
       "      <td>1.0</td>\n",
       "      <td>1</td>\n",
       "      <td>15.0</td>\n",
       "      <td>0.0</td>\n",
       "      <td>0</td>\n",
       "      <td>0</td>\n",
       "      <td>0</td>\n",
       "      <td>210.0</td>\n",
       "      <td>126.5</td>\n",
       "      <td>87.0</td>\n",
       "      <td>19.16</td>\n",
       "      <td>86.0</td>\n",
       "      <td>NaN</td>\n",
       "      <td>0</td>\n",
       "    </tr>\n",
       "    <tr>\n",
       "      <th>4237</th>\n",
       "      <td>0</td>\n",
       "      <td>52</td>\n",
       "      <td>2.0</td>\n",
       "      <td>0</td>\n",
       "      <td>0.0</td>\n",
       "      <td>0.0</td>\n",
       "      <td>0</td>\n",
       "      <td>0</td>\n",
       "      <td>0</td>\n",
       "      <td>269.0</td>\n",
       "      <td>133.5</td>\n",
       "      <td>83.0</td>\n",
       "      <td>21.47</td>\n",
       "      <td>80.0</td>\n",
       "      <td>107.0</td>\n",
       "      <td>0</td>\n",
       "    </tr>\n",
       "  </tbody>\n",
       "</table>\n",
       "<p>4238 rows × 16 columns</p>\n",
       "</div>"
      ],
      "text/plain": [
       "      male  age  education  currentSmoker  cigsPerDay  BPMeds  \\\n",
       "0        1   39        4.0              0         0.0     0.0   \n",
       "1        0   46        2.0              0         0.0     0.0   \n",
       "2        1   48        1.0              1        20.0     0.0   \n",
       "3        0   61        3.0              1        30.0     0.0   \n",
       "4        0   46        3.0              1        23.0     0.0   \n",
       "...    ...  ...        ...            ...         ...     ...   \n",
       "4233     1   50        1.0              1         1.0     0.0   \n",
       "4234     1   51        3.0              1        43.0     0.0   \n",
       "4235     0   48        2.0              1        20.0     NaN   \n",
       "4236     0   44        1.0              1        15.0     0.0   \n",
       "4237     0   52        2.0              0         0.0     0.0   \n",
       "\n",
       "      prevalentStroke  prevalentHyp  diabetes  totChol  sysBP  diaBP    BMI  \\\n",
       "0                   0             0         0    195.0  106.0   70.0  26.97   \n",
       "1                   0             0         0    250.0  121.0   81.0  28.73   \n",
       "2                   0             0         0    245.0  127.5   80.0  25.34   \n",
       "3                   0             1         0    225.0  150.0   95.0  28.58   \n",
       "4                   0             0         0    285.0  130.0   84.0  23.10   \n",
       "...               ...           ...       ...      ...    ...    ...    ...   \n",
       "4233                0             1         0    313.0  179.0   92.0  25.97   \n",
       "4234                0             0         0    207.0  126.5   80.0  19.71   \n",
       "4235                0             0         0    248.0  131.0   72.0  22.00   \n",
       "4236                0             0         0    210.0  126.5   87.0  19.16   \n",
       "4237                0             0         0    269.0  133.5   83.0  21.47   \n",
       "\n",
       "      heartRate  glucose  TenYearCHD  \n",
       "0          80.0     77.0           0  \n",
       "1          95.0     76.0           0  \n",
       "2          75.0     70.0           0  \n",
       "3          65.0    103.0           1  \n",
       "4          85.0     85.0           0  \n",
       "...         ...      ...         ...  \n",
       "4233       66.0     86.0           1  \n",
       "4234       65.0     68.0           0  \n",
       "4235       84.0     86.0           0  \n",
       "4236       86.0      NaN           0  \n",
       "4237       80.0    107.0           0  \n",
       "\n",
       "[4238 rows x 16 columns]"
      ]
     },
     "execution_count": 1,
     "metadata": {},
     "output_type": "execute_result"
    }
   ],
   "source": [
    "import numpy as np\n",
    "import pandas as pd\n",
    "import matplotlib.pyplot as plt\n",
    "import seaborn as sns\n",
    "df = pd.read_csv('framingham.csv')\n",
    "df\n"
   ]
  },
  {
   "cell_type": "code",
   "execution_count": 2,
   "id": "a24dfdc0",
   "metadata": {},
   "outputs": [
    {
     "data": {
      "text/plain": [
       "(4238, 16)"
      ]
     },
     "execution_count": 2,
     "metadata": {},
     "output_type": "execute_result"
    }
   ],
   "source": [
    "df.shape"
   ]
  },
  {
   "cell_type": "code",
   "execution_count": 3,
   "id": "a2aafe66",
   "metadata": {},
   "outputs": [
    {
     "name": "stdout",
     "output_type": "stream",
     "text": [
      "<class 'pandas.core.frame.DataFrame'>\n",
      "RangeIndex: 4238 entries, 0 to 4237\n",
      "Data columns (total 16 columns):\n",
      " #   Column           Non-Null Count  Dtype  \n",
      "---  ------           --------------  -----  \n",
      " 0   male             4238 non-null   int64  \n",
      " 1   age              4238 non-null   int64  \n",
      " 2   education        4133 non-null   float64\n",
      " 3   currentSmoker    4238 non-null   int64  \n",
      " 4   cigsPerDay       4209 non-null   float64\n",
      " 5   BPMeds           4185 non-null   float64\n",
      " 6   prevalentStroke  4238 non-null   int64  \n",
      " 7   prevalentHyp     4238 non-null   int64  \n",
      " 8   diabetes         4238 non-null   int64  \n",
      " 9   totChol          4188 non-null   float64\n",
      " 10  sysBP            4238 non-null   float64\n",
      " 11  diaBP            4238 non-null   float64\n",
      " 12  BMI              4219 non-null   float64\n",
      " 13  heartRate        4237 non-null   float64\n",
      " 14  glucose          3850 non-null   float64\n",
      " 15  TenYearCHD       4238 non-null   int64  \n",
      "dtypes: float64(9), int64(7)\n",
      "memory usage: 529.9 KB\n"
     ]
    }
   ],
   "source": [
    "df.info()"
   ]
  },
  {
   "cell_type": "code",
   "execution_count": 4,
   "id": "c16d4b32",
   "metadata": {},
   "outputs": [
    {
     "data": {
      "text/html": [
       "<div>\n",
       "<style scoped>\n",
       "    .dataframe tbody tr th:only-of-type {\n",
       "        vertical-align: middle;\n",
       "    }\n",
       "\n",
       "    .dataframe tbody tr th {\n",
       "        vertical-align: top;\n",
       "    }\n",
       "\n",
       "    .dataframe thead th {\n",
       "        text-align: right;\n",
       "    }\n",
       "</style>\n",
       "<table border=\"1\" class=\"dataframe\">\n",
       "  <thead>\n",
       "    <tr style=\"text-align: right;\">\n",
       "      <th></th>\n",
       "      <th>male</th>\n",
       "      <th>age</th>\n",
       "      <th>education</th>\n",
       "      <th>currentSmoker</th>\n",
       "      <th>cigsPerDay</th>\n",
       "      <th>BPMeds</th>\n",
       "      <th>prevalentStroke</th>\n",
       "      <th>prevalentHyp</th>\n",
       "      <th>diabetes</th>\n",
       "      <th>totChol</th>\n",
       "      <th>sysBP</th>\n",
       "      <th>diaBP</th>\n",
       "      <th>BMI</th>\n",
       "      <th>heartRate</th>\n",
       "      <th>glucose</th>\n",
       "      <th>TenYearCHD</th>\n",
       "    </tr>\n",
       "  </thead>\n",
       "  <tbody>\n",
       "    <tr>\n",
       "      <th>count</th>\n",
       "      <td>4238.000000</td>\n",
       "      <td>4238.000000</td>\n",
       "      <td>4133.000000</td>\n",
       "      <td>4238.000000</td>\n",
       "      <td>4209.000000</td>\n",
       "      <td>4185.000000</td>\n",
       "      <td>4238.000000</td>\n",
       "      <td>4238.000000</td>\n",
       "      <td>4238.000000</td>\n",
       "      <td>4188.000000</td>\n",
       "      <td>4238.000000</td>\n",
       "      <td>4238.000000</td>\n",
       "      <td>4219.000000</td>\n",
       "      <td>4237.000000</td>\n",
       "      <td>3850.000000</td>\n",
       "      <td>4238.000000</td>\n",
       "    </tr>\n",
       "    <tr>\n",
       "      <th>mean</th>\n",
       "      <td>0.429212</td>\n",
       "      <td>49.584946</td>\n",
       "      <td>1.978950</td>\n",
       "      <td>0.494101</td>\n",
       "      <td>9.003089</td>\n",
       "      <td>0.029630</td>\n",
       "      <td>0.005899</td>\n",
       "      <td>0.310524</td>\n",
       "      <td>0.025720</td>\n",
       "      <td>236.721585</td>\n",
       "      <td>132.352407</td>\n",
       "      <td>82.893464</td>\n",
       "      <td>25.802008</td>\n",
       "      <td>75.878924</td>\n",
       "      <td>81.966753</td>\n",
       "      <td>0.151958</td>\n",
       "    </tr>\n",
       "    <tr>\n",
       "      <th>std</th>\n",
       "      <td>0.495022</td>\n",
       "      <td>8.572160</td>\n",
       "      <td>1.019791</td>\n",
       "      <td>0.500024</td>\n",
       "      <td>11.920094</td>\n",
       "      <td>0.169584</td>\n",
       "      <td>0.076587</td>\n",
       "      <td>0.462763</td>\n",
       "      <td>0.158316</td>\n",
       "      <td>44.590334</td>\n",
       "      <td>22.038097</td>\n",
       "      <td>11.910850</td>\n",
       "      <td>4.080111</td>\n",
       "      <td>12.026596</td>\n",
       "      <td>23.959998</td>\n",
       "      <td>0.359023</td>\n",
       "    </tr>\n",
       "    <tr>\n",
       "      <th>min</th>\n",
       "      <td>0.000000</td>\n",
       "      <td>32.000000</td>\n",
       "      <td>1.000000</td>\n",
       "      <td>0.000000</td>\n",
       "      <td>0.000000</td>\n",
       "      <td>0.000000</td>\n",
       "      <td>0.000000</td>\n",
       "      <td>0.000000</td>\n",
       "      <td>0.000000</td>\n",
       "      <td>107.000000</td>\n",
       "      <td>83.500000</td>\n",
       "      <td>48.000000</td>\n",
       "      <td>15.540000</td>\n",
       "      <td>44.000000</td>\n",
       "      <td>40.000000</td>\n",
       "      <td>0.000000</td>\n",
       "    </tr>\n",
       "    <tr>\n",
       "      <th>25%</th>\n",
       "      <td>0.000000</td>\n",
       "      <td>42.000000</td>\n",
       "      <td>1.000000</td>\n",
       "      <td>0.000000</td>\n",
       "      <td>0.000000</td>\n",
       "      <td>0.000000</td>\n",
       "      <td>0.000000</td>\n",
       "      <td>0.000000</td>\n",
       "      <td>0.000000</td>\n",
       "      <td>206.000000</td>\n",
       "      <td>117.000000</td>\n",
       "      <td>75.000000</td>\n",
       "      <td>23.070000</td>\n",
       "      <td>68.000000</td>\n",
       "      <td>71.000000</td>\n",
       "      <td>0.000000</td>\n",
       "    </tr>\n",
       "    <tr>\n",
       "      <th>50%</th>\n",
       "      <td>0.000000</td>\n",
       "      <td>49.000000</td>\n",
       "      <td>2.000000</td>\n",
       "      <td>0.000000</td>\n",
       "      <td>0.000000</td>\n",
       "      <td>0.000000</td>\n",
       "      <td>0.000000</td>\n",
       "      <td>0.000000</td>\n",
       "      <td>0.000000</td>\n",
       "      <td>234.000000</td>\n",
       "      <td>128.000000</td>\n",
       "      <td>82.000000</td>\n",
       "      <td>25.400000</td>\n",
       "      <td>75.000000</td>\n",
       "      <td>78.000000</td>\n",
       "      <td>0.000000</td>\n",
       "    </tr>\n",
       "    <tr>\n",
       "      <th>75%</th>\n",
       "      <td>1.000000</td>\n",
       "      <td>56.000000</td>\n",
       "      <td>3.000000</td>\n",
       "      <td>1.000000</td>\n",
       "      <td>20.000000</td>\n",
       "      <td>0.000000</td>\n",
       "      <td>0.000000</td>\n",
       "      <td>1.000000</td>\n",
       "      <td>0.000000</td>\n",
       "      <td>263.000000</td>\n",
       "      <td>144.000000</td>\n",
       "      <td>89.875000</td>\n",
       "      <td>28.040000</td>\n",
       "      <td>83.000000</td>\n",
       "      <td>87.000000</td>\n",
       "      <td>0.000000</td>\n",
       "    </tr>\n",
       "    <tr>\n",
       "      <th>max</th>\n",
       "      <td>1.000000</td>\n",
       "      <td>70.000000</td>\n",
       "      <td>4.000000</td>\n",
       "      <td>1.000000</td>\n",
       "      <td>70.000000</td>\n",
       "      <td>1.000000</td>\n",
       "      <td>1.000000</td>\n",
       "      <td>1.000000</td>\n",
       "      <td>1.000000</td>\n",
       "      <td>696.000000</td>\n",
       "      <td>295.000000</td>\n",
       "      <td>142.500000</td>\n",
       "      <td>56.800000</td>\n",
       "      <td>143.000000</td>\n",
       "      <td>394.000000</td>\n",
       "      <td>1.000000</td>\n",
       "    </tr>\n",
       "  </tbody>\n",
       "</table>\n",
       "</div>"
      ],
      "text/plain": [
       "              male          age    education  currentSmoker   cigsPerDay  \\\n",
       "count  4238.000000  4238.000000  4133.000000    4238.000000  4209.000000   \n",
       "mean      0.429212    49.584946     1.978950       0.494101     9.003089   \n",
       "std       0.495022     8.572160     1.019791       0.500024    11.920094   \n",
       "min       0.000000    32.000000     1.000000       0.000000     0.000000   \n",
       "25%       0.000000    42.000000     1.000000       0.000000     0.000000   \n",
       "50%       0.000000    49.000000     2.000000       0.000000     0.000000   \n",
       "75%       1.000000    56.000000     3.000000       1.000000    20.000000   \n",
       "max       1.000000    70.000000     4.000000       1.000000    70.000000   \n",
       "\n",
       "            BPMeds  prevalentStroke  prevalentHyp     diabetes      totChol  \\\n",
       "count  4185.000000      4238.000000   4238.000000  4238.000000  4188.000000   \n",
       "mean      0.029630         0.005899      0.310524     0.025720   236.721585   \n",
       "std       0.169584         0.076587      0.462763     0.158316    44.590334   \n",
       "min       0.000000         0.000000      0.000000     0.000000   107.000000   \n",
       "25%       0.000000         0.000000      0.000000     0.000000   206.000000   \n",
       "50%       0.000000         0.000000      0.000000     0.000000   234.000000   \n",
       "75%       0.000000         0.000000      1.000000     0.000000   263.000000   \n",
       "max       1.000000         1.000000      1.000000     1.000000   696.000000   \n",
       "\n",
       "             sysBP        diaBP          BMI    heartRate      glucose  \\\n",
       "count  4238.000000  4238.000000  4219.000000  4237.000000  3850.000000   \n",
       "mean    132.352407    82.893464    25.802008    75.878924    81.966753   \n",
       "std      22.038097    11.910850     4.080111    12.026596    23.959998   \n",
       "min      83.500000    48.000000    15.540000    44.000000    40.000000   \n",
       "25%     117.000000    75.000000    23.070000    68.000000    71.000000   \n",
       "50%     128.000000    82.000000    25.400000    75.000000    78.000000   \n",
       "75%     144.000000    89.875000    28.040000    83.000000    87.000000   \n",
       "max     295.000000   142.500000    56.800000   143.000000   394.000000   \n",
       "\n",
       "        TenYearCHD  \n",
       "count  4238.000000  \n",
       "mean      0.151958  \n",
       "std       0.359023  \n",
       "min       0.000000  \n",
       "25%       0.000000  \n",
       "50%       0.000000  \n",
       "75%       0.000000  \n",
       "max       1.000000  "
      ]
     },
     "execution_count": 4,
     "metadata": {},
     "output_type": "execute_result"
    }
   ],
   "source": [
    "df.describe()"
   ]
  },
  {
   "cell_type": "code",
   "execution_count": null,
   "id": "aa83374d",
   "metadata": {},
   "outputs": [],
   "source": [
    "# 2. PRE PROCESSING"
   ]
  },
  {
   "cell_type": "code",
   "execution_count": 5,
   "id": "6f6f6385",
   "metadata": {},
   "outputs": [],
   "source": [
    "# i)MISSING VALUES"
   ]
  },
  {
   "cell_type": "code",
   "execution_count": 6,
   "id": "c6eb25b7",
   "metadata": {},
   "outputs": [
    {
     "data": {
      "text/plain": [
       "male                 0\n",
       "age                  0\n",
       "education          105\n",
       "currentSmoker        0\n",
       "cigsPerDay          29\n",
       "BPMeds              53\n",
       "prevalentStroke      0\n",
       "prevalentHyp         0\n",
       "diabetes             0\n",
       "totChol             50\n",
       "sysBP                0\n",
       "diaBP                0\n",
       "BMI                 19\n",
       "heartRate            1\n",
       "glucose            388\n",
       "TenYearCHD           0\n",
       "dtype: int64"
      ]
     },
     "execution_count": 6,
     "metadata": {},
     "output_type": "execute_result"
    }
   ],
   "source": [
    "df.isna().sum()"
   ]
  },
  {
   "cell_type": "code",
   "execution_count": 7,
   "id": "df38498a",
   "metadata": {},
   "outputs": [],
   "source": [
    "df['education'].fillna(df['education'].median(), inplace = True)"
   ]
  },
  {
   "cell_type": "code",
   "execution_count": 8,
   "id": "c1796ad1",
   "metadata": {},
   "outputs": [],
   "source": [
    "df.dropna(subset=['heartRate'],inplace=True)"
   ]
  },
  {
   "cell_type": "code",
   "execution_count": 9,
   "id": "901f2997",
   "metadata": {},
   "outputs": [],
   "source": [
    "df['cigsPerDay'].fillna(df['cigsPerDay'].median(), inplace = True)"
   ]
  },
  {
   "cell_type": "code",
   "execution_count": 10,
   "id": "2694fc21",
   "metadata": {},
   "outputs": [],
   "source": [
    "df['BPMeds'].fillna(df['BPMeds'].median(), inplace = True)"
   ]
  },
  {
   "cell_type": "code",
   "execution_count": 11,
   "id": "1724b41b",
   "metadata": {},
   "outputs": [],
   "source": [
    "df['totChol'].fillna(df['totChol'].median(), inplace = True)"
   ]
  },
  {
   "cell_type": "code",
   "execution_count": 12,
   "id": "84d62e18",
   "metadata": {},
   "outputs": [],
   "source": [
    "df['BMI'].fillna(df['BMI'].median(), inplace = True)"
   ]
  },
  {
   "cell_type": "code",
   "execution_count": 13,
   "id": "6aea475c",
   "metadata": {},
   "outputs": [],
   "source": [
    "df['glucose'].fillna(df['glucose'].median(), inplace = True)"
   ]
  },
  {
   "cell_type": "code",
   "execution_count": 14,
   "id": "c7619467",
   "metadata": {},
   "outputs": [
    {
     "data": {
      "text/plain": [
       "male               0\n",
       "age                0\n",
       "education          0\n",
       "currentSmoker      0\n",
       "cigsPerDay         0\n",
       "BPMeds             0\n",
       "prevalentStroke    0\n",
       "prevalentHyp       0\n",
       "diabetes           0\n",
       "totChol            0\n",
       "sysBP              0\n",
       "diaBP              0\n",
       "BMI                0\n",
       "heartRate          0\n",
       "glucose            0\n",
       "TenYearCHD         0\n",
       "dtype: int64"
      ]
     },
     "execution_count": 14,
     "metadata": {},
     "output_type": "execute_result"
    }
   ],
   "source": [
    "df.isna().sum()"
   ]
  },
  {
   "cell_type": "code",
   "execution_count": 15,
   "id": "52772856",
   "metadata": {},
   "outputs": [],
   "source": [
    "# 2) OUTLIER DETECTION AND HANDLING"
   ]
  },
  {
   "cell_type": "code",
   "execution_count": 16,
   "id": "a72154dc",
   "metadata": {},
   "outputs": [],
   "source": [
    "import warnings\n",
    "warnings.filterwarnings('ignore')"
   ]
  },
  {
   "cell_type": "code",
   "execution_count": 17,
   "id": "d9628788",
   "metadata": {},
   "outputs": [
    {
     "data": {
      "text/plain": [
       "<AxesSubplot:xlabel='age'>"
      ]
     },
     "execution_count": 17,
     "metadata": {},
     "output_type": "execute_result"
    },
    {
     "data": {
      "image/png": "[encoded data removed]",
      "text/plain": [
       "<Figure size 432x288 with 1 Axes>"
      ]
     },
     "metadata": {
      "needs_background": "light"
     },
     "output_type": "display_data"
    }
   ],
   "source": [
    "sns.boxplot(df['age'])"
   ]
  },
  {
   "cell_type": "code",
   "execution_count": 18,
   "id": "7ce52fbe",
   "metadata": {},
   "outputs": [
    {
     "data": {
      "text/plain": [
       "<AxesSubplot:xlabel='cigsPerDay'>"
      ]
     },
     "execution_count": 18,
     "metadata": {},
     "output_type": "execute_result"
    },
    {
     "data": {
      "image/png": "[encoded data removed]",
      "text/plain": [
       "<Figure size 432x288 with 1 Axes>"
      ]
     },
     "metadata": {
      "needs_background": "light"
     },
     "output_type": "display_data"
    }
   ],
   "source": [
    "sns.boxplot(df['cigsPerDay'])"
   ]
  },
  {
   "cell_type": "code",
   "execution_count": 19,
   "id": "f771a3b3",
   "metadata": {},
   "outputs": [
    {
     "data": {
      "text/plain": [
       "[60.0, 60.0, 60.0, 60.0, 60.0, 60.0, 60.0, 60.0, 60.0, 70.0, 60.0, 60.0]"
      ]
     },
     "execution_count": 19,
     "metadata": {},
     "output_type": "execute_result"
    }
   ],
   "source": [
    "Q1 = np.percentile(df['cigsPerDay'],25,interpolation='midpoint')\n",
    "Q2 = np.percentile(df['cigsPerDay'],50,interpolation='midpoint')\n",
    "Q3 = np.percentile(df['cigsPerDay'],75,interpolation='midpoint')\n",
    "IQR = Q3-Q1\n",
    "low_limit = Q1-1.5*IQR     \n",
    "up_limit = Q3 + 1.5*IQR\n",
    "outlier = []\n",
    "for x in df['cigsPerDay']:\n",
    "    if (x > up_limit) or (x < low_limit):\n",
    "        outlier.append(x)\n",
    "outlier "
   ]
  },
  {
   "cell_type": "code",
   "execution_count": 20,
   "id": "af4e3f83",
   "metadata": {},
   "outputs": [
    {
     "data": {
      "text/plain": [
       "<AxesSubplot:xlabel='cigsPerDay'>"
      ]
     },
     "execution_count": 20,
     "metadata": {},
     "output_type": "execute_result"
    },
    {
     "data": {
      "image/png": "[encoded data removed]",
      "text/plain": [
       "<Figure size 432x288 with 1 Axes>"
      ]
     },
     "metadata": {
      "needs_background": "light"
     },
     "output_type": "display_data"
    }
   ],
   "source": [
    "Q1=np.percentile(df['cigsPerDay'],25)\n",
    "M=np.percentile(df['cigsPerDay'],50)\n",
    "Q3=np.percentile(df['cigsPerDay'],75)\n",
    "IQR=Q3-Q1\n",
    "outliner_index=df[(df['cigsPerDay']>(Q3+1.5*IQR)) | (df['cigsPerDay']<(Q1-1.5*IQR))].index\n",
    "df.loc[list(outliner_index),'cigsPerDay']=M\n",
    "sns.boxplot(x=df.cigsPerDay)"
   ]
  },
  {
   "cell_type": "code",
   "execution_count": 21,
   "id": "a118128a",
   "metadata": {},
   "outputs": [
    {
     "data": {
      "text/plain": [
       "<AxesSubplot:xlabel='totChol'>"
      ]
     },
     "execution_count": 21,
     "metadata": {},
     "output_type": "execute_result"
    },
    {
     "data": {
      "image/png": "[encoded data removed]",
      "text/plain": [
       "<Figure size 432x288 with 1 Axes>"
      ]
     },
     "metadata": {
      "needs_background": "light"
     },
     "output_type": "display_data"
    }
   ],
   "source": [
    "sns.boxplot(df['totChol'])"
   ]
  },
  {
   "cell_type": "code",
   "execution_count": 22,
   "id": "c07d963d",
   "metadata": {},
   "outputs": [
    {
     "data": {
      "text/plain": [
       "[464.0,\n",
       " 352.0,\n",
       " 368.0,\n",
       " 370.0,\n",
       " 439.0,\n",
       " 398.0,\n",
       " 355.0,\n",
       " 353.0,\n",
       " 360.0,\n",
       " 372.0,\n",
       " 352.0,\n",
       " 600.0,\n",
       " 392.0,\n",
       " 358.0,\n",
       " 391.0,\n",
       " 410.0,\n",
       " 356.0,\n",
       " 107.0,\n",
       " 372.0,\n",
       " 366.0,\n",
       " 365.0,\n",
       " 362.0,\n",
       " 410.0,\n",
       " 351.0,\n",
       " 390.0,\n",
       " 405.0,\n",
       " 359.0,\n",
       " 350.0,\n",
       " 380.0,\n",
       " 355.0,\n",
       " 390.0,\n",
       " 371.0,\n",
       " 113.0,\n",
       " 350.0,\n",
       " 354.0,\n",
       " 382.0,\n",
       " 364.0,\n",
       " 367.0,\n",
       " 352.0,\n",
       " 432.0,\n",
       " 351.0,\n",
       " 696.0,\n",
       " 363.0,\n",
       " 382.0,\n",
       " 361.0,\n",
       " 453.0,\n",
       " 352.0,\n",
       " 366.0,\n",
       " 410.0,\n",
       " 350.0,\n",
       " 391.0,\n",
       " 358.0,\n",
       " 347.0,\n",
       " 373.0,\n",
       " 385.0,\n",
       " 366.0,\n",
       " 119.0]"
      ]
     },
     "execution_count": 22,
     "metadata": {},
     "output_type": "execute_result"
    }
   ],
   "source": [
    "Q1 = np.percentile(df['totChol'],25,interpolation='midpoint')\n",
    "Q2 = np.percentile(df['totChol'],50,interpolation='midpoint')\n",
    "Q3 = np.percentile(df['totChol'],75,interpolation='midpoint')\n",
    "IQR = Q3-Q1\n",
    "low_limit = Q1-1.5*IQR     \n",
    "up_limit = Q3 + 1.5*IQR\n",
    "outlier = []\n",
    "for x in df['totChol']:\n",
    "    if (x > up_limit) or (x < low_limit):\n",
    "        outlier.append(x)\n",
    "outlier "
   ]
  },
  {
   "cell_type": "code",
   "execution_count": 23,
   "id": "be310a54",
   "metadata": {},
   "outputs": [
    {
     "data": {
      "text/plain": [
       "<AxesSubplot:xlabel='totChol'>"
      ]
     },
     "execution_count": 23,
     "metadata": {},
     "output_type": "execute_result"
    },
    {
     "data": {
      "image/png": "[encoded data removed]",
      "text/plain": [
       "<Figure size 432x288 with 1 Axes>"
      ]
     },
     "metadata": {
      "needs_background": "light"
     },
     "output_type": "display_data"
    }
   ],
   "source": [
    "Q1=np.percentile(df['totChol'],25)\n",
    "M=np.percentile(df['totChol'],50)\n",
    "Q3=np.percentile(df['totChol'],75)\n",
    "IQR=Q3-Q1\n",
    "outliner_index=df[(df['totChol']>(Q3+1.5*IQR)) | (df['totChol']<(Q1-1.5*IQR))].index\n",
    "df.loc[list(outliner_index),'totChol']=M\n",
    "sns.boxplot(x=df.totChol)"
   ]
  },
  {
   "cell_type": "code",
   "execution_count": null,
   "id": "a1ec89fe",
   "metadata": {},
   "outputs": [],
   "source": [
    "#5) STANDARDIZATION"
   ]
  },
  {
   "cell_type": "code",
   "execution_count": 24,
   "id": "28cf2473",
   "metadata": {},
   "outputs": [],
   "source": [
    "import sklearn\n",
    "from sklearn import preprocessing as per\n",
    "from sklearn.preprocessing import StandardScaler\n"
   ]
  },
  {
   "cell_type": "code",
   "execution_count": 25,
   "id": "be57e33e",
   "metadata": {},
   "outputs": [
    {
     "name": "stdout",
     "output_type": "stream",
     "text": [
      "          male       age  education  currentSmoker  cigsPerDay    BPMeds  \\\n",
      "0     1.153509 -1.234820   2.006317      -0.988035   -0.756806 -0.173633   \n",
      "1    -0.866920 -0.417951   0.020157      -0.988035   -0.756806 -0.173633   \n",
      "2     1.153509 -0.184559  -0.972923       1.012110    0.969671 -0.173633   \n",
      "3    -0.866920  1.332484   1.013237       1.012110    1.832910 -0.173633   \n",
      "4    -0.866920 -0.417951   1.013237       1.012110    1.228643 -0.173633   \n",
      "...        ...       ...        ...            ...         ...       ...   \n",
      "4233  1.153509  0.048832  -0.972923       1.012110   -0.670482 -0.173633   \n",
      "4234  1.153509  0.165528   1.013237       1.012110    2.955119 -0.173633   \n",
      "4235 -0.866920 -0.184559   0.020157       1.012110    0.969671 -0.173633   \n",
      "4236 -0.866920 -0.651342  -0.972923       1.012110    0.538052 -0.173633   \n",
      "4237 -0.866920  0.282223   0.020157      -0.988035   -0.756806 -0.173633   \n",
      "\n",
      "      prevalentStroke  prevalentHyp  diabetes   totChol     sysBP     diaBP  \\\n",
      "0           -0.077042     -0.670846 -0.162496 -0.988695 -1.195805 -1.082710   \n",
      "1           -0.077042     -0.670846 -0.162496  0.375962 -0.514898 -0.159134   \n",
      "2           -0.077042     -0.670846 -0.162496  0.251902 -0.219839 -0.243096   \n",
      "3           -0.077042      1.490655 -0.162496 -0.244336  0.801521  1.016326   \n",
      "4           -0.077042     -0.670846 -0.162496  1.244380 -0.106354  0.092750   \n",
      "...               ...           ...       ...       ...       ...       ...   \n",
      "4233        -0.077042      1.490655 -0.162496  1.939115  2.117940  0.764441   \n",
      "4234        -0.077042     -0.670846 -0.162496 -0.690952 -0.265233 -0.243096   \n",
      "4235        -0.077042     -0.670846 -0.162496  0.326338 -0.060961 -0.914787   \n",
      "4236        -0.077042     -0.670846 -0.162496 -0.616516 -0.265233  0.344634   \n",
      "4237        -0.077042     -0.670846 -0.162496  0.847389  0.052524  0.008789   \n",
      "\n",
      "           BMI  heartRate   glucose  TenYearCHD  \n",
      "0     0.287578   0.342704 -0.201243   -0.422977  \n",
      "1     0.719937   1.590087 -0.244978   -0.422977  \n",
      "2    -0.112846  -0.073090 -0.507390   -0.422977  \n",
      "3     0.683088  -0.904679  0.935877    2.364196  \n",
      "4    -0.663121   0.758498  0.148640   -0.422977  \n",
      "...        ...        ...       ...         ...  \n",
      "4233  0.041919  -0.821520  0.192376    2.364196  \n",
      "4234 -1.495903  -0.904679 -0.594861   -0.422977  \n",
      "4235 -0.933345   0.675339  0.192376   -0.422977  \n",
      "4236 -1.631016   0.841657 -0.157507   -0.422977  \n",
      "4237 -1.063544   0.342704  1.110818   -0.422977  \n",
      "\n",
      "[4237 rows x 16 columns]\n"
     ]
    }
   ],
   "source": [
    "scaler=StandardScaler().fit(df)\n",
    "standardizedData=scaler.transform(df)\n",
    "standardizedData=pd.DataFrame(standardizedData,index=df.index,columns=df.columns)\n",
    "print(standardizedData)"
   ]
  },
  {
   "cell_type": "code",
   "execution_count": null,
   "id": "a97b7c06",
   "metadata": {},
   "outputs": [],
   "source": [
    "# NORMALIZATION"
   ]
  },
  {
   "cell_type": "code",
   "execution_count": 26,
   "id": "4dc0945c",
   "metadata": {},
   "outputs": [],
   "source": [
    "from sklearn.preprocessing import Normalizer"
   ]
  },
  {
   "cell_type": "code",
   "execution_count": 27,
   "id": "4f6328b8",
   "metadata": {},
   "outputs": [
    {
     "name": "stdout",
     "output_type": "stream",
     "text": [
      "          male       age  education  currentSmoker  cigsPerDay  BPMeds  \\\n",
      "0     0.003814  0.148734   0.015255       0.000000    0.000000     0.0   \n",
      "1     0.000000  0.144423   0.006279       0.000000    0.000000     0.0   \n",
      "2     0.003218  0.154473   0.003218       0.003218    0.064364     0.0   \n",
      "3     0.000000  0.190594   0.009373       0.003124    0.093735     0.0   \n",
      "4     0.000000  0.131257   0.008560       0.002853    0.065629     0.0   \n",
      "...        ...       ...        ...            ...         ...     ...   \n",
      "4233  0.002553  0.127658   0.002553       0.002553    0.002553     0.0   \n",
      "4234  0.003559  0.181508   0.010677       0.003559    0.153036     0.0   \n",
      "4235  0.000000  0.150668   0.006278       0.003139    0.062778     0.0   \n",
      "4236  0.000000  0.152103   0.003457       0.003457    0.051853     0.0   \n",
      "4237  0.000000  0.151320   0.005820       0.000000    0.000000     0.0   \n",
      "\n",
      "      prevalentStroke  prevalentHyp  diabetes   totChol     sysBP     diaBP  \\\n",
      "0                 0.0      0.000000       0.0  0.743672  0.404252  0.266959   \n",
      "1                 0.0      0.000000       0.0  0.784906  0.379894  0.254309   \n",
      "2                 0.0      0.000000       0.0  0.788457  0.410319  0.257455   \n",
      "3                 0.0      0.003124       0.0  0.703009  0.468673  0.296826   \n",
      "4                 0.0      0.000000       0.0  0.813226  0.370945  0.239688   \n",
      "...               ...           ...       ...       ...       ...       ...   \n",
      "4233              0.0      0.002553       0.0  0.799139  0.457016  0.234891   \n",
      "4234              0.0      0.000000       0.0  0.736707  0.450210  0.284718   \n",
      "4235              0.0      0.000000       0.0  0.778451  0.411198  0.226002   \n",
      "4236              0.0      0.000000       0.0  0.725947  0.437297  0.300749   \n",
      "4237              0.0      0.000000       0.0  0.782790  0.388485  0.241530   \n",
      "\n",
      "           BMI  heartRate   glucose  TenYearCHD  \n",
      "0     0.102856   0.305096  0.293655    0.000000  \n",
      "1     0.090201   0.298264  0.238611    0.000000  \n",
      "2     0.081549   0.241364  0.225273    0.000000  \n",
      "3     0.089298   0.203091  0.321822    0.003124  \n",
      "4     0.065914   0.242541  0.242541    0.000000  \n",
      "...        ...        ...       ...         ...  \n",
      "4233  0.066306   0.168509  0.219572    0.002553  \n",
      "4234  0.070147   0.231333  0.242010    0.000000  \n",
      "4235  0.069056   0.263669  0.269947    0.000000  \n",
      "4236  0.066234   0.297293  0.269637    0.000000  \n",
      "4237  0.062478   0.232800  0.311370    0.000000  \n",
      "\n",
      "[4237 rows x 16 columns]\n"
     ]
    }
   ],
   "source": [
    "scaler=Normalizer().fit(df)\n",
    "normalizeData=scaler.transform(df)\n",
    "normalizeData=pd.DataFrame(normalizeData,index=df.index,columns=df.columns)\n",
    "print(normalizeData)"
   ]
  },
  {
   "cell_type": "code",
   "execution_count": null,
   "id": "15cec99b",
   "metadata": {},
   "outputs": [],
   "source": [
    "# BINARIZER"
   ]
  },
  {
   "cell_type": "code",
   "execution_count": 28,
   "id": "833404da",
   "metadata": {},
   "outputs": [],
   "source": [
    "from sklearn.preprocessing import Binarizer"
   ]
  },
  {
   "cell_type": "code",
   "execution_count": 29,
   "id": "795cbac1",
   "metadata": {},
   "outputs": [
    {
     "name": "stdout",
     "output_type": "stream",
     "text": [
      "      male  age  education  currentSmoker  cigsPerDay  BPMeds  \\\n",
      "0      1.0  1.0        1.0            0.0         0.0     0.0   \n",
      "1      0.0  1.0        1.0            0.0         0.0     0.0   \n",
      "2      1.0  1.0        1.0            1.0         1.0     0.0   \n",
      "3      0.0  1.0        1.0            1.0         1.0     0.0   \n",
      "4      0.0  1.0        1.0            1.0         1.0     0.0   \n",
      "...    ...  ...        ...            ...         ...     ...   \n",
      "4233   1.0  1.0        1.0            1.0         1.0     0.0   \n",
      "4234   1.0  1.0        1.0            1.0         1.0     0.0   \n",
      "4235   0.0  1.0        1.0            1.0         1.0     0.0   \n",
      "4236   0.0  1.0        1.0            1.0         1.0     0.0   \n",
      "4237   0.0  1.0        1.0            0.0         0.0     0.0   \n",
      "\n",
      "      prevalentStroke  prevalentHyp  diabetes  totChol  sysBP  diaBP  BMI  \\\n",
      "0                 0.0           0.0       0.0      1.0    1.0    1.0  1.0   \n",
      "1                 0.0           0.0       0.0      1.0    1.0    1.0  1.0   \n",
      "2                 0.0           0.0       0.0      1.0    1.0    1.0  1.0   \n",
      "3                 0.0           1.0       0.0      1.0    1.0    1.0  1.0   \n",
      "4                 0.0           0.0       0.0      1.0    1.0    1.0  1.0   \n",
      "...               ...           ...       ...      ...    ...    ...  ...   \n",
      "4233              0.0           1.0       0.0      1.0    1.0    1.0  1.0   \n",
      "4234              0.0           0.0       0.0      1.0    1.0    1.0  1.0   \n",
      "4235              0.0           0.0       0.0      1.0    1.0    1.0  1.0   \n",
      "4236              0.0           0.0       0.0      1.0    1.0    1.0  1.0   \n",
      "4237              0.0           0.0       0.0      1.0    1.0    1.0  1.0   \n",
      "\n",
      "      heartRate  glucose  TenYearCHD  \n",
      "0           1.0      1.0         0.0  \n",
      "1           1.0      1.0         0.0  \n",
      "2           1.0      1.0         0.0  \n",
      "3           1.0      1.0         1.0  \n",
      "4           1.0      1.0         0.0  \n",
      "...         ...      ...         ...  \n",
      "4233        1.0      1.0         1.0  \n",
      "4234        1.0      1.0         0.0  \n",
      "4235        1.0      1.0         0.0  \n",
      "4236        1.0      1.0         0.0  \n",
      "4237        1.0      1.0         0.0  \n",
      "\n",
      "[4237 rows x 16 columns]\n"
     ]
    }
   ],
   "source": [
    "binarizer=Binarizer(threshold=0.0).fit(df)\n",
    "binData=binarizer.transform(df)\n",
    "binData=pd.DataFrame(binData,index=df.index,columns=df.columns)\n",
    "print(binData)"
   ]
  },
  {
   "cell_type": "code",
   "execution_count": null,
   "id": "b355048f",
   "metadata": {},
   "outputs": [],
   "source": [
    "#3 EXPLORATORY DATA ANALYSIS"
   ]
  },
  {
   "cell_type": "code",
   "execution_count": null,
   "id": "853f78f7",
   "metadata": {},
   "outputs": [],
   "source": [
    "#1) UNIVARIATE ANALYSIS"
   ]
  },
  {
   "cell_type": "code",
   "execution_count": 30,
   "id": "3a7eb032",
   "metadata": {},
   "outputs": [],
   "source": [
    "import seaborn as sns\n",
    "import warnings\n",
    "warnings.filterwarnings(\"ignore\")\n"
   ]
  },
  {
   "cell_type": "code",
   "execution_count": 31,
   "id": "8c80f5e9",
   "metadata": {},
   "outputs": [
    {
     "data": {
      "text/plain": [
       "<AxesSubplot:xlabel='education', ylabel='count'>"
      ]
     },
     "execution_count": 31,
     "metadata": {},
     "output_type": "execute_result"
    },
    {
     "data": {
      "image/png": "[encoded data removed]",
      "text/plain": [
       "<Figure size 432x288 with 1 Axes>"
      ]
     },
     "metadata": {
      "needs_background": "light"
     },
     "output_type": "display_data"
    }
   ],
   "source": [
    "sns.countplot(df['education'])"
   ]
  },
  {
   "cell_type": "code",
   "execution_count": null,
   "id": "21279dd0",
   "metadata": {},
   "outputs": [],
   "source": [
    "#2) BIVARIATE ANALYSIS"
   ]
  },
  {
   "cell_type": "code",
   "execution_count": 33,
   "id": "a4c2178b",
   "metadata": {},
   "outputs": [
    {
     "data": {
      "text/plain": [
       "<AxesSubplot:>"
      ]
     },
     "execution_count": 33,
     "metadata": {},
     "output_type": "execute_result"
    },
    {
     "data": {
      "image/png": "[encoded data removed]",
      "text/plain": [
       "<Figure size 1440x720 with 2 Axes>"
      ]
     },
     "metadata": {
      "needs_background": "light"
     },
     "output_type": "display_data"
    }
   ],
   "source": [
    "plt.figure(figsize=(20,10))\n",
    "sns.heatmap(df.corr(), vmin=-1, vmax=1, annot=True, cmap='YlGnBu')"
   ]
  },
  {
   "cell_type": "code",
   "execution_count": null,
   "id": "e29a5088",
   "metadata": {},
   "outputs": [],
   "source": [
    "# CORRELATION AND REGRESSION"
   ]
  },
  {
   "cell_type": "code",
   "execution_count": 34,
   "id": "6093cff0",
   "metadata": {},
   "outputs": [
    {
     "data": {
      "text/html": [
       "<div>\n",
       "<style scoped>\n",
       "    .dataframe tbody tr th:only-of-type {\n",
       "        vertical-align: middle;\n",
       "    }\n",
       "\n",
       "    .dataframe tbody tr th {\n",
       "        vertical-align: top;\n",
       "    }\n",
       "\n",
       "    .dataframe thead th {\n",
       "        text-align: right;\n",
       "    }\n",
       "</style>\n",
       "<table border=\"1\" class=\"dataframe\">\n",
       "  <thead>\n",
       "    <tr style=\"text-align: right;\">\n",
       "      <th></th>\n",
       "      <th>male</th>\n",
       "      <th>age</th>\n",
       "      <th>education</th>\n",
       "      <th>currentSmoker</th>\n",
       "      <th>cigsPerDay</th>\n",
       "      <th>BPMeds</th>\n",
       "      <th>prevalentStroke</th>\n",
       "      <th>prevalentHyp</th>\n",
       "      <th>diabetes</th>\n",
       "      <th>totChol</th>\n",
       "      <th>sysBP</th>\n",
       "      <th>diaBP</th>\n",
       "      <th>BMI</th>\n",
       "      <th>heartRate</th>\n",
       "      <th>glucose</th>\n",
       "      <th>TenYearCHD</th>\n",
       "    </tr>\n",
       "  </thead>\n",
       "  <tbody>\n",
       "    <tr>\n",
       "      <th>male</th>\n",
       "      <td>1.000000</td>\n",
       "      <td>-0.029451</td>\n",
       "      <td>0.017474</td>\n",
       "      <td>0.197376</td>\n",
       "      <td>0.306979</td>\n",
       "      <td>-0.051506</td>\n",
       "      <td>-0.004526</td>\n",
       "      <td>0.004910</td>\n",
       "      <td>0.015755</td>\n",
       "      <td>-0.058872</td>\n",
       "      <td>-0.036505</td>\n",
       "      <td>0.058126</td>\n",
       "      <td>0.081441</td>\n",
       "      <td>-0.116620</td>\n",
       "      <td>0.009963</td>\n",
       "      <td>0.087856</td>\n",
       "    </tr>\n",
       "    <tr>\n",
       "      <th>age</th>\n",
       "      <td>-0.029451</td>\n",
       "      <td>1.000000</td>\n",
       "      <td>-0.163233</td>\n",
       "      <td>-0.214247</td>\n",
       "      <td>-0.197552</td>\n",
       "      <td>0.121065</td>\n",
       "      <td>0.057705</td>\n",
       "      <td>0.306785</td>\n",
       "      <td>0.101356</td>\n",
       "      <td>0.266023</td>\n",
       "      <td>0.393864</td>\n",
       "      <td>0.206447</td>\n",
       "      <td>0.134889</td>\n",
       "      <td>-0.012823</td>\n",
       "      <td>0.117667</td>\n",
       "      <td>0.224541</td>\n",
       "    </tr>\n",
       "    <tr>\n",
       "      <th>education</th>\n",
       "      <td>0.017474</td>\n",
       "      <td>-0.163233</td>\n",
       "      <td>1.000000</td>\n",
       "      <td>0.018509</td>\n",
       "      <td>0.011148</td>\n",
       "      <td>-0.010406</td>\n",
       "      <td>-0.035171</td>\n",
       "      <td>-0.080709</td>\n",
       "      <td>-0.038178</td>\n",
       "      <td>-0.019994</td>\n",
       "      <td>-0.127919</td>\n",
       "      <td>-0.061881</td>\n",
       "      <td>-0.135331</td>\n",
       "      <td>-0.053706</td>\n",
       "      <td>-0.033892</td>\n",
       "      <td>-0.052881</td>\n",
       "    </tr>\n",
       "    <tr>\n",
       "      <th>currentSmoker</th>\n",
       "      <td>0.197376</td>\n",
       "      <td>-0.214247</td>\n",
       "      <td>0.018509</td>\n",
       "      <td>1.000000</td>\n",
       "      <td>0.765971</td>\n",
       "      <td>-0.048323</td>\n",
       "      <td>-0.032973</td>\n",
       "      <td>-0.103655</td>\n",
       "      <td>-0.044262</td>\n",
       "      <td>-0.051512</td>\n",
       "      <td>-0.130732</td>\n",
       "      <td>-0.107607</td>\n",
       "      <td>-0.167399</td>\n",
       "      <td>0.062356</td>\n",
       "      <td>-0.055283</td>\n",
       "      <td>0.018907</td>\n",
       "    </tr>\n",
       "    <tr>\n",
       "      <th>cigsPerDay</th>\n",
       "      <td>0.306979</td>\n",
       "      <td>-0.197552</td>\n",
       "      <td>0.011148</td>\n",
       "      <td>0.765971</td>\n",
       "      <td>1.000000</td>\n",
       "      <td>-0.043287</td>\n",
       "      <td>-0.031969</td>\n",
       "      <td>-0.070799</td>\n",
       "      <td>-0.034696</td>\n",
       "      <td>-0.027287</td>\n",
       "      <td>-0.090887</td>\n",
       "      <td>-0.060873</td>\n",
       "      <td>-0.098388</td>\n",
       "      <td>0.075880</td>\n",
       "      <td>-0.057032</td>\n",
       "      <td>0.059556</td>\n",
       "    </tr>\n",
       "    <tr>\n",
       "      <th>BPMeds</th>\n",
       "      <td>-0.051506</td>\n",
       "      <td>0.121065</td>\n",
       "      <td>-0.010406</td>\n",
       "      <td>-0.048323</td>\n",
       "      <td>-0.043287</td>\n",
       "      <td>1.000000</td>\n",
       "      <td>0.114606</td>\n",
       "      <td>0.258826</td>\n",
       "      <td>0.051388</td>\n",
       "      <td>0.070178</td>\n",
       "      <td>0.251677</td>\n",
       "      <td>0.192339</td>\n",
       "      <td>0.099627</td>\n",
       "      <td>0.015139</td>\n",
       "      <td>0.049142</td>\n",
       "      <td>0.086571</td>\n",
       "    </tr>\n",
       "    <tr>\n",
       "      <th>prevalentStroke</th>\n",
       "      <td>-0.004526</td>\n",
       "      <td>0.057705</td>\n",
       "      <td>-0.035171</td>\n",
       "      <td>-0.032973</td>\n",
       "      <td>-0.031969</td>\n",
       "      <td>0.114606</td>\n",
       "      <td>1.000000</td>\n",
       "      <td>0.074876</td>\n",
       "      <td>0.006946</td>\n",
       "      <td>0.013366</td>\n",
       "      <td>0.057064</td>\n",
       "      <td>0.045181</td>\n",
       "      <td>0.024275</td>\n",
       "      <td>-0.017676</td>\n",
       "      <td>0.018730</td>\n",
       "      <td>0.061894</td>\n",
       "    </tr>\n",
       "    <tr>\n",
       "      <th>prevalentHyp</th>\n",
       "      <td>0.004910</td>\n",
       "      <td>0.306785</td>\n",
       "      <td>-0.080709</td>\n",
       "      <td>-0.103655</td>\n",
       "      <td>-0.070799</td>\n",
       "      <td>0.258826</td>\n",
       "      <td>0.074876</td>\n",
       "      <td>1.000000</td>\n",
       "      <td>0.077886</td>\n",
       "      <td>0.148495</td>\n",
       "      <td>0.696569</td>\n",
       "      <td>0.616178</td>\n",
       "      <td>0.300312</td>\n",
       "      <td>0.147261</td>\n",
       "      <td>0.083450</td>\n",
       "      <td>0.176935</td>\n",
       "    </tr>\n",
       "    <tr>\n",
       "      <th>diabetes</th>\n",
       "      <td>0.015755</td>\n",
       "      <td>0.101356</td>\n",
       "      <td>-0.038178</td>\n",
       "      <td>-0.044262</td>\n",
       "      <td>-0.034696</td>\n",
       "      <td>0.051388</td>\n",
       "      <td>0.006946</td>\n",
       "      <td>0.077886</td>\n",
       "      <td>1.000000</td>\n",
       "      <td>0.027654</td>\n",
       "      <td>0.111397</td>\n",
       "      <td>0.050307</td>\n",
       "      <td>0.086063</td>\n",
       "      <td>0.048994</td>\n",
       "      <td>0.606523</td>\n",
       "      <td>0.097472</td>\n",
       "    </tr>\n",
       "    <tr>\n",
       "      <th>totChol</th>\n",
       "      <td>-0.058872</td>\n",
       "      <td>0.266023</td>\n",
       "      <td>-0.019994</td>\n",
       "      <td>-0.051512</td>\n",
       "      <td>-0.027287</td>\n",
       "      <td>0.070178</td>\n",
       "      <td>0.013366</td>\n",
       "      <td>0.148495</td>\n",
       "      <td>0.027654</td>\n",
       "      <td>1.000000</td>\n",
       "      <td>0.195960</td>\n",
       "      <td>0.165803</td>\n",
       "      <td>0.125716</td>\n",
       "      <td>0.065788</td>\n",
       "      <td>0.036427</td>\n",
       "      <td>0.073644</td>\n",
       "    </tr>\n",
       "    <tr>\n",
       "      <th>sysBP</th>\n",
       "      <td>-0.036505</td>\n",
       "      <td>0.393864</td>\n",
       "      <td>-0.127919</td>\n",
       "      <td>-0.130732</td>\n",
       "      <td>-0.090887</td>\n",
       "      <td>0.251677</td>\n",
       "      <td>0.057064</td>\n",
       "      <td>0.696569</td>\n",
       "      <td>0.111397</td>\n",
       "      <td>0.195960</td>\n",
       "      <td>1.000000</td>\n",
       "      <td>0.784635</td>\n",
       "      <td>0.324947</td>\n",
       "      <td>0.182246</td>\n",
       "      <td>0.135015</td>\n",
       "      <td>0.215640</td>\n",
       "    </tr>\n",
       "    <tr>\n",
       "      <th>diaBP</th>\n",
       "      <td>0.058126</td>\n",
       "      <td>0.206447</td>\n",
       "      <td>-0.061881</td>\n",
       "      <td>-0.107607</td>\n",
       "      <td>-0.060873</td>\n",
       "      <td>0.192339</td>\n",
       "      <td>0.045181</td>\n",
       "      <td>0.616178</td>\n",
       "      <td>0.050307</td>\n",
       "      <td>0.165803</td>\n",
       "      <td>0.784635</td>\n",
       "      <td>1.000000</td>\n",
       "      <td>0.376810</td>\n",
       "      <td>0.181255</td>\n",
       "      <td>0.059111</td>\n",
       "      <td>0.145772</td>\n",
       "    </tr>\n",
       "    <tr>\n",
       "      <th>BMI</th>\n",
       "      <td>0.081441</td>\n",
       "      <td>0.134889</td>\n",
       "      <td>-0.135331</td>\n",
       "      <td>-0.167399</td>\n",
       "      <td>-0.098388</td>\n",
       "      <td>0.099627</td>\n",
       "      <td>0.024275</td>\n",
       "      <td>0.300312</td>\n",
       "      <td>0.086063</td>\n",
       "      <td>0.125716</td>\n",
       "      <td>0.324947</td>\n",
       "      <td>0.376810</td>\n",
       "      <td>1.000000</td>\n",
       "      <td>0.067540</td>\n",
       "      <td>0.082144</td>\n",
       "      <td>0.073788</td>\n",
       "    </tr>\n",
       "    <tr>\n",
       "      <th>heartRate</th>\n",
       "      <td>-0.116620</td>\n",
       "      <td>-0.012823</td>\n",
       "      <td>-0.053706</td>\n",
       "      <td>0.062356</td>\n",
       "      <td>0.075880</td>\n",
       "      <td>0.015139</td>\n",
       "      <td>-0.017676</td>\n",
       "      <td>0.147261</td>\n",
       "      <td>0.048994</td>\n",
       "      <td>0.065788</td>\n",
       "      <td>0.182246</td>\n",
       "      <td>0.181255</td>\n",
       "      <td>0.067540</td>\n",
       "      <td>1.000000</td>\n",
       "      <td>0.087324</td>\n",
       "      <td>0.022913</td>\n",
       "    </tr>\n",
       "    <tr>\n",
       "      <th>glucose</th>\n",
       "      <td>0.009963</td>\n",
       "      <td>0.117667</td>\n",
       "      <td>-0.033892</td>\n",
       "      <td>-0.055283</td>\n",
       "      <td>-0.057032</td>\n",
       "      <td>0.049142</td>\n",
       "      <td>0.018730</td>\n",
       "      <td>0.083450</td>\n",
       "      <td>0.606523</td>\n",
       "      <td>0.036427</td>\n",
       "      <td>0.135015</td>\n",
       "      <td>0.059111</td>\n",
       "      <td>0.082144</td>\n",
       "      <td>0.087324</td>\n",
       "      <td>1.000000</td>\n",
       "      <td>0.121130</td>\n",
       "    </tr>\n",
       "    <tr>\n",
       "      <th>TenYearCHD</th>\n",
       "      <td>0.087856</td>\n",
       "      <td>0.224541</td>\n",
       "      <td>-0.052881</td>\n",
       "      <td>0.018907</td>\n",
       "      <td>0.059556</td>\n",
       "      <td>0.086571</td>\n",
       "      <td>0.061894</td>\n",
       "      <td>0.176935</td>\n",
       "      <td>0.097472</td>\n",
       "      <td>0.073644</td>\n",
       "      <td>0.215640</td>\n",
       "      <td>0.145772</td>\n",
       "      <td>0.073788</td>\n",
       "      <td>0.022913</td>\n",
       "      <td>0.121130</td>\n",
       "      <td>1.000000</td>\n",
       "    </tr>\n",
       "  </tbody>\n",
       "</table>\n",
       "</div>"
      ],
      "text/plain": [
       "                     male       age  education  currentSmoker  cigsPerDay  \\\n",
       "male             1.000000 -0.029451   0.017474       0.197376    0.306979   \n",
       "age             -0.029451  1.000000  -0.163233      -0.214247   -0.197552   \n",
       "education        0.017474 -0.163233   1.000000       0.018509    0.011148   \n",
       "currentSmoker    0.197376 -0.214247   0.018509       1.000000    0.765971   \n",
       "cigsPerDay       0.306979 -0.197552   0.011148       0.765971    1.000000   \n",
       "BPMeds          -0.051506  0.121065  -0.010406      -0.048323   -0.043287   \n",
       "prevalentStroke -0.004526  0.057705  -0.035171      -0.032973   -0.031969   \n",
       "prevalentHyp     0.004910  0.306785  -0.080709      -0.103655   -0.070799   \n",
       "diabetes         0.015755  0.101356  -0.038178      -0.044262   -0.034696   \n",
       "totChol         -0.058872  0.266023  -0.019994      -0.051512   -0.027287   \n",
       "sysBP           -0.036505  0.393864  -0.127919      -0.130732   -0.090887   \n",
       "diaBP            0.058126  0.206447  -0.061881      -0.107607   -0.060873   \n",
       "BMI              0.081441  0.134889  -0.135331      -0.167399   -0.098388   \n",
       "heartRate       -0.116620 -0.012823  -0.053706       0.062356    0.075880   \n",
       "glucose          0.009963  0.117667  -0.033892      -0.055283   -0.057032   \n",
       "TenYearCHD       0.087856  0.224541  -0.052881       0.018907    0.059556   \n",
       "\n",
       "                   BPMeds  prevalentStroke  prevalentHyp  diabetes   totChol  \\\n",
       "male            -0.051506        -0.004526      0.004910  0.015755 -0.058872   \n",
       "age              0.121065         0.057705      0.306785  0.101356  0.266023   \n",
       "education       -0.010406        -0.035171     -0.080709 -0.038178 -0.019994   \n",
       "currentSmoker   -0.048323        -0.032973     -0.103655 -0.044262 -0.051512   \n",
       "cigsPerDay      -0.043287        -0.031969     -0.070799 -0.034696 -0.027287   \n",
       "BPMeds           1.000000         0.114606      0.258826  0.051388  0.070178   \n",
       "prevalentStroke  0.114606         1.000000      0.074876  0.006946  0.013366   \n",
       "prevalentHyp     0.258826         0.074876      1.000000  0.077886  0.148495   \n",
       "diabetes         0.051388         0.006946      0.077886  1.000000  0.027654   \n",
       "totChol          0.070178         0.013366      0.148495  0.027654  1.000000   \n",
       "sysBP            0.251677         0.057064      0.696569  0.111397  0.195960   \n",
       "diaBP            0.192339         0.045181      0.616178  0.050307  0.165803   \n",
       "BMI              0.099627         0.024275      0.300312  0.086063  0.125716   \n",
       "heartRate        0.015139        -0.017676      0.147261  0.048994  0.065788   \n",
       "glucose          0.049142         0.018730      0.083450  0.606523  0.036427   \n",
       "TenYearCHD       0.086571         0.061894      0.176935  0.097472  0.073644   \n",
       "\n",
       "                    sysBP     diaBP       BMI  heartRate   glucose  TenYearCHD  \n",
       "male            -0.036505  0.058126  0.081441  -0.116620  0.009963    0.087856  \n",
       "age              0.393864  0.206447  0.134889  -0.012823  0.117667    0.224541  \n",
       "education       -0.127919 -0.061881 -0.135331  -0.053706 -0.033892   -0.052881  \n",
       "currentSmoker   -0.130732 -0.107607 -0.167399   0.062356 -0.055283    0.018907  \n",
       "cigsPerDay      -0.090887 -0.060873 -0.098388   0.075880 -0.057032    0.059556  \n",
       "BPMeds           0.251677  0.192339  0.099627   0.015139  0.049142    0.086571  \n",
       "prevalentStroke  0.057064  0.045181  0.024275  -0.017676  0.018730    0.061894  \n",
       "prevalentHyp     0.696569  0.616178  0.300312   0.147261  0.083450    0.176935  \n",
       "diabetes         0.111397  0.050307  0.086063   0.048994  0.606523    0.097472  \n",
       "totChol          0.195960  0.165803  0.125716   0.065788  0.036427    0.073644  \n",
       "sysBP            1.000000  0.784635  0.324947   0.182246  0.135015    0.215640  \n",
       "diaBP            0.784635  1.000000  0.376810   0.181255  0.059111    0.145772  \n",
       "BMI              0.324947  0.376810  1.000000   0.067540  0.082144    0.073788  \n",
       "heartRate        0.182246  0.181255  0.067540   1.000000  0.087324    0.022913  \n",
       "glucose          0.135015  0.059111  0.082144   0.087324  1.000000    0.121130  \n",
       "TenYearCHD       0.215640  0.145772  0.073788   0.022913  0.121130    1.000000  "
      ]
     },
     "metadata": {},
     "output_type": "display_data"
    }
   ],
   "source": [
    "corrmatrix=df.corr()\n",
    "display(corrmatrix)"
   ]
  },
  {
   "cell_type": "code",
   "execution_count": 35,
   "id": "b1772fcb",
   "metadata": {},
   "outputs": [
    {
     "data": {
      "text/plain": [
       "(4237, 16)"
      ]
     },
     "execution_count": 35,
     "metadata": {},
     "output_type": "execute_result"
    }
   ],
   "source": [
    "df.shape"
   ]
  },
  {
   "cell_type": "code",
   "execution_count": 36,
   "id": "f5275bbf",
   "metadata": {},
   "outputs": [
    {
     "data": {
      "text/plain": [
       "male               0\n",
       "age                0\n",
       "education          0\n",
       "currentSmoker      0\n",
       "cigsPerDay         0\n",
       "BPMeds             0\n",
       "prevalentStroke    0\n",
       "prevalentHyp       0\n",
       "diabetes           0\n",
       "totChol            0\n",
       "sysBP              0\n",
       "diaBP              0\n",
       "BMI                0\n",
       "heartRate          0\n",
       "glucose            0\n",
       "TenYearCHD         0\n",
       "dtype: int64"
      ]
     },
     "execution_count": 36,
     "metadata": {},
     "output_type": "execute_result"
    }
   ],
   "source": [
    "df.isna().sum()"
   ]
  },
  {
   "cell_type": "code",
   "execution_count": 37,
   "id": "115eb413",
   "metadata": {},
   "outputs": [
    {
     "data": {
      "text/html": [
       "<div>\n",
       "<style scoped>\n",
       "    .dataframe tbody tr th:only-of-type {\n",
       "        vertical-align: middle;\n",
       "    }\n",
       "\n",
       "    .dataframe tbody tr th {\n",
       "        vertical-align: top;\n",
       "    }\n",
       "\n",
       "    .dataframe thead th {\n",
       "        text-align: right;\n",
       "    }\n",
       "</style>\n",
       "<table border=\"1\" class=\"dataframe\">\n",
       "  <thead>\n",
       "    <tr style=\"text-align: right;\">\n",
       "      <th></th>\n",
       "      <th>male</th>\n",
       "      <th>age</th>\n",
       "      <th>education</th>\n",
       "      <th>currentSmoker</th>\n",
       "      <th>cigsPerDay</th>\n",
       "      <th>BPMeds</th>\n",
       "      <th>prevalentStroke</th>\n",
       "      <th>prevalentHyp</th>\n",
       "      <th>diabetes</th>\n",
       "      <th>totChol</th>\n",
       "      <th>sysBP</th>\n",
       "      <th>diaBP</th>\n",
       "      <th>BMI</th>\n",
       "      <th>heartRate</th>\n",
       "      <th>glucose</th>\n",
       "      <th>TenYearCHD</th>\n",
       "    </tr>\n",
       "  </thead>\n",
       "  <tbody>\n",
       "    <tr>\n",
       "      <th>count</th>\n",
       "      <td>4237.000000</td>\n",
       "      <td>4237.000000</td>\n",
       "      <td>4237.000000</td>\n",
       "      <td>4237.000000</td>\n",
       "      <td>4237.000000</td>\n",
       "      <td>4237.000000</td>\n",
       "      <td>4237.000000</td>\n",
       "      <td>4237.000000</td>\n",
       "      <td>4237.000000</td>\n",
       "      <td>4237.000000</td>\n",
       "      <td>4237.000000</td>\n",
       "      <td>4237.000000</td>\n",
       "      <td>4237.000000</td>\n",
       "      <td>4237.000000</td>\n",
       "      <td>4237.000000</td>\n",
       "      <td>4237.000000</td>\n",
       "    </tr>\n",
       "    <tr>\n",
       "      <th>mean</th>\n",
       "      <td>0.429077</td>\n",
       "      <td>49.581544</td>\n",
       "      <td>1.979703</td>\n",
       "      <td>0.493982</td>\n",
       "      <td>8.767052</td>\n",
       "      <td>0.029266</td>\n",
       "      <td>0.005900</td>\n",
       "      <td>0.310361</td>\n",
       "      <td>0.025726</td>\n",
       "      <td>234.847534</td>\n",
       "      <td>132.342931</td>\n",
       "      <td>82.895327</td>\n",
       "      <td>25.799359</td>\n",
       "      <td>75.878924</td>\n",
       "      <td>81.601369</td>\n",
       "      <td>0.151758</td>\n",
       "    </tr>\n",
       "    <tr>\n",
       "      <th>std</th>\n",
       "      <td>0.495003</td>\n",
       "      <td>8.570310</td>\n",
       "      <td>1.007087</td>\n",
       "      <td>0.500023</td>\n",
       "      <td>11.585653</td>\n",
       "      <td>0.168571</td>\n",
       "      <td>0.076596</td>\n",
       "      <td>0.462696</td>\n",
       "      <td>0.158335</td>\n",
       "      <td>40.307920</td>\n",
       "      <td>22.032062</td>\n",
       "      <td>11.911638</td>\n",
       "      <td>4.071171</td>\n",
       "      <td>12.026596</td>\n",
       "      <td>22.867488</td>\n",
       "      <td>0.358829</td>\n",
       "    </tr>\n",
       "    <tr>\n",
       "      <th>min</th>\n",
       "      <td>0.000000</td>\n",
       "      <td>32.000000</td>\n",
       "      <td>1.000000</td>\n",
       "      <td>0.000000</td>\n",
       "      <td>0.000000</td>\n",
       "      <td>0.000000</td>\n",
       "      <td>0.000000</td>\n",
       "      <td>0.000000</td>\n",
       "      <td>0.000000</td>\n",
       "      <td>124.000000</td>\n",
       "      <td>83.500000</td>\n",
       "      <td>48.000000</td>\n",
       "      <td>15.540000</td>\n",
       "      <td>44.000000</td>\n",
       "      <td>40.000000</td>\n",
       "      <td>0.000000</td>\n",
       "    </tr>\n",
       "    <tr>\n",
       "      <th>25%</th>\n",
       "      <td>0.000000</td>\n",
       "      <td>42.000000</td>\n",
       "      <td>1.000000</td>\n",
       "      <td>0.000000</td>\n",
       "      <td>0.000000</td>\n",
       "      <td>0.000000</td>\n",
       "      <td>0.000000</td>\n",
       "      <td>0.000000</td>\n",
       "      <td>0.000000</td>\n",
       "      <td>206.000000</td>\n",
       "      <td>117.000000</td>\n",
       "      <td>75.000000</td>\n",
       "      <td>23.080000</td>\n",
       "      <td>68.000000</td>\n",
       "      <td>72.000000</td>\n",
       "      <td>0.000000</td>\n",
       "    </tr>\n",
       "    <tr>\n",
       "      <th>50%</th>\n",
       "      <td>0.000000</td>\n",
       "      <td>49.000000</td>\n",
       "      <td>2.000000</td>\n",
       "      <td>0.000000</td>\n",
       "      <td>0.000000</td>\n",
       "      <td>0.000000</td>\n",
       "      <td>0.000000</td>\n",
       "      <td>0.000000</td>\n",
       "      <td>0.000000</td>\n",
       "      <td>234.000000</td>\n",
       "      <td>128.000000</td>\n",
       "      <td>82.000000</td>\n",
       "      <td>25.395000</td>\n",
       "      <td>75.000000</td>\n",
       "      <td>78.000000</td>\n",
       "      <td>0.000000</td>\n",
       "    </tr>\n",
       "    <tr>\n",
       "      <th>75%</th>\n",
       "      <td>1.000000</td>\n",
       "      <td>56.000000</td>\n",
       "      <td>3.000000</td>\n",
       "      <td>1.000000</td>\n",
       "      <td>20.000000</td>\n",
       "      <td>0.000000</td>\n",
       "      <td>0.000000</td>\n",
       "      <td>1.000000</td>\n",
       "      <td>0.000000</td>\n",
       "      <td>261.000000</td>\n",
       "      <td>144.000000</td>\n",
       "      <td>90.000000</td>\n",
       "      <td>28.030000</td>\n",
       "      <td>83.000000</td>\n",
       "      <td>85.000000</td>\n",
       "      <td>0.000000</td>\n",
       "    </tr>\n",
       "    <tr>\n",
       "      <th>max</th>\n",
       "      <td>1.000000</td>\n",
       "      <td>70.000000</td>\n",
       "      <td>4.000000</td>\n",
       "      <td>1.000000</td>\n",
       "      <td>50.000000</td>\n",
       "      <td>1.000000</td>\n",
       "      <td>1.000000</td>\n",
       "      <td>1.000000</td>\n",
       "      <td>1.000000</td>\n",
       "      <td>346.000000</td>\n",
       "      <td>295.000000</td>\n",
       "      <td>142.500000</td>\n",
       "      <td>56.800000</td>\n",
       "      <td>143.000000</td>\n",
       "      <td>394.000000</td>\n",
       "      <td>1.000000</td>\n",
       "    </tr>\n",
       "  </tbody>\n",
       "</table>\n",
       "</div>"
      ],
      "text/plain": [
       "              male          age    education  currentSmoker   cigsPerDay  \\\n",
       "count  4237.000000  4237.000000  4237.000000    4237.000000  4237.000000   \n",
       "mean      0.429077    49.581544     1.979703       0.493982     8.767052   \n",
       "std       0.495003     8.570310     1.007087       0.500023    11.585653   \n",
       "min       0.000000    32.000000     1.000000       0.000000     0.000000   \n",
       "25%       0.000000    42.000000     1.000000       0.000000     0.000000   \n",
       "50%       0.000000    49.000000     2.000000       0.000000     0.000000   \n",
       "75%       1.000000    56.000000     3.000000       1.000000    20.000000   \n",
       "max       1.000000    70.000000     4.000000       1.000000    50.000000   \n",
       "\n",
       "            BPMeds  prevalentStroke  prevalentHyp     diabetes      totChol  \\\n",
       "count  4237.000000      4237.000000   4237.000000  4237.000000  4237.000000   \n",
       "mean      0.029266         0.005900      0.310361     0.025726   234.847534   \n",
       "std       0.168571         0.076596      0.462696     0.158335    40.307920   \n",
       "min       0.000000         0.000000      0.000000     0.000000   124.000000   \n",
       "25%       0.000000         0.000000      0.000000     0.000000   206.000000   \n",
       "50%       0.000000         0.000000      0.000000     0.000000   234.000000   \n",
       "75%       0.000000         0.000000      1.000000     0.000000   261.000000   \n",
       "max       1.000000         1.000000      1.000000     1.000000   346.000000   \n",
       "\n",
       "             sysBP        diaBP          BMI    heartRate      glucose  \\\n",
       "count  4237.000000  4237.000000  4237.000000  4237.000000  4237.000000   \n",
       "mean    132.342931    82.895327    25.799359    75.878924    81.601369   \n",
       "std      22.032062    11.911638     4.071171    12.026596    22.867488   \n",
       "min      83.500000    48.000000    15.540000    44.000000    40.000000   \n",
       "25%     117.000000    75.000000    23.080000    68.000000    72.000000   \n",
       "50%     128.000000    82.000000    25.395000    75.000000    78.000000   \n",
       "75%     144.000000    90.000000    28.030000    83.000000    85.000000   \n",
       "max     295.000000   142.500000    56.800000   143.000000   394.000000   \n",
       "\n",
       "        TenYearCHD  \n",
       "count  4237.000000  \n",
       "mean      0.151758  \n",
       "std       0.358829  \n",
       "min       0.000000  \n",
       "25%       0.000000  \n",
       "50%       0.000000  \n",
       "75%       0.000000  \n",
       "max       1.000000  "
      ]
     },
     "execution_count": 37,
     "metadata": {},
     "output_type": "execute_result"
    }
   ],
   "source": [
    "df.describe()"
   ]
  },
  {
   "cell_type": "code",
   "execution_count": 39,
   "id": "297ce926",
   "metadata": {},
   "outputs": [
    {
     "data": {
      "text/html": [
       "<div>\n",
       "<style scoped>\n",
       "    .dataframe tbody tr th:only-of-type {\n",
       "        vertical-align: middle;\n",
       "    }\n",
       "\n",
       "    .dataframe tbody tr th {\n",
       "        vertical-align: top;\n",
       "    }\n",
       "\n",
       "    .dataframe thead th {\n",
       "        text-align: right;\n",
       "    }\n",
       "</style>\n",
       "<table border=\"1\" class=\"dataframe\">\n",
       "  <thead>\n",
       "    <tr style=\"text-align: right;\">\n",
       "      <th></th>\n",
       "      <th>male</th>\n",
       "      <th>age</th>\n",
       "      <th>education</th>\n",
       "      <th>currentSmoker</th>\n",
       "      <th>cigsPerDay</th>\n",
       "      <th>BPMeds</th>\n",
       "      <th>prevalentStroke</th>\n",
       "      <th>prevalentHyp</th>\n",
       "      <th>diabetes</th>\n",
       "      <th>totChol</th>\n",
       "      <th>sysBP</th>\n",
       "      <th>diaBP</th>\n",
       "      <th>BMI</th>\n",
       "      <th>heartRate</th>\n",
       "      <th>glucose</th>\n",
       "    </tr>\n",
       "  </thead>\n",
       "  <tbody>\n",
       "    <tr>\n",
       "      <th>0</th>\n",
       "      <td>1</td>\n",
       "      <td>39</td>\n",
       "      <td>4.0</td>\n",
       "      <td>0</td>\n",
       "      <td>0.0</td>\n",
       "      <td>0.0</td>\n",
       "      <td>0</td>\n",
       "      <td>0</td>\n",
       "      <td>0</td>\n",
       "      <td>195.0</td>\n",
       "      <td>106.0</td>\n",
       "      <td>70.0</td>\n",
       "      <td>26.97</td>\n",
       "      <td>80.0</td>\n",
       "      <td>77.0</td>\n",
       "    </tr>\n",
       "    <tr>\n",
       "      <th>1</th>\n",
       "      <td>0</td>\n",
       "      <td>46</td>\n",
       "      <td>2.0</td>\n",
       "      <td>0</td>\n",
       "      <td>0.0</td>\n",
       "      <td>0.0</td>\n",
       "      <td>0</td>\n",
       "      <td>0</td>\n",
       "      <td>0</td>\n",
       "      <td>250.0</td>\n",
       "      <td>121.0</td>\n",
       "      <td>81.0</td>\n",
       "      <td>28.73</td>\n",
       "      <td>95.0</td>\n",
       "      <td>76.0</td>\n",
       "    </tr>\n",
       "    <tr>\n",
       "      <th>2</th>\n",
       "      <td>1</td>\n",
       "      <td>48</td>\n",
       "      <td>1.0</td>\n",
       "      <td>1</td>\n",
       "      <td>20.0</td>\n",
       "      <td>0.0</td>\n",
       "      <td>0</td>\n",
       "      <td>0</td>\n",
       "      <td>0</td>\n",
       "      <td>245.0</td>\n",
       "      <td>127.5</td>\n",
       "      <td>80.0</td>\n",
       "      <td>25.34</td>\n",
       "      <td>75.0</td>\n",
       "      <td>70.0</td>\n",
       "    </tr>\n",
       "    <tr>\n",
       "      <th>3</th>\n",
       "      <td>0</td>\n",
       "      <td>61</td>\n",
       "      <td>3.0</td>\n",
       "      <td>1</td>\n",
       "      <td>30.0</td>\n",
       "      <td>0.0</td>\n",
       "      <td>0</td>\n",
       "      <td>1</td>\n",
       "      <td>0</td>\n",
       "      <td>225.0</td>\n",
       "      <td>150.0</td>\n",
       "      <td>95.0</td>\n",
       "      <td>28.58</td>\n",
       "      <td>65.0</td>\n",
       "      <td>103.0</td>\n",
       "    </tr>\n",
       "    <tr>\n",
       "      <th>4</th>\n",
       "      <td>0</td>\n",
       "      <td>46</td>\n",
       "      <td>3.0</td>\n",
       "      <td>1</td>\n",
       "      <td>23.0</td>\n",
       "      <td>0.0</td>\n",
       "      <td>0</td>\n",
       "      <td>0</td>\n",
       "      <td>0</td>\n",
       "      <td>285.0</td>\n",
       "      <td>130.0</td>\n",
       "      <td>84.0</td>\n",
       "      <td>23.10</td>\n",
       "      <td>85.0</td>\n",
       "      <td>85.0</td>\n",
       "    </tr>\n",
       "    <tr>\n",
       "      <th>...</th>\n",
       "      <td>...</td>\n",
       "      <td>...</td>\n",
       "      <td>...</td>\n",
       "      <td>...</td>\n",
       "      <td>...</td>\n",
       "      <td>...</td>\n",
       "      <td>...</td>\n",
       "      <td>...</td>\n",
       "      <td>...</td>\n",
       "      <td>...</td>\n",
       "      <td>...</td>\n",
       "      <td>...</td>\n",
       "      <td>...</td>\n",
       "      <td>...</td>\n",
       "      <td>...</td>\n",
       "    </tr>\n",
       "    <tr>\n",
       "      <th>4233</th>\n",
       "      <td>1</td>\n",
       "      <td>50</td>\n",
       "      <td>1.0</td>\n",
       "      <td>1</td>\n",
       "      <td>1.0</td>\n",
       "      <td>0.0</td>\n",
       "      <td>0</td>\n",
       "      <td>1</td>\n",
       "      <td>0</td>\n",
       "      <td>313.0</td>\n",
       "      <td>179.0</td>\n",
       "      <td>92.0</td>\n",
       "      <td>25.97</td>\n",
       "      <td>66.0</td>\n",
       "      <td>86.0</td>\n",
       "    </tr>\n",
       "    <tr>\n",
       "      <th>4234</th>\n",
       "      <td>1</td>\n",
       "      <td>51</td>\n",
       "      <td>3.0</td>\n",
       "      <td>1</td>\n",
       "      <td>43.0</td>\n",
       "      <td>0.0</td>\n",
       "      <td>0</td>\n",
       "      <td>0</td>\n",
       "      <td>0</td>\n",
       "      <td>207.0</td>\n",
       "      <td>126.5</td>\n",
       "      <td>80.0</td>\n",
       "      <td>19.71</td>\n",
       "      <td>65.0</td>\n",
       "      <td>68.0</td>\n",
       "    </tr>\n",
       "    <tr>\n",
       "      <th>4235</th>\n",
       "      <td>0</td>\n",
       "      <td>48</td>\n",
       "      <td>2.0</td>\n",
       "      <td>1</td>\n",
       "      <td>20.0</td>\n",
       "      <td>0.0</td>\n",
       "      <td>0</td>\n",
       "      <td>0</td>\n",
       "      <td>0</td>\n",
       "      <td>248.0</td>\n",
       "      <td>131.0</td>\n",
       "      <td>72.0</td>\n",
       "      <td>22.00</td>\n",
       "      <td>84.0</td>\n",
       "      <td>86.0</td>\n",
       "    </tr>\n",
       "    <tr>\n",
       "      <th>4236</th>\n",
       "      <td>0</td>\n",
       "      <td>44</td>\n",
       "      <td>1.0</td>\n",
       "      <td>1</td>\n",
       "      <td>15.0</td>\n",
       "      <td>0.0</td>\n",
       "      <td>0</td>\n",
       "      <td>0</td>\n",
       "      <td>0</td>\n",
       "      <td>210.0</td>\n",
       "      <td>126.5</td>\n",
       "      <td>87.0</td>\n",
       "      <td>19.16</td>\n",
       "      <td>86.0</td>\n",
       "      <td>78.0</td>\n",
       "    </tr>\n",
       "    <tr>\n",
       "      <th>4237</th>\n",
       "      <td>0</td>\n",
       "      <td>52</td>\n",
       "      <td>2.0</td>\n",
       "      <td>0</td>\n",
       "      <td>0.0</td>\n",
       "      <td>0.0</td>\n",
       "      <td>0</td>\n",
       "      <td>0</td>\n",
       "      <td>0</td>\n",
       "      <td>269.0</td>\n",
       "      <td>133.5</td>\n",
       "      <td>83.0</td>\n",
       "      <td>21.47</td>\n",
       "      <td>80.0</td>\n",
       "      <td>107.0</td>\n",
       "    </tr>\n",
       "  </tbody>\n",
       "</table>\n",
       "<p>4237 rows × 15 columns</p>\n",
       "</div>"
      ],
      "text/plain": [
       "      male  age  education  currentSmoker  cigsPerDay  BPMeds  \\\n",
       "0        1   39        4.0              0         0.0     0.0   \n",
       "1        0   46        2.0              0         0.0     0.0   \n",
       "2        1   48        1.0              1        20.0     0.0   \n",
       "3        0   61        3.0              1        30.0     0.0   \n",
       "4        0   46        3.0              1        23.0     0.0   \n",
       "...    ...  ...        ...            ...         ...     ...   \n",
       "4233     1   50        1.0              1         1.0     0.0   \n",
       "4234     1   51        3.0              1        43.0     0.0   \n",
       "4235     0   48        2.0              1        20.0     0.0   \n",
       "4236     0   44        1.0              1        15.0     0.0   \n",
       "4237     0   52        2.0              0         0.0     0.0   \n",
       "\n",
       "      prevalentStroke  prevalentHyp  diabetes  totChol  sysBP  diaBP    BMI  \\\n",
       "0                   0             0         0    195.0  106.0   70.0  26.97   \n",
       "1                   0             0         0    250.0  121.0   81.0  28.73   \n",
       "2                   0             0         0    245.0  127.5   80.0  25.34   \n",
       "3                   0             1         0    225.0  150.0   95.0  28.58   \n",
       "4                   0             0         0    285.0  130.0   84.0  23.10   \n",
       "...               ...           ...       ...      ...    ...    ...    ...   \n",
       "4233                0             1         0    313.0  179.0   92.0  25.97   \n",
       "4234                0             0         0    207.0  126.5   80.0  19.71   \n",
       "4235                0             0         0    248.0  131.0   72.0  22.00   \n",
       "4236                0             0         0    210.0  126.5   87.0  19.16   \n",
       "4237                0             0         0    269.0  133.5   83.0  21.47   \n",
       "\n",
       "      heartRate  glucose  \n",
       "0          80.0     77.0  \n",
       "1          95.0     76.0  \n",
       "2          75.0     70.0  \n",
       "3          65.0    103.0  \n",
       "4          85.0     85.0  \n",
       "...         ...      ...  \n",
       "4233       66.0     86.0  \n",
       "4234       65.0     68.0  \n",
       "4235       84.0     86.0  \n",
       "4236       86.0     78.0  \n",
       "4237       80.0    107.0  \n",
       "\n",
       "[4237 rows x 15 columns]"
      ]
     },
     "metadata": {},
     "output_type": "display_data"
    }
   ],
   "source": [
    "data1=df.drop('TenYearCHD' ,axis=1)\n",
    "display(data1)\n"
   ]
  },
  {
   "cell_type": "code",
   "execution_count": 40,
   "id": "e3fdb337",
   "metadata": {},
   "outputs": [
    {
     "data": {
      "text/plain": [
       "(4237,)"
      ]
     },
     "execution_count": 40,
     "metadata": {},
     "output_type": "execute_result"
    }
   ],
   "source": [
    "y=df['TenYearCHD']\n",
    "x=df.drop('TenYearCHD',axis=1)\n",
    "x.shape\n",
    "y.shape\n"
   ]
  },
  {
   "cell_type": "code",
   "execution_count": 41,
   "id": "e30ec61e",
   "metadata": {},
   "outputs": [
    {
     "data": {
      "text/plain": [
       "(4237, 15)"
      ]
     },
     "execution_count": 41,
     "metadata": {},
     "output_type": "execute_result"
    }
   ],
   "source": [
    "data1.shape"
   ]
  },
  {
   "cell_type": "code",
   "execution_count": 42,
   "id": "5b2e202e",
   "metadata": {},
   "outputs": [
    {
     "data": {
      "text/plain": [
       "(3389, 15)"
      ]
     },
     "execution_count": 42,
     "metadata": {},
     "output_type": "execute_result"
    }
   ],
   "source": [
    "from sklearn.model_selection import train_test_split\n",
    "x_train,x_test,y_train,y_test=train_test_split(x,y,test_size=0.2)\n",
    "x_train.shape"
   ]
  },
  {
   "cell_type": "code",
   "execution_count": 43,
   "id": "2c310756",
   "metadata": {},
   "outputs": [
    {
     "data": {
      "text/plain": [
       "array([ 5.23962109e-02,  7.03249865e-02,  1.67863768e-01,  1.34316724e-01,\n",
       "        3.13398099e-01,  2.54340461e-01,  1.38719335e-01,  6.77506732e-02,\n",
       "        3.71696950e-02,  2.13278626e-01,  1.32870145e-01,  4.27876628e-02,\n",
       "        1.58251002e-01, -3.38432759e-03,  2.21436856e-01,  2.20814620e-01,\n",
       "        2.47644655e-02,  1.35011275e-01,  8.37715630e-02,  2.94787368e-02,\n",
       "        3.76625656e-01,  4.10858183e-03,  2.18789000e-01, -1.20867274e-02,\n",
       "        1.96747031e-01,  1.29500782e-01,  2.31599601e-01,  1.84258007e-01,\n",
       "        1.31422668e-02,  2.86190377e-01,  1.10408269e-01, -7.75695429e-03,\n",
       "        3.16958077e-01,  5.84111339e-02,  9.20743803e-02,  2.10309383e-01,\n",
       "        8.70936574e-02,  2.92965085e-01,  3.00312060e-01,  6.88464143e-02,\n",
       "        5.55086533e-02,  3.96575550e-01,  1.06927401e-02,  2.08718990e-01,\n",
       "        1.17428226e-01,  4.28992742e-02,  3.08143964e-01,  4.83170339e-02,\n",
       "        1.66616361e-01,  2.59992423e-01,  2.70829370e-01,  9.71881402e-02,\n",
       "        9.00355920e-05,  1.27598226e-01,  1.99961085e-01, -2.83326205e-02,\n",
       "        4.18713445e-02,  4.93456865e-02,  7.24942741e-02,  2.06664326e-01,\n",
       "        1.49056761e-01,  6.69017865e-02,  2.28291675e-01,  1.56472461e-02,\n",
       "        9.30886109e-02,  7.11279352e-02,  9.49468523e-02,  3.46664774e-01,\n",
       "        9.29047210e-02,  8.36571878e-02,  1.57541845e-01,  9.71420376e-02,\n",
       "        1.34256958e-01,  1.69822643e-01,  6.09700557e-02,  2.91237388e-01,\n",
       "        2.40553311e-01,  8.32795918e-02,  1.95095702e-01, -5.98382543e-03,\n",
       "        1.33305232e-01,  9.79098777e-02,  1.07188080e-01,  1.73422677e-01,\n",
       "        2.11450909e-01, -8.23068524e-03, -8.22579065e-02,  1.89315045e-01,\n",
       "        1.88999223e-01,  2.22355898e-02,  1.21230372e-01,  3.05957401e-01,\n",
       "        6.27633388e-02,  1.02773478e-01,  3.08917537e-01,  3.06379558e-01,\n",
       "        2.80756140e-01,  1.26316282e-01,  1.18059328e-01,  9.03788737e-02,\n",
       "       -1.92362544e-03,  7.50618608e-02,  2.63313630e-01,  1.00061912e-01,\n",
       "        1.92224295e-01, -4.34499614e-02,  6.25317939e-02,  1.08333373e-01,\n",
       "        1.89742741e-01,  1.11693168e-01, -1.91102312e-02, -1.03820917e-02,\n",
       "        3.73104292e-01,  1.15288702e-01,  1.20428981e-01,  5.71081281e-02,\n",
       "        2.28782900e-02,  9.04359193e-02,  1.36013778e-01,  2.62439280e-01,\n",
       "       -4.29395222e-02, -9.86421991e-03,  3.18559106e-01,  1.50169618e-01,\n",
       "       -4.68532034e-02,  2.89871255e-01,  1.80295226e-01,  1.12293462e-01,\n",
       "        1.93877041e-01,  3.76142673e-03,  2.13242564e-01, -2.44014627e-02,\n",
       "        2.91226470e-02,  2.44415802e-01,  2.92035293e-01,  3.78096494e-01,\n",
       "        2.15451949e-01,  1.72643063e-01, -3.20024919e-02,  1.23291419e-01,\n",
       "        5.89546279e-02,  1.23371261e-01, -3.12529257e-02,  1.44057207e-01,\n",
       "        1.03841667e-01,  2.35400974e-01,  3.04407853e-01,  1.33261503e-01,\n",
       "        6.24833156e-02,  7.42757888e-02,  1.48499418e-01,  4.30798497e-02,\n",
       "        2.38946244e-01,  2.52201160e-01,  1.32533784e-01,  1.26784096e-01,\n",
       "        2.21222432e-01,  1.60871928e-01,  2.23688076e-01,  1.30081965e-01,\n",
       "        3.00973132e-01,  1.13868988e-01,  1.43365402e-01,  1.46255796e-01,\n",
       "        3.94817152e-01,  4.60541400e-02,  4.37468373e-02,  2.28852559e-01,\n",
       "        1.47341195e-01,  5.64019669e-02,  4.51389467e-01,  1.68825496e-01,\n",
       "        1.52519096e-01,  1.54902874e-01, -4.38679144e-02,  2.59857163e-01,\n",
       "        9.52182909e-02,  3.61662296e-02,  1.46582893e-01,  4.75897908e-01,\n",
       "        1.12331164e-01,  2.58109781e-01,  2.20773148e-01,  2.11643257e-01,\n",
       "        2.72005667e-02,  4.05481274e-02,  3.22348005e-01,  6.33051570e-02,\n",
       "        3.81782036e-02,  3.73714040e-01,  3.23918502e-02,  5.69379730e-02,\n",
       "        1.34619922e-02,  4.61212749e-02,  2.76443403e-02,  1.52275810e-01,\n",
       "        2.14595586e-01,  9.28223002e-02,  1.22576319e-01,  3.07520505e-01,\n",
       "        5.70518680e-01,  3.54697132e-02,  6.69224228e-03,  2.30878841e-01,\n",
       "        3.20954096e-01,  3.02638638e-02,  1.30951801e-01,  6.17391957e-02,\n",
       "        2.72261935e-02,  8.30161243e-02,  7.54572716e-02,  1.37824244e-01,\n",
       "        1.04751668e-01,  1.39119761e-01, -3.28185559e-02,  1.39623639e-01,\n",
       "        9.87665238e-02,  1.19150138e-01,  3.05266802e-02,  1.31689161e-01,\n",
       "        1.89483094e-01,  2.20280728e-01,  1.40211334e-01,  9.94371247e-02,\n",
       "        1.28207577e-01,  1.99334007e-01,  1.79838671e-01,  1.92956082e-01,\n",
       "        2.99596095e-01,  7.31430300e-02,  4.41136112e-02, -9.98772147e-03,\n",
       "        3.39398571e-01,  2.12032862e-01,  2.31899490e-01,  3.50556236e-01,\n",
       "        2.39571951e-01, -1.40914070e-02,  1.10711391e-01,  1.60883609e-01,\n",
       "        4.34106602e-02,  1.29357803e-01,  1.98842863e-01, -3.69437896e-02,\n",
       "        2.25523376e-01,  1.36186940e-01,  6.10451820e-02, -3.17722249e-02,\n",
       "        2.12193995e-01,  2.40732705e-01,  2.98577040e-01, -1.14647371e-02,\n",
       "        1.94538997e-01,  3.48649696e-01,  3.63863645e-02,  6.79030415e-02,\n",
       "        1.90935094e-01,  2.15606867e-01,  1.79158257e-01, -3.84165413e-02,\n",
       "        2.08248410e-02,  2.23662665e-01,  1.40934524e-01,  3.44578266e-01,\n",
       "        1.76160546e-01,  3.79872053e-01,  4.15947280e-01,  1.73969740e-01,\n",
       "        1.66095185e-01,  1.71036922e-01,  1.06451465e-01,  1.87054127e-01,\n",
       "        1.43376937e-01,  5.51296556e-03,  1.13304396e-01,  7.43724469e-02,\n",
       "        1.52220010e-01,  2.06109174e-01,  4.08034672e-02,  2.61139711e-01,\n",
       "        1.51707287e-01, -8.00248400e-03,  1.73181529e-01,  1.00592713e-01,\n",
       "        1.13270301e-01,  3.02045752e-02,  2.07845619e-02,  3.69010196e-01,\n",
       "        1.25840119e-01,  2.03487810e-01,  7.03756207e-02,  1.20270254e-01,\n",
       "       -2.33288844e-02,  2.51381834e-01,  5.18921398e-04,  3.33445425e-01,\n",
       "        1.27032624e-01,  1.74358585e-01,  7.42716872e-02,  1.01051919e-01,\n",
       "        5.62365007e-02,  1.14186045e-01,  6.81868353e-02,  4.83716397e-02,\n",
       "        1.29345631e-01,  4.86669845e-02,  3.02634387e-01,  2.71037641e-01,\n",
       "        1.62074559e-01,  3.09965561e-01,  1.00452985e-01,  2.55101518e-01,\n",
       "        2.05353057e-02,  2.16599250e-01,  1.63584437e-01,  6.45089917e-02,\n",
       "        6.20073772e-02,  8.94558064e-02,  4.28926970e-02,  1.19835482e-01,\n",
       "        1.37562132e-01,  5.55876896e-02,  8.44807445e-02,  5.37220850e-02,\n",
       "        2.98238158e-02,  2.04902672e-01,  3.10249691e-01,  1.71566141e-01,\n",
       "        7.00999660e-02,  9.85800486e-02,  2.79210034e-01, -1.56406265e-03,\n",
       "        8.00228065e-02,  1.14855361e-02,  6.88962943e-02,  2.27743800e-02,\n",
       "        8.19089509e-02, -2.99177225e-02,  6.65662890e-02,  2.08763225e-01,\n",
       "        1.88223796e-01,  7.67871127e-02,  2.80833611e-01,  2.76654286e-01,\n",
       "        8.42039706e-02,  1.72592294e-01,  2.25474250e-01,  3.07037339e-01,\n",
       "        3.12164779e-01,  2.87635033e-02,  9.34752039e-02,  5.76600598e-02,\n",
       "        1.12177038e-01,  3.77678020e-03,  3.60055845e-03,  4.37196041e-02,\n",
       "        9.98988654e-02,  3.46158146e-01,  1.01545073e-01,  8.53856796e-02,\n",
       "       -4.54320256e-02,  1.22555352e-01, -4.05581245e-02,  8.17591553e-02,\n",
       "        3.50493364e-01,  3.53148671e-02,  7.05237144e-02, -2.14124818e-02,\n",
       "        1.20633180e-01,  7.10064492e-02,  2.84308869e-01,  2.06972900e-01,\n",
       "       -8.00427160e-04,  2.72438990e-01,  1.36320811e-01,  2.03237972e-01,\n",
       "        6.90370147e-02,  1.67656405e-01,  1.24207925e-01,  1.09318302e-01,\n",
       "        8.79322962e-02,  1.18751770e-01,  2.02464097e-01,  1.97507868e-01,\n",
       "        4.78336342e-01,  4.94355357e-02,  5.11969190e-02, -1.65366577e-02,\n",
       "        1.92042124e-01,  1.94953245e-01,  1.66223718e-01,  3.46389174e-01,\n",
       "        9.51474077e-02,  4.97387438e-02, -5.87401329e-03,  3.61627658e-01,\n",
       "        2.18771846e-01,  2.17470802e-01,  6.96311604e-02,  2.85187816e-01,\n",
       "        1.13994894e-01,  2.41945066e-01,  2.45938373e-01,  5.13055415e-02,\n",
       "        3.13870529e-01,  3.84099522e-02,  2.02798827e-01,  1.34066596e-01,\n",
       "        5.08884525e-02,  2.70265977e-01,  4.95388979e-01,  1.51101681e-01,\n",
       "        1.17998211e-01,  2.18164273e-01,  9.92284696e-02,  6.69836753e-02,\n",
       "        1.82676618e-01,  2.03842820e-01,  2.07611460e-01,  7.32763168e-02,\n",
       "        1.83310817e-01,  1.18058927e-01,  9.01300554e-02,  3.26281269e-01,\n",
       "        1.24933978e-01,  1.26687719e-01,  1.38906704e-01,  2.61527724e-01,\n",
       "        3.99563617e-01,  3.29450651e-01,  2.49955514e-01,  2.48384857e-01,\n",
       "        1.75224809e-01,  4.41906227e-01,  1.61032018e-01,  4.43088223e-02,\n",
       "        1.70596811e-01,  1.63415896e-01,  1.13583397e-01,  2.98011265e-01,\n",
       "        2.41229011e-02,  8.90543499e-02,  8.25866788e-02,  2.68943791e-01,\n",
       "        2.24388793e-01, -2.44505366e-02,  1.64043069e-01,  2.58942578e-01,\n",
       "        1.47596770e-01,  2.73627417e-01,  1.05755310e-03,  4.84044556e-02,\n",
       "        1.59817583e-01,  1.60179877e-01,  1.44388404e-01,  1.00317236e-01,\n",
       "        1.87164952e-02,  1.29931254e-01,  5.69819879e-02,  1.69985091e-02,\n",
       "        1.59225419e-01,  2.39013092e-01,  1.86712539e-01,  6.55537394e-02,\n",
       "        3.46492085e-01,  6.09364080e-02,  1.19679271e-01,  8.91986482e-02,\n",
       "        2.56389254e-01,  2.28749143e-01,  4.26447537e-02,  1.88102593e-01,\n",
       "        4.51611081e-02,  3.47472396e-02,  2.44845564e-01,  1.41664617e-01,\n",
       "        3.89879407e-01,  1.40680987e-01, -5.01803601e-02,  1.37559688e-01,\n",
       "        4.07859412e-02,  2.02948270e-01,  1.33825301e-01, -3.45258940e-02,\n",
       "        2.45754684e-01,  2.44348521e-01,  1.98633016e-01,  2.80259513e-01,\n",
       "        9.17787292e-02,  4.90638251e-02,  1.95934360e-01,  8.89894837e-02,\n",
       "        8.21383128e-02,  1.55204378e-01,  1.13433036e-01,  8.66517369e-02,\n",
       "        1.99287940e-01,  1.94072506e-01,  1.29958174e-01,  1.99834014e-03,\n",
       "        8.71724442e-02,  1.17563403e-01,  1.46511501e-01,  6.90336330e-02,\n",
       "        1.73529644e-01,  9.16957965e-02,  2.95931637e-01,  2.57259602e-01,\n",
       "        4.08627112e-02,  6.33534582e-02,  2.50280312e-01,  2.02694897e-01,\n",
       "        3.53594551e-01, -1.52468069e-02,  1.57044561e-01,  5.06608724e-01,\n",
       "        1.34639028e-02,  3.73047318e-01,  6.85451961e-02,  2.12416632e-01,\n",
       "        6.04331949e-02,  2.22348208e-01,  7.16683141e-02,  2.55753666e-01,\n",
       "        2.65993480e-01,  1.23510974e-02,  1.39281578e-01,  1.57398199e-01,\n",
       "        1.15883159e-01,  4.75924086e-02,  3.41846628e-02, -3.01795055e-02,\n",
       "        6.61867264e-02,  1.16143737e-01,  2.47222334e-01,  1.09885518e-01,\n",
       "        1.51703936e-01,  2.03587188e-01, -2.43186986e-02,  7.16216089e-02,\n",
       "        6.77554275e-02,  2.08673056e-01,  2.58395084e-01,  6.20716454e-02,\n",
       "        2.59422140e-01,  8.03033676e-02,  2.62512519e-02,  1.66435922e-01,\n",
       "        3.82487722e-01,  1.99756605e-01,  1.92449956e-01,  2.21266989e-01,\n",
       "       -9.09418963e-03,  7.19668147e-02,  2.05712781e-01,  2.71232310e-01,\n",
       "       -3.70147983e-03,  4.59704706e-01,  1.94597093e-01,  9.04505329e-02,\n",
       "        8.85703936e-02,  3.22357051e-01,  2.41888240e-01,  9.95467253e-02,\n",
       "        5.37865750e-02,  1.28527927e-01,  1.49536514e-01,  2.72431521e-01,\n",
       "        2.05731585e-01,  2.39587830e-01,  2.96164417e-01,  2.32895793e-01,\n",
       "        6.86974838e-02,  4.13471421e-03,  2.11705026e-01,  2.85705577e-01,\n",
       "        3.83306465e-01,  5.51109915e-02,  3.93185514e-02,  1.69132213e-01,\n",
       "        3.61450624e-01,  1.13926700e-01,  1.00963307e-01,  2.12696898e-01,\n",
       "        9.00256073e-02,  1.19175336e-01,  1.97122162e-01,  1.76683880e-01,\n",
       "        7.79661175e-02, -2.25694916e-02,  7.64983963e-02,  2.22332529e-01,\n",
       "        1.07157732e-01,  1.54103979e-01,  5.04799123e-02,  2.29186132e-01,\n",
       "        2.35223741e-01,  9.12563702e-02,  2.18246138e-01,  1.23996884e-01,\n",
       "        2.15462948e-01,  1.17974455e-01,  1.23961157e-01,  1.72937947e-01,\n",
       "        1.51405849e-01,  2.14802769e-02,  1.27247674e-01,  9.03630610e-02,\n",
       "        2.31872412e-02,  1.30112852e-01,  1.74533261e-01,  3.40519848e-02,\n",
       "       -3.79788073e-02,  1.07819882e-01,  1.98054793e-01,  1.33082758e-01,\n",
       "        8.35094205e-02,  1.96462863e-01,  2.18367768e-01,  1.23823973e-01,\n",
       "        2.86302966e-01,  2.77862007e-01,  1.50884980e-01,  1.01390716e-01,\n",
       "        2.61796994e-02,  1.09254506e-01,  2.74593287e-01,  8.95456071e-02,\n",
       "        2.34966662e-01,  2.07281839e-01,  2.92588503e-02,  1.20542457e-01,\n",
       "        2.35416143e-01,  6.30853481e-02,  1.10760407e-01,  4.65604843e-01,\n",
       "        4.16911705e-02,  2.14430864e-04,  3.69990078e-01,  7.48170752e-02,\n",
       "        1.30654692e-01,  8.87371910e-02,  2.40031761e-01,  1.07001521e-01,\n",
       "        1.79624104e-01,  3.10739451e-01, -7.23829199e-02,  9.90239119e-02,\n",
       "        8.13101287e-02,  6.06842254e-02,  3.07693634e-01,  4.67628750e-02,\n",
       "        1.34349053e-01,  1.41291554e-01,  1.57352496e-01,  1.01768660e-01,\n",
       "        2.56275945e-01,  2.13442077e-01,  1.91480749e-01,  9.29798510e-03,\n",
       "        1.60843692e-01,  1.02759664e-01,  2.09693226e-01,  9.37993230e-03,\n",
       "       -1.66432509e-02,  2.02802187e-01,  5.35380490e-03,  9.22247357e-02,\n",
       "        7.53724574e-02, -2.04376478e-02,  7.58220121e-02,  3.15749393e-01,\n",
       "        3.43149221e-01,  2.72944947e-01,  2.06664715e-01,  1.54621132e-01,\n",
       "       -1.83660006e-02,  2.35771984e-02,  2.61167059e-01,  1.24244613e-01,\n",
       "        2.07476901e-01,  1.33967841e-01,  2.86233585e-01,  1.38198773e-01,\n",
       "       -1.65160254e-02,  1.62776574e-02,  6.52572984e-02,  1.40084990e-01,\n",
       "        1.95537619e-02,  1.09113483e-01,  9.59410416e-02, -1.87240413e-02,\n",
       "        6.56496997e-02,  3.07225104e-01,  2.23354605e-02,  7.72920022e-02,\n",
       "        9.31296548e-03,  2.81211889e-01, -2.12127580e-03,  9.60627634e-02,\n",
       "       -1.16082073e-02,  1.08970090e-01,  2.18688993e-01,  2.35770702e-02,\n",
       "        2.09507965e-01,  2.94033723e-02,  2.34183331e-01,  4.76711491e-02,\n",
       "        9.26377166e-02,  1.88425726e-01, -3.05609643e-02,  3.31783173e-01,\n",
       "        1.33390224e-01,  2.00318821e-01, -5.18285600e-02,  6.14214276e-02,\n",
       "       -1.66641126e-03,  1.95803143e-01,  1.78472322e-01,  2.66081104e-01,\n",
       "       -5.57770319e-03,  4.05460634e-01,  3.14949983e-01,  1.41945225e-01,\n",
       "        2.51619673e-02,  1.57646721e-01,  1.42296807e-01,  2.81581351e-01,\n",
       "        6.31272469e-02,  4.47980557e-01,  1.59653912e-02,  2.15346985e-01,\n",
       "        1.13423673e-01,  1.73764372e-02,  6.36476290e-02, -6.26638326e-02,\n",
       "        2.30484746e-01,  1.58655875e-01,  1.56324128e-01,  1.83879904e-02,\n",
       "        1.16023459e-01,  6.50219573e-02,  2.54776943e-01,  5.61633445e-02,\n",
       "        1.04290063e-01,  1.42764443e-01,  5.56920012e-02,  1.13556916e-01,\n",
       "        4.62986644e-01,  2.26424155e-01,  5.29654008e-01,  3.79748170e-02,\n",
       "        1.18681147e-01,  8.66672677e-02,  1.04031512e-01,  1.82045802e-02,\n",
       "        3.20206508e-01,  2.69587926e-01,  4.59029588e-03,  6.28865167e-02,\n",
       "        2.71889216e-01,  6.65474951e-02,  3.03124837e-02,  2.68510647e-01,\n",
       "        2.64517905e-01,  1.79847749e-01, -7.00965602e-03,  1.86283983e-01,\n",
       "        1.73272159e-03,  8.30069256e-02,  9.86807476e-02,  4.52571427e-01,\n",
       "        8.89438619e-02, -1.22576782e-02,  1.86790021e-01,  5.02662363e-02,\n",
       "        2.12036747e-01,  1.10954308e-01,  2.02667344e-01,  4.97960004e-01,\n",
       "        4.42059480e-03,  3.26102997e-01,  8.49043812e-02,  4.53010764e-02,\n",
       "        1.48668486e-01,  3.12272450e-02,  1.73399548e-01,  1.80803791e-01,\n",
       "        2.52098201e-01,  4.98182899e-02,  1.94807379e-01,  2.31026731e-01,\n",
       "       -3.49684997e-02,  3.81588361e-01,  5.71168761e-02,  1.04560277e-01,\n",
       "        1.56188452e-01, -2.02169824e-02,  2.84893330e-01,  1.72064289e-01,\n",
       "        1.96210137e-01,  1.44023286e-01,  1.83934195e-01,  2.30225090e-01,\n",
       "        2.07178539e-01,  2.37383228e-01,  2.20501101e-02,  7.59190651e-02,\n",
       "        1.42047890e-01,  3.12324035e-01,  9.95496326e-03,  2.42775028e-01,\n",
       "        1.07343898e-01,  1.44761133e-01,  2.15056232e-01,  1.01979805e-02,\n",
       "        2.32198830e-01,  2.98276354e-01,  5.23889092e-02,  1.94718224e-01,\n",
       "        2.73460663e-01,  5.37496508e-02,  2.17915619e-01,  4.17970133e-01,\n",
       "        1.00584165e-01,  1.27757195e-01,  3.31372772e-01,  2.58176705e-01,\n",
       "        3.07803429e-01,  2.67515903e-01,  9.81346411e-02,  4.03935115e-02,\n",
       "        7.70529670e-02,  2.54594484e-01,  2.98061821e-01, -3.51960203e-02,\n",
       "        1.81870184e-01,  1.48464723e-01,  1.88863502e-01,  8.82470975e-02,\n",
       "        2.10371064e-01,  1.45191168e-01,  2.60553854e-03,  2.72819726e-01,\n",
       "        1.21593808e-01,  1.12844609e-02,  2.91323846e-01,  1.37261806e-01])"
      ]
     },
     "execution_count": 43,
     "metadata": {},
     "output_type": "execute_result"
    }
   ],
   "source": [
    "from sklearn import linear_model\n",
    "lr=linear_model.LinearRegression()\n",
    "model=lr.fit(x_train,y_train)\n",
    "pred=model.predict(x_test)\n",
    "pred"
   ]
  },
  {
   "cell_type": "code",
   "execution_count": 44,
   "id": "765b3554",
   "metadata": {},
   "outputs": [
    {
     "name": "stdout",
     "output_type": "stream",
     "text": [
      "Mean squared error is: 0.12465746341033217\n"
     ]
    }
   ],
   "source": [
    "from sklearn.metrics import mean_squared_error\n",
    "print('Mean squared error is:',mean_squared_error(y_test,pred))"
   ]
  },
  {
   "cell_type": "code",
   "execution_count": 47,
   "id": "f1f2b110",
   "metadata": {},
   "outputs": [
    {
     "data": {
      "text/plain": [
       "array([ 5.17508821e-02,  7.02979784e-03, -4.25598477e-03,  2.09985685e-04,\n",
       "        2.28186525e-03,  5.63047661e-03,  2.06847703e-01,  4.51419482e-02,\n",
       "        5.91259955e-02,  5.24820187e-05,  2.08718861e-03, -8.79885794e-04,\n",
       "       -1.25125258e-03, -1.20402223e-04,  1.06309596e-03])"
      ]
     },
     "execution_count": 47,
     "metadata": {},
     "output_type": "execute_result"
    }
   ],
   "source": [
    "model.coef_"
   ]
  },
  {
   "cell_type": "code",
   "execution_count": 46,
   "id": "39413e2d",
   "metadata": {},
   "outputs": [
    {
     "data": {
      "text/plain": [
       "-0.51235441940261"
      ]
     },
     "execution_count": 46,
     "metadata": {},
     "output_type": "execute_result"
    }
   ],
   "source": [
    "model.intercept_"
   ]
  },
  {
   "cell_type": "code",
   "execution_count": 48,
   "id": "d5941f3c",
   "metadata": {},
   "outputs": [
    {
     "name": "stdout",
     "output_type": "stream",
     "text": [
      "R squared value is: 0.09040313575485304\n"
     ]
    }
   ],
   "source": [
    "from sklearn.metrics import r2_score\n",
    "print('R squared value is:',r2_score(y_test,pred))"
   ]
  },
  {
   "cell_type": "code",
   "execution_count": 49,
   "id": "4ea814f1",
   "metadata": {},
   "outputs": [
    {
     "data": {
      "text/html": [
       "<div>\n",
       "<style scoped>\n",
       "    .dataframe tbody tr th:only-of-type {\n",
       "        vertical-align: middle;\n",
       "    }\n",
       "\n",
       "    .dataframe tbody tr th {\n",
       "        vertical-align: top;\n",
       "    }\n",
       "\n",
       "    .dataframe thead th {\n",
       "        text-align: right;\n",
       "    }\n",
       "</style>\n",
       "<table border=\"1\" class=\"dataframe\">\n",
       "  <thead>\n",
       "    <tr style=\"text-align: right;\">\n",
       "      <th></th>\n",
       "      <th>male</th>\n",
       "      <th>age</th>\n",
       "      <th>education</th>\n",
       "      <th>currentSmoker</th>\n",
       "      <th>cigsPerDay</th>\n",
       "      <th>BPMeds</th>\n",
       "      <th>prevalentStroke</th>\n",
       "      <th>prevalentHyp</th>\n",
       "      <th>diabetes</th>\n",
       "      <th>totChol</th>\n",
       "      <th>sysBP</th>\n",
       "      <th>diaBP</th>\n",
       "      <th>BMI</th>\n",
       "      <th>heartRate</th>\n",
       "      <th>glucose</th>\n",
       "    </tr>\n",
       "  </thead>\n",
       "  <tbody>\n",
       "    <tr>\n",
       "      <th>0</th>\n",
       "      <td>1</td>\n",
       "      <td>39</td>\n",
       "      <td>4.0</td>\n",
       "      <td>0</td>\n",
       "      <td>0.0</td>\n",
       "      <td>0.0</td>\n",
       "      <td>0</td>\n",
       "      <td>0</td>\n",
       "      <td>0</td>\n",
       "      <td>195.0</td>\n",
       "      <td>106.0</td>\n",
       "      <td>70.0</td>\n",
       "      <td>26.97</td>\n",
       "      <td>80.0</td>\n",
       "      <td>77.0</td>\n",
       "    </tr>\n",
       "    <tr>\n",
       "      <th>1</th>\n",
       "      <td>0</td>\n",
       "      <td>46</td>\n",
       "      <td>2.0</td>\n",
       "      <td>0</td>\n",
       "      <td>0.0</td>\n",
       "      <td>0.0</td>\n",
       "      <td>0</td>\n",
       "      <td>0</td>\n",
       "      <td>0</td>\n",
       "      <td>250.0</td>\n",
       "      <td>121.0</td>\n",
       "      <td>81.0</td>\n",
       "      <td>28.73</td>\n",
       "      <td>95.0</td>\n",
       "      <td>76.0</td>\n",
       "    </tr>\n",
       "    <tr>\n",
       "      <th>2</th>\n",
       "      <td>1</td>\n",
       "      <td>48</td>\n",
       "      <td>1.0</td>\n",
       "      <td>1</td>\n",
       "      <td>20.0</td>\n",
       "      <td>0.0</td>\n",
       "      <td>0</td>\n",
       "      <td>0</td>\n",
       "      <td>0</td>\n",
       "      <td>245.0</td>\n",
       "      <td>127.5</td>\n",
       "      <td>80.0</td>\n",
       "      <td>25.34</td>\n",
       "      <td>75.0</td>\n",
       "      <td>70.0</td>\n",
       "    </tr>\n",
       "    <tr>\n",
       "      <th>3</th>\n",
       "      <td>0</td>\n",
       "      <td>61</td>\n",
       "      <td>3.0</td>\n",
       "      <td>1</td>\n",
       "      <td>30.0</td>\n",
       "      <td>0.0</td>\n",
       "      <td>0</td>\n",
       "      <td>1</td>\n",
       "      <td>0</td>\n",
       "      <td>225.0</td>\n",
       "      <td>150.0</td>\n",
       "      <td>95.0</td>\n",
       "      <td>28.58</td>\n",
       "      <td>65.0</td>\n",
       "      <td>103.0</td>\n",
       "    </tr>\n",
       "    <tr>\n",
       "      <th>4</th>\n",
       "      <td>0</td>\n",
       "      <td>46</td>\n",
       "      <td>3.0</td>\n",
       "      <td>1</td>\n",
       "      <td>23.0</td>\n",
       "      <td>0.0</td>\n",
       "      <td>0</td>\n",
       "      <td>0</td>\n",
       "      <td>0</td>\n",
       "      <td>285.0</td>\n",
       "      <td>130.0</td>\n",
       "      <td>84.0</td>\n",
       "      <td>23.10</td>\n",
       "      <td>85.0</td>\n",
       "      <td>85.0</td>\n",
       "    </tr>\n",
       "  </tbody>\n",
       "</table>\n",
       "</div>"
      ],
      "text/plain": [
       "   male  age  education  currentSmoker  cigsPerDay  BPMeds  prevalentStroke  \\\n",
       "0     1   39        4.0              0         0.0     0.0                0   \n",
       "1     0   46        2.0              0         0.0     0.0                0   \n",
       "2     1   48        1.0              1        20.0     0.0                0   \n",
       "3     0   61        3.0              1        30.0     0.0                0   \n",
       "4     0   46        3.0              1        23.0     0.0                0   \n",
       "\n",
       "   prevalentHyp  diabetes  totChol  sysBP  diaBP    BMI  heartRate  glucose  \n",
       "0             0         0    195.0  106.0   70.0  26.97       80.0     77.0  \n",
       "1             0         0    250.0  121.0   81.0  28.73       95.0     76.0  \n",
       "2             0         0    245.0  127.5   80.0  25.34       75.0     70.0  \n",
       "3             1         0    225.0  150.0   95.0  28.58       65.0    103.0  \n",
       "4             0         0    285.0  130.0   84.0  23.10       85.0     85.0  "
      ]
     },
     "execution_count": 49,
     "metadata": {},
     "output_type": "execute_result"
    }
   ],
   "source": [
    "data1.head()"
   ]
  },
  {
   "cell_type": "code",
   "execution_count": null,
   "id": "95e57c9e",
   "metadata": {},
   "outputs": [],
   "source": [
    "#4 MODELLING"
   ]
  },
  {
   "cell_type": "code",
   "execution_count": 51,
   "id": "a073f6c7",
   "metadata": {},
   "outputs": [],
   "source": [
    "from sklearn.model_selection import train_test_split\n",
    "X=df.drop(columns=['TenYearCHD'])\n",
    "Y=df['TenYearCHD']\n",
    "x_train, x_test, y_train, y_test= train_test_split(X,Y,test_size=0.30)"
   ]
  },
  {
   "cell_type": "code",
   "execution_count": null,
   "id": "3acc6b94",
   "metadata": {},
   "outputs": [],
   "source": [
    "#LOGISTIC REGRESSION"
   ]
  },
  {
   "cell_type": "code",
   "execution_count": 52,
   "id": "5adff1fb",
   "metadata": {},
   "outputs": [],
   "source": [
    "from sklearn.linear_model import LogisticRegression\n",
    "model = LogisticRegression()"
   ]
  },
  {
   "cell_type": "code",
   "execution_count": 53,
   "id": "1d4d0c76",
   "metadata": {},
   "outputs": [
    {
     "data": {
      "text/plain": [
       "LogisticRegression()"
      ]
     },
     "execution_count": 53,
     "metadata": {},
     "output_type": "execute_result"
    }
   ],
   "source": [
    "model.fit(x_train,y_train)"
   ]
  },
  {
   "cell_type": "code",
   "execution_count": 54,
   "id": "48fe7a3e",
   "metadata": {},
   "outputs": [
    {
     "name": "stdout",
     "output_type": "stream",
     "text": [
      "Accuracy: 84.43396226415094\n"
     ]
    }
   ],
   "source": [
    "print(\"Accuracy:\",model.score(x_test,y_test)*100)"
   ]
  },
  {
   "cell_type": "code",
   "execution_count": null,
   "id": "f84ce3c1",
   "metadata": {},
   "outputs": [],
   "source": [
    "#KNEIGHBORS"
   ]
  },
  {
   "cell_type": "code",
   "execution_count": 55,
   "id": "b1cf9fc6",
   "metadata": {},
   "outputs": [],
   "source": [
    "from sklearn.neighbors import KNeighborsClassifier\n",
    "model=KNeighborsClassifier()"
   ]
  },
  {
   "cell_type": "code",
   "execution_count": 56,
   "id": "8178008f",
   "metadata": {},
   "outputs": [
    {
     "data": {
      "text/plain": [
       "KNeighborsClassifier()"
      ]
     },
     "execution_count": 56,
     "metadata": {},
     "output_type": "execute_result"
    }
   ],
   "source": [
    "model.fit(x_train,y_train)"
   ]
  },
  {
   "cell_type": "code",
   "execution_count": 57,
   "id": "dc30a6fa",
   "metadata": {},
   "outputs": [
    {
     "name": "stdout",
     "output_type": "stream",
     "text": [
      "Accuracy: 83.09748427672956\n"
     ]
    }
   ],
   "source": [
    "print(\"Accuracy:\",model.score(x_test,y_test)*100)"
   ]
  },
  {
   "cell_type": "code",
   "execution_count": null,
   "id": "a7dac897",
   "metadata": {},
   "outputs": [],
   "source": [
    "#DECISION TREE CLASSIFIER"
   ]
  },
  {
   "cell_type": "code",
   "execution_count": 58,
   "id": "c3e81208",
   "metadata": {},
   "outputs": [],
   "source": [
    "from sklearn.tree import DecisionTreeClassifier\n",
    "model=DecisionTreeClassifier()"
   ]
  },
  {
   "cell_type": "code",
   "execution_count": 59,
   "id": "930a6bdb",
   "metadata": {},
   "outputs": [
    {
     "data": {
      "text/plain": [
       "DecisionTreeClassifier()"
      ]
     },
     "execution_count": 59,
     "metadata": {},
     "output_type": "execute_result"
    }
   ],
   "source": [
    "model.fit(x_train,y_train)"
   ]
  },
  {
   "cell_type": "code",
   "execution_count": 60,
   "id": "bc1e30f8",
   "metadata": {},
   "outputs": [
    {
     "name": "stdout",
     "output_type": "stream",
     "text": [
      "Accuracy: 76.72955974842768\n"
     ]
    }
   ],
   "source": [
    "print(\"Accuracy:\",model.score(x_test,y_test)*100)"
   ]
  },
  {
   "cell_type": "code",
   "execution_count": null,
   "id": "32013952",
   "metadata": {},
   "outputs": [],
   "source": [
    "#SVC"
   ]
  },
  {
   "cell_type": "code",
   "execution_count": 61,
   "id": "a8851ad6",
   "metadata": {},
   "outputs": [
    {
     "data": {
      "text/plain": [
       "SVC(kernel='poly', random_state=21)"
      ]
     },
     "execution_count": 61,
     "metadata": {},
     "output_type": "execute_result"
    }
   ],
   "source": [
    "from sklearn.svm import SVC\n",
    "model = SVC(kernel=\"poly\",random_state=21)\n",
    "model.fit(x_train,y_train)"
   ]
  },
  {
   "cell_type": "code",
   "execution_count": 62,
   "id": "fa4f8442",
   "metadata": {},
   "outputs": [
    {
     "name": "stdout",
     "output_type": "stream",
     "text": [
      "Accuracy: 84.59119496855347\n"
     ]
    }
   ],
   "source": [
    "print(\"Accuracy:\",model.score(x_test,y_test)*100)"
   ]
  },
  {
   "cell_type": "code",
   "execution_count": null,
   "id": "f076ffa9",
   "metadata": {},
   "outputs": [],
   "source": [
    "#RANDOM FOREST CLASSIFIER\n"
   ]
  },
  {
   "cell_type": "code",
   "execution_count": 63,
   "id": "0baf154c",
   "metadata": {},
   "outputs": [],
   "source": [
    "from sklearn.ensemble import RandomForestClassifier\n",
    "model=RandomForestClassifier()"
   ]
  },
  {
   "cell_type": "code",
   "execution_count": 64,
   "id": "85fe09be",
   "metadata": {},
   "outputs": [
    {
     "data": {
      "text/plain": [
       "RandomForestClassifier()"
      ]
     },
     "execution_count": 64,
     "metadata": {},
     "output_type": "execute_result"
    }
   ],
   "source": [
    "model.fit(x_train,y_train)"
   ]
  },
  {
   "cell_type": "code",
   "execution_count": 65,
   "id": "d231edca",
   "metadata": {},
   "outputs": [
    {
     "name": "stdout",
     "output_type": "stream",
     "text": [
      "Accuracy: 84.5125786163522\n"
     ]
    }
   ],
   "source": [
    "print(\"Accuracy:\",model.score(x_test,y_test)*100)"
   ]
  },
  {
   "cell_type": "code",
   "execution_count": null,
   "id": "575fb5b2",
   "metadata": {},
   "outputs": [],
   "source": [
    "#SVC POLY"
   ]
  },
  {
   "cell_type": "code",
   "execution_count": 66,
   "id": "81128c2a",
   "metadata": {},
   "outputs": [],
   "source": [
    "from sklearn.svm import SVC\n",
    "model = SVC(kernel=\"poly\",random_state=21)"
   ]
  },
  {
   "cell_type": "code",
   "execution_count": 67,
   "id": "2461fde6",
   "metadata": {},
   "outputs": [
    {
     "data": {
      "text/plain": [
       "SVC(kernel='poly', random_state=21)"
      ]
     },
     "execution_count": 67,
     "metadata": {},
     "output_type": "execute_result"
    }
   ],
   "source": [
    "model.fit(x_train,y_train)"
   ]
  },
  {
   "cell_type": "code",
   "execution_count": 68,
   "id": "42456baa",
   "metadata": {},
   "outputs": [
    {
     "name": "stdout",
     "output_type": "stream",
     "text": [
      "Accuracy: 84.59119496855347\n"
     ]
    }
   ],
   "source": [
    "print(\"Accuracy:\",model.score(x_test,y_test)*100)"
   ]
  },
  {
   "cell_type": "code",
   "execution_count": null,
   "id": "919d7f39",
   "metadata": {},
   "outputs": [],
   "source": [
    "#SVC LINEAR"
   ]
  },
  {
   "cell_type": "code",
   "execution_count": 71,
   "id": "7c789735",
   "metadata": {},
   "outputs": [],
   "source": [
    "model= SVC(kernel=\"linear\",random_state=21)"
   ]
  },
  {
   "cell_type": "code",
   "execution_count": 72,
   "id": "27b3f240",
   "metadata": {},
   "outputs": [
    {
     "data": {
      "text/plain": [
       "SVC(kernel='linear', random_state=21)"
      ]
     },
     "execution_count": 72,
     "metadata": {},
     "output_type": "execute_result"
    }
   ],
   "source": [
    "model.fit(x_train,y_train)"
   ]
  },
  {
   "cell_type": "code",
   "execution_count": 73,
   "id": "29cd4847",
   "metadata": {},
   "outputs": [
    {
     "name": "stdout",
     "output_type": "stream",
     "text": [
      "Accuracy: 84.5125786163522\n"
     ]
    }
   ],
   "source": [
    "print(\"Accuracy:\",model.score(x_test,y_test)*100)"
   ]
  },
  {
   "cell_type": "code",
   "execution_count": null,
   "id": "33e57ca9",
   "metadata": {},
   "outputs": [],
   "source": [
    "#SVC RBF"
   ]
  },
  {
   "cell_type": "code",
   "execution_count": 74,
   "id": "5bbab5f9",
   "metadata": {},
   "outputs": [],
   "source": [
    "model = SVC(kernel=\"rbf\",random_state=21)"
   ]
  },
  {
   "cell_type": "code",
   "execution_count": 87,
   "id": "a5b063f7",
   "metadata": {},
   "outputs": [
    {
     "name": "stdout",
     "output_type": "stream",
     "text": [
      "[21:15:16] WARNING: C:/Users/Administrator/workspace/xgboost-win64_release_1.5.1/src/learner.cc:1115: Starting in XGBoost 1.3.0, the default evaluation metric used with the objective 'binary:logistic' was changed from 'error' to 'logloss'. Explicitly set eval_metric if you'd like to restore the old behavior.\n"
     ]
    },
    {
     "data": {
      "text/plain": [
       "XGBClassifier(base_score=0.5, booster='gbtree', colsample_bylevel=1,\n",
       "              colsample_bynode=1, colsample_bytree=1, enable_categorical=False,\n",
       "              gamma=0, gpu_id=-1, importance_type=None,\n",
       "              interaction_constraints='', learning_rate=0.300000012,\n",
       "              max_delta_step=0, max_depth=6, min_child_weight=1, missing=nan,\n",
       "              monotone_constraints='()', n_estimators=100, n_jobs=4,\n",
       "              num_parallel_tree=1, predictor='auto', random_state=0,\n",
       "              reg_alpha=0, reg_lambda=1, scale_pos_weight=1, subsample=1,\n",
       "              tree_method='exact', validate_parameters=1, verbosity=None)"
      ]
     },
     "execution_count": 87,
     "metadata": {},
     "output_type": "execute_result"
    }
   ],
   "source": [
    "model.fit(x_train,y_train)"
   ]
  },
  {
   "cell_type": "code",
   "execution_count": 88,
   "id": "60364ad6",
   "metadata": {},
   "outputs": [
    {
     "name": "stdout",
     "output_type": "stream",
     "text": [
      "Accuracy: 82.70440251572327\n"
     ]
    }
   ],
   "source": [
    "print(\"Accuracy:\",model.score(x_test,y_test)*100)"
   ]
  },
  {
   "cell_type": "code",
   "execution_count": null,
   "id": "6b8c473e",
   "metadata": {},
   "outputs": [],
   "source": [
    "#GRADIENT BOOSTING"
   ]
  },
  {
   "cell_type": "code",
   "execution_count": 89,
   "id": "525be487",
   "metadata": {},
   "outputs": [],
   "source": [
    "from sklearn.ensemble import GradientBoostingClassifier\n",
    "model=GradientBoostingClassifier()"
   ]
  },
  {
   "cell_type": "code",
   "execution_count": 90,
   "id": "0753c3c4",
   "metadata": {},
   "outputs": [
    {
     "data": {
      "text/plain": [
       "GradientBoostingClassifier()"
      ]
     },
     "execution_count": 90,
     "metadata": {},
     "output_type": "execute_result"
    }
   ],
   "source": [
    "model.fit(x_train,y_train)"
   ]
  },
  {
   "cell_type": "code",
   "execution_count": 91,
   "id": "e65d91c4",
   "metadata": {},
   "outputs": [
    {
     "name": "stdout",
     "output_type": "stream",
     "text": [
      "Accuracy: 84.90566037735849\n"
     ]
    }
   ],
   "source": [
    "y_pred=model.predict(x_test)\n",
    "print(\"Accuracy:\",model.score(x_test,y_test)*100)"
   ]
  },
  {
   "cell_type": "code",
   "execution_count": null,
   "id": "e96154b0",
   "metadata": {},
   "outputs": [],
   "source": [
    "#XGBCLASSIFIER"
   ]
  },
  {
   "cell_type": "code",
   "execution_count": 92,
   "id": "217e936b",
   "metadata": {},
   "outputs": [
    {
     "name": "stdout",
     "output_type": "stream",
     "text": [
      "Requirement already satisfied: xgboost in g:\\anaconda3\\lib\\site-packages (1.5.1)\n",
      "Requirement already satisfied: numpy in g:\\anaconda3\\lib\\site-packages (from xgboost) (1.20.1)\n",
      "Requirement already satisfied: scipy in g:\\anaconda3\\lib\\site-packages (from xgboost) (1.6.2)\n"
     ]
    }
   ],
   "source": [
    "!pip install xgboost"
   ]
  },
  {
   "cell_type": "code",
   "execution_count": 93,
   "id": "1035cb6e",
   "metadata": {},
   "outputs": [],
   "source": [
    "from xgboost import XGBClassifier"
   ]
  },
  {
   "cell_type": "code",
   "execution_count": 94,
   "id": "c77c525b",
   "metadata": {},
   "outputs": [
    {
     "name": "stdout",
     "output_type": "stream",
     "text": [
      "[21:15:22] WARNING: C:/Users/Administrator/workspace/xgboost-win64_release_1.5.1/src/learner.cc:1115: Starting in XGBoost 1.3.0, the default evaluation metric used with the objective 'binary:logistic' was changed from 'error' to 'logloss'. Explicitly set eval_metric if you'd like to restore the old behavior.\n",
      "Accuracy: 82.70440251572327\n"
     ]
    }
   ],
   "source": [
    "model=XGBClassifier()\n",
    "model.fit(x_train,y_train)\n",
    "print(\"Accuracy:\",model.score(x_test,y_test)*100)"
   ]
  },
  {
   "cell_type": "code",
   "execution_count": null,
   "id": "d09e25dc",
   "metadata": {},
   "outputs": [],
   "source": [
    "# RANDOMFOREST CLASSIFIER"
   ]
  },
  {
   "cell_type": "code",
   "execution_count": 95,
   "id": "b8efe340",
   "metadata": {},
   "outputs": [
    {
     "data": {
      "text/plain": [
       "RandomForestClassifier(n_estimators=5, random_state=21)"
      ]
     },
     "execution_count": 95,
     "metadata": {},
     "output_type": "execute_result"
    }
   ],
   "source": [
    "from sklearn.ensemble import RandomForestClassifier\n",
    "rfc= RandomForestClassifier(n_estimators=5, criterion=\"gini\",random_state=21)\n",
    "rfc.fit(x_train,y_train)"
   ]
  },
  {
   "cell_type": "code",
   "execution_count": 96,
   "id": "6e83988a",
   "metadata": {},
   "outputs": [
    {
     "name": "stdout",
     "output_type": "stream",
     "text": [
      "[0 1 0 ... 0 0 0]\n"
     ]
    }
   ],
   "source": [
    "y_pred=rfc.predict(x_train)\n",
    "print(y_pred)"
   ]
  },
  {
   "cell_type": "code",
   "execution_count": 98,
   "id": "da1a4f02",
   "metadata": {},
   "outputs": [],
   "source": [
    "x=df.iloc[:,:-1].values\n",
    "y=df.iloc[:,-1].values"
   ]
  },
  {
   "cell_type": "code",
   "execution_count": 99,
   "id": "488f6d1c",
   "metadata": {},
   "outputs": [
    {
     "name": "stdout",
     "output_type": "stream",
     "text": [
      "[[  1.    39.     4.   ...  26.97  80.    77.  ]\n",
      " [  0.    46.     2.   ...  28.73  95.    76.  ]\n",
      " [  1.    48.     1.   ...  25.34  75.    70.  ]\n",
      " ...\n",
      " [  0.    48.     2.   ...  22.    84.    86.  ]\n",
      " [  0.    44.     1.   ...  19.16  86.    78.  ]\n",
      " [  0.    52.     2.   ...  21.47  80.   107.  ]]\n"
     ]
    },
    {
     "data": {
      "text/plain": [
       "1272"
      ]
     },
     "execution_count": 99,
     "metadata": {},
     "output_type": "execute_result"
    }
   ],
   "source": [
    "print(x)\n",
    "len(y_test)"
   ]
  },
  {
   "cell_type": "code",
   "execution_count": 100,
   "id": "65b2494c",
   "metadata": {},
   "outputs": [
    {
     "name": "stdout",
     "output_type": "stream",
     "text": [
      "3955    0\n",
      "1335    0\n",
      "1016    0\n",
      "2479    0\n",
      "1356    0\n",
      "       ..\n",
      "4103    0\n",
      "2719    0\n",
      "3675    1\n",
      "224     0\n",
      "665     0\n",
      "Name: TenYearCHD, Length: 1272, dtype: int64\n"
     ]
    }
   ],
   "source": [
    "print(y_test)"
   ]
  },
  {
   "cell_type": "code",
   "execution_count": null,
   "id": "209c3f3b",
   "metadata": {},
   "outputs": [],
   "source": [
    "#5 MODEL FINR TUNING"
   ]
  },
  {
   "cell_type": "code",
   "execution_count": null,
   "id": "2e61dbe0",
   "metadata": {},
   "outputs": [],
   "source": [
    "LOGISTIC REGRESSION=84.43396226415094\n",
    "KNEIGHBORS= 83.09748427672956\n",
    "DECISION TREE CLASSIFIER=76.72955974842768\n",
    "SVC=84.59119496855347\n",
    "RANDOM FOREST CLASSIFIER=84.5125786163522\n",
    "SVC POLY=84.59119496855347\n",
    "SVC LINEAR=84.5125786163522\n",
    "SVC RBF=82.70440251572327\n",
    "GRADIENT BOOSTING=84.90566037735849\n",
    "XGBCLASSIFIER=82.70440251572327\n"
   ]
  }
 ],
 "metadata": {
  "kernelspec": {
   "display_name": "Python 3",
   "language": "python",
   "name": "python3"
  },
  "language_info": {
   "codemirror_mode": {
    "name": "ipython",
    "version": 3
   },
   "file_extension": ".py",
   "mimetype": "text/x-python",
   "name": "python",
   "nbconvert_exporter": "python",
   "pygments_lexer": "ipython3",
   "version": "3.8.8"
  }
 },
 "nbformat": 4,
 "nbformat_minor": 5
}
