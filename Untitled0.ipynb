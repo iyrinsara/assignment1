{
  "nbformat": 4,
  "nbformat_minor": 0,
  "metadata": {
    "colab": {
      "name": "Untitled0.ipynb",
      "provenance": []
    },
    "kernelspec": {
      "name": "python3",
      "display_name": "Python 3"
    },
    "language_info": {
      "name": "python"
    }
  },
  "cells": [
    {
      "cell_type": "code",
      "execution_count": null,
      "metadata": {
        "colab": {
          "base_uri": "https://localhost:8080/"
        },
        "id": "S0mUnt3X_3S4",
        "outputId": "d2d5c41c-ae1e-4b05-bc4c-d1634999bf28"
      },
      "outputs": [
        {
          "output_type": "stream",
          "name": "stdout",
          "text": [
            "Mounted at /content/drive\n"
          ]
        }
      ],
      "source": [
        "from google.colab import drive\n",
        "drive.mount('/content/drive',force_remount=True)"
      ]
    },
    {
      "cell_type": "code",
      "source": [
        "pwd"
      ],
      "metadata": {
        "colab": {
          "base_uri": "https://localhost:8080/",
          "height": 35
        },
        "id": "W0ot_MxGCj6o",
        "outputId": "60f36651-da6b-406a-aa6f-dffa60a70a68"
      },
      "execution_count": null,
      "outputs": [
        {
          "output_type": "execute_result",
          "data": {
            "application/vnd.google.colaboratory.intrinsic+json": {
              "type": "string"
            },
            "text/plain": [
              "'/content'"
            ]
          },
          "metadata": {},
          "execution_count": 3
        }
      ]
    },
    {
      "cell_type": "code",
      "source": [
        "cd drive"
      ],
      "metadata": {
        "colab": {
          "base_uri": "https://localhost:8080/"
        },
        "id": "Smr784P7Bcx3",
        "outputId": "78f8d3ea-fba5-4124-e3b9-dc1b53953114"
      },
      "execution_count": null,
      "outputs": [
        {
          "output_type": "stream",
          "name": "stdout",
          "text": [
            "/content/drive\n"
          ]
        }
      ]
    },
    {
      "cell_type": "code",
      "source": [
        "cd My Drive"
      ],
      "metadata": {
        "colab": {
          "base_uri": "https://localhost:8080/"
        },
        "id": "5kUh2ppAEB3n",
        "outputId": "93d2554a-01f5-480f-bfc0-f612fc807af9"
      },
      "execution_count": null,
      "outputs": [
        {
          "output_type": "stream",
          "name": "stdout",
          "text": [
            "/content/drive/My Drive\n"
          ]
        }
      ]
    },
    {
      "cell_type": "code",
      "source": [
        "cd project/"
      ],
      "metadata": {
        "colab": {
          "base_uri": "https://localhost:8080/"
        },
        "id": "Kq2SrE59EWG5",
        "outputId": "e7a3e55c-946c-44b2-b9b5-d7679897890e"
      },
      "execution_count": null,
      "outputs": [
        {
          "output_type": "stream",
          "name": "stdout",
          "text": [
            "/content/drive/MyDrive/project\n"
          ]
        }
      ]
    },
    {
      "cell_type": "code",
      "source": [
        "#import libraries"
      ],
      "metadata": {
        "id": "CLBj1GLKXouT"
      },
      "execution_count": null,
      "outputs": []
    },
    {
      "cell_type": "code",
      "source": [
        "import numpy as np\n",
        "import pandas as pd\n",
        "import matplotlib.pyplot as plt\n",
        "import seaborn as sns"
      ],
      "metadata": {
        "id": "8JT6HBBjFaL6"
      },
      "execution_count": null,
      "outputs": []
    },
    {
      "cell_type": "code",
      "source": [
        "data = pd.read_csv('movie_metadata.csv')\n",
        "data.head()"
      ],
      "metadata": {
        "colab": {
          "base_uri": "https://localhost:8080/",
          "height": 426
        },
        "id": "6ALV0ZNuHBfE",
        "outputId": "d2eac8f7-3c18-4d09-8fc1-caad1840c9ed"
      },
      "execution_count": null,
      "outputs": [
        {
          "output_type": "execute_result",
          "data": {
            "text/html": [
              "\n",
              "  <div id=\"df-26ee76d7-a451-4402-8d57-8eddb140c2ef\">\n",
              "    <div class=\"colab-df-container\">\n",
              "      <div>\n",
              "<style scoped>\n",
              "    .dataframe tbody tr th:only-of-type {\n",
              "        vertical-align: middle;\n",
              "    }\n",
              "\n",
              "    .dataframe tbody tr th {\n",
              "        vertical-align: top;\n",
              "    }\n",
              "\n",
              "    .dataframe thead th {\n",
              "        text-align: right;\n",
              "    }\n",
              "</style>\n",
              "<table border=\"1\" class=\"dataframe\">\n",
              "  <thead>\n",
              "    <tr style=\"text-align: right;\">\n",
              "      <th></th>\n",
              "      <th>color</th>\n",
              "      <th>director_name</th>\n",
              "      <th>num_critic_for_reviews</th>\n",
              "      <th>duration</th>\n",
              "      <th>director_facebook_likes</th>\n",
              "      <th>actor_3_facebook_likes</th>\n",
              "      <th>actor_2_name</th>\n",
              "      <th>actor_1_facebook_likes</th>\n",
              "      <th>gross</th>\n",
              "      <th>genres</th>\n",
              "      <th>actor_1_name</th>\n",
              "      <th>movie_title</th>\n",
              "      <th>num_voted_users</th>\n",
              "      <th>cast_total_facebook_likes</th>\n",
              "      <th>actor_3_name</th>\n",
              "      <th>facenumber_in_poster</th>\n",
              "      <th>plot_keywords</th>\n",
              "      <th>movie_imdb_link</th>\n",
              "      <th>num_user_for_reviews</th>\n",
              "      <th>language</th>\n",
              "      <th>country</th>\n",
              "      <th>content_rating</th>\n",
              "      <th>budget</th>\n",
              "      <th>title_year</th>\n",
              "      <th>actor_2_facebook_likes</th>\n",
              "      <th>imdb_score</th>\n",
              "      <th>aspect_ratio</th>\n",
              "      <th>movie_facebook_likes</th>\n",
              "    </tr>\n",
              "  </thead>\n",
              "  <tbody>\n",
              "    <tr>\n",
              "      <th>0</th>\n",
              "      <td>Color</td>\n",
              "      <td>James Cameron</td>\n",
              "      <td>723.0</td>\n",
              "      <td>178.0</td>\n",
              "      <td>0.0</td>\n",
              "      <td>855.0</td>\n",
              "      <td>Joel David Moore</td>\n",
              "      <td>1000.0</td>\n",
              "      <td>760505847.0</td>\n",
              "      <td>Action|Adventure|Fantasy|Sci-Fi</td>\n",
              "      <td>CCH Pounder</td>\n",
              "      <td>Avatar</td>\n",
              "      <td>886204</td>\n",
              "      <td>4834</td>\n",
              "      <td>Wes Studi</td>\n",
              "      <td>0.0</td>\n",
              "      <td>avatar|future|marine|native|paraplegic</td>\n",
              "      <td>http://www.imdb.com/title/tt0499549/?ref_=fn_t...</td>\n",
              "      <td>3054.0</td>\n",
              "      <td>English</td>\n",
              "      <td>USA</td>\n",
              "      <td>PG-13</td>\n",
              "      <td>237000000.0</td>\n",
              "      <td>2009.0</td>\n",
              "      <td>936.0</td>\n",
              "      <td>7.9</td>\n",
              "      <td>1.78</td>\n",
              "      <td>33000</td>\n",
              "    </tr>\n",
              "    <tr>\n",
              "      <th>1</th>\n",
              "      <td>Color</td>\n",
              "      <td>Gore Verbinski</td>\n",
              "      <td>302.0</td>\n",
              "      <td>169.0</td>\n",
              "      <td>563.0</td>\n",
              "      <td>1000.0</td>\n",
              "      <td>Orlando Bloom</td>\n",
              "      <td>40000.0</td>\n",
              "      <td>309404152.0</td>\n",
              "      <td>Action|Adventure|Fantasy</td>\n",
              "      <td>Johnny Depp</td>\n",
              "      <td>Pirates of the Caribbean: At World's End</td>\n",
              "      <td>471220</td>\n",
              "      <td>48350</td>\n",
              "      <td>Jack Davenport</td>\n",
              "      <td>0.0</td>\n",
              "      <td>goddess|marriage ceremony|marriage proposal|pi...</td>\n",
              "      <td>http://www.imdb.com/title/tt0449088/?ref_=fn_t...</td>\n",
              "      <td>1238.0</td>\n",
              "      <td>English</td>\n",
              "      <td>USA</td>\n",
              "      <td>PG-13</td>\n",
              "      <td>300000000.0</td>\n",
              "      <td>2007.0</td>\n",
              "      <td>5000.0</td>\n",
              "      <td>7.1</td>\n",
              "      <td>2.35</td>\n",
              "      <td>0</td>\n",
              "    </tr>\n",
              "    <tr>\n",
              "      <th>2</th>\n",
              "      <td>Color</td>\n",
              "      <td>Sam Mendes</td>\n",
              "      <td>602.0</td>\n",
              "      <td>148.0</td>\n",
              "      <td>0.0</td>\n",
              "      <td>161.0</td>\n",
              "      <td>Rory Kinnear</td>\n",
              "      <td>11000.0</td>\n",
              "      <td>200074175.0</td>\n",
              "      <td>Action|Adventure|Thriller</td>\n",
              "      <td>Christoph Waltz</td>\n",
              "      <td>Spectre</td>\n",
              "      <td>275868</td>\n",
              "      <td>11700</td>\n",
              "      <td>Stephanie Sigman</td>\n",
              "      <td>1.0</td>\n",
              "      <td>bomb|espionage|sequel|spy|terrorist</td>\n",
              "      <td>http://www.imdb.com/title/tt2379713/?ref_=fn_t...</td>\n",
              "      <td>994.0</td>\n",
              "      <td>English</td>\n",
              "      <td>UK</td>\n",
              "      <td>PG-13</td>\n",
              "      <td>245000000.0</td>\n",
              "      <td>2015.0</td>\n",
              "      <td>393.0</td>\n",
              "      <td>6.8</td>\n",
              "      <td>2.35</td>\n",
              "      <td>85000</td>\n",
              "    </tr>\n",
              "    <tr>\n",
              "      <th>3</th>\n",
              "      <td>Color</td>\n",
              "      <td>Christopher Nolan</td>\n",
              "      <td>813.0</td>\n",
              "      <td>164.0</td>\n",
              "      <td>22000.0</td>\n",
              "      <td>23000.0</td>\n",
              "      <td>Christian Bale</td>\n",
              "      <td>27000.0</td>\n",
              "      <td>448130642.0</td>\n",
              "      <td>Action|Thriller</td>\n",
              "      <td>Tom Hardy</td>\n",
              "      <td>The Dark Knight Rises</td>\n",
              "      <td>1144337</td>\n",
              "      <td>106759</td>\n",
              "      <td>Joseph Gordon-Levitt</td>\n",
              "      <td>0.0</td>\n",
              "      <td>deception|imprisonment|lawlessness|police offi...</td>\n",
              "      <td>http://www.imdb.com/title/tt1345836/?ref_=fn_t...</td>\n",
              "      <td>2701.0</td>\n",
              "      <td>English</td>\n",
              "      <td>USA</td>\n",
              "      <td>PG-13</td>\n",
              "      <td>250000000.0</td>\n",
              "      <td>2012.0</td>\n",
              "      <td>23000.0</td>\n",
              "      <td>8.5</td>\n",
              "      <td>2.35</td>\n",
              "      <td>164000</td>\n",
              "    </tr>\n",
              "    <tr>\n",
              "      <th>4</th>\n",
              "      <td>NaN</td>\n",
              "      <td>Doug Walker</td>\n",
              "      <td>NaN</td>\n",
              "      <td>NaN</td>\n",
              "      <td>131.0</td>\n",
              "      <td>NaN</td>\n",
              "      <td>Rob Walker</td>\n",
              "      <td>131.0</td>\n",
              "      <td>NaN</td>\n",
              "      <td>Documentary</td>\n",
              "      <td>Doug Walker</td>\n",
              "      <td>Star Wars: Episode VII - The Force Awakens    ...</td>\n",
              "      <td>8</td>\n",
              "      <td>143</td>\n",
              "      <td>NaN</td>\n",
              "      <td>0.0</td>\n",
              "      <td>NaN</td>\n",
              "      <td>http://www.imdb.com/title/tt5289954/?ref_=fn_t...</td>\n",
              "      <td>NaN</td>\n",
              "      <td>NaN</td>\n",
              "      <td>NaN</td>\n",
              "      <td>NaN</td>\n",
              "      <td>NaN</td>\n",
              "      <td>NaN</td>\n",
              "      <td>12.0</td>\n",
              "      <td>7.1</td>\n",
              "      <td>NaN</td>\n",
              "      <td>0</td>\n",
              "    </tr>\n",
              "  </tbody>\n",
              "</table>\n",
              "</div>\n",
              "      <button class=\"colab-df-convert\" onclick=\"convertToInteractive('df-26ee76d7-a451-4402-8d57-8eddb140c2ef')\"\n",
              "              title=\"Convert this dataframe to an interactive table.\"\n",
              "              style=\"display:none;\">\n",
              "        \n",
              "  <svg xmlns=\"http://www.w3.org/2000/svg\" height=\"24px\"viewBox=\"0 0 24 24\"\n",
              "       width=\"24px\">\n",
              "    <path d=\"M0 0h24v24H0V0z\" fill=\"none\"/>\n",
              "    <path d=\"M18.56 5.44l.94 2.06.94-2.06 2.06-.94-2.06-.94-.94-2.06-.94 2.06-2.06.94zm-11 1L8.5 8.5l.94-2.06 2.06-.94-2.06-.94L8.5 2.5l-.94 2.06-2.06.94zm10 10l.94 2.06.94-2.06 2.06-.94-2.06-.94-.94-2.06-.94 2.06-2.06.94z\"/><path d=\"M17.41 7.96l-1.37-1.37c-.4-.4-.92-.59-1.43-.59-.52 0-1.04.2-1.43.59L10.3 9.45l-7.72 7.72c-.78.78-.78 2.05 0 2.83L4 21.41c.39.39.9.59 1.41.59.51 0 1.02-.2 1.41-.59l7.78-7.78 2.81-2.81c.8-.78.8-2.07 0-2.86zM5.41 20L4 18.59l7.72-7.72 1.47 1.35L5.41 20z\"/>\n",
              "  </svg>\n",
              "      </button>\n",
              "      \n",
              "  <style>\n",
              "    .colab-df-container {\n",
              "      display:flex;\n",
              "      flex-wrap:wrap;\n",
              "      gap: 12px;\n",
              "    }\n",
              "\n",
              "    .colab-df-convert {\n",
              "      background-color: #E8F0FE;\n",
              "      border: none;\n",
              "      border-radius: 50%;\n",
              "      cursor: pointer;\n",
              "      display: none;\n",
              "      fill: #1967D2;\n",
              "      height: 32px;\n",
              "      padding: 0 0 0 0;\n",
              "      width: 32px;\n",
              "    }\n",
              "\n",
              "    .colab-df-convert:hover {\n",
              "      background-color: #E2EBFA;\n",
              "      box-shadow: 0px 1px 2px rgba(60, 64, 67, 0.3), 0px 1px 3px 1px rgba(60, 64, 67, 0.15);\n",
              "      fill: #174EA6;\n",
              "    }\n",
              "\n",
              "    [theme=dark] .colab-df-convert {\n",
              "      background-color: #3B4455;\n",
              "      fill: #D2E3FC;\n",
              "    }\n",
              "\n",
              "    [theme=dark] .colab-df-convert:hover {\n",
              "      background-color: #434B5C;\n",
              "      box-shadow: 0px 1px 3px 1px rgba(0, 0, 0, 0.15);\n",
              "      filter: drop-shadow(0px 1px 2px rgba(0, 0, 0, 0.3));\n",
              "      fill: #FFFFFF;\n",
              "    }\n",
              "  </style>\n",
              "\n",
              "      <script>\n",
              "        const buttonEl =\n",
              "          document.querySelector('#df-26ee76d7-a451-4402-8d57-8eddb140c2ef button.colab-df-convert');\n",
              "        buttonEl.style.display =\n",
              "          google.colab.kernel.accessAllowed ? 'block' : 'none';\n",
              "\n",
              "        async function convertToInteractive(key) {\n",
              "          const element = document.querySelector('#df-26ee76d7-a451-4402-8d57-8eddb140c2ef');\n",
              "          const dataTable =\n",
              "            await google.colab.kernel.invokeFunction('convertToInteractive',\n",
              "                                                     [key], {});\n",
              "          if (!dataTable) return;\n",
              "\n",
              "          const docLinkHtml = 'Like what you see? Visit the ' +\n",
              "            '<a target=\"_blank\" href=https://colab.research.google.com/notebooks/data_table.ipynb>data table notebook</a>'\n",
              "            + ' to learn more about interactive tables.';\n",
              "          element.innerHTML = '';\n",
              "          dataTable['output_type'] = 'display_data';\n",
              "          await google.colab.output.renderOutput(dataTable, element);\n",
              "          const docLink = document.createElement('div');\n",
              "          docLink.innerHTML = docLinkHtml;\n",
              "          element.appendChild(docLink);\n",
              "        }\n",
              "      </script>\n",
              "    </div>\n",
              "  </div>\n",
              "  "
            ],
            "text/plain": [
              "   color      director_name  ...  aspect_ratio  movie_facebook_likes\n",
              "0  Color      James Cameron  ...          1.78                 33000\n",
              "1  Color     Gore Verbinski  ...          2.35                     0\n",
              "2  Color         Sam Mendes  ...          2.35                 85000\n",
              "3  Color  Christopher Nolan  ...          2.35                164000\n",
              "4    NaN        Doug Walker  ...           NaN                     0\n",
              "\n",
              "[5 rows x 28 columns]"
            ]
          },
          "metadata": {},
          "execution_count": 9
        }
      ]
    },
    {
      "cell_type": "code",
      "source": [
        "data.shape"
      ],
      "metadata": {
        "colab": {
          "base_uri": "https://localhost:8080/"
        },
        "id": "u4Mu4pGgHr1K",
        "outputId": "fea4e603-ca13-4995-adc0-d3e771257bf5"
      },
      "execution_count": null,
      "outputs": [
        {
          "output_type": "execute_result",
          "data": {
            "text/plain": [
              "(5043, 28)"
            ]
          },
          "metadata": {},
          "execution_count": 11
        }
      ]
    },
    {
      "cell_type": "code",
      "source": [
        "data.info()"
      ],
      "metadata": {
        "colab": {
          "base_uri": "https://localhost:8080/"
        },
        "id": "Y0dmTCeiJ6I_",
        "outputId": "f7334266-f4aa-4365-932d-5865a80d8409"
      },
      "execution_count": null,
      "outputs": [
        {
          "output_type": "stream",
          "name": "stdout",
          "text": [
            "<class 'pandas.core.frame.DataFrame'>\n",
            "RangeIndex: 5043 entries, 0 to 5042\n",
            "Data columns (total 28 columns):\n",
            " #   Column                     Non-Null Count  Dtype  \n",
            "---  ------                     --------------  -----  \n",
            " 0   color                      5024 non-null   object \n",
            " 1   director_name              4939 non-null   object \n",
            " 2   num_critic_for_reviews     4993 non-null   float64\n",
            " 3   duration                   5028 non-null   float64\n",
            " 4   director_facebook_likes    4939 non-null   float64\n",
            " 5   actor_3_facebook_likes     5020 non-null   float64\n",
            " 6   actor_2_name               5030 non-null   object \n",
            " 7   actor_1_facebook_likes     5036 non-null   float64\n",
            " 8   gross                      4159 non-null   float64\n",
            " 9   genres                     5043 non-null   object \n",
            " 10  actor_1_name               5036 non-null   object \n",
            " 11  movie_title                5043 non-null   object \n",
            " 12  num_voted_users            5043 non-null   int64  \n",
            " 13  cast_total_facebook_likes  5043 non-null   int64  \n",
            " 14  actor_3_name               5020 non-null   object \n",
            " 15  facenumber_in_poster       5030 non-null   float64\n",
            " 16  plot_keywords              4890 non-null   object \n",
            " 17  movie_imdb_link            5043 non-null   object \n",
            " 18  num_user_for_reviews       5022 non-null   float64\n",
            " 19  language                   5031 non-null   object \n",
            " 20  country                    5038 non-null   object \n",
            " 21  content_rating             4740 non-null   object \n",
            " 22  budget                     4551 non-null   float64\n",
            " 23  title_year                 4935 non-null   float64\n",
            " 24  actor_2_facebook_likes     5030 non-null   float64\n",
            " 25  imdb_score                 5043 non-null   float64\n",
            " 26  aspect_ratio               4714 non-null   float64\n",
            " 27  movie_facebook_likes       5043 non-null   int64  \n",
            "dtypes: float64(13), int64(3), object(12)\n",
            "memory usage: 1.1+ MB\n"
          ]
        }
      ]
    },
    {
      "cell_type": "code",
      "source": [
        "data.nunique()"
      ],
      "metadata": {
        "colab": {
          "base_uri": "https://localhost:8080/"
        },
        "id": "L6Xln3etKAep",
        "outputId": "b49d3cd5-6124-4e13-d0df-4f7184e42925"
      },
      "execution_count": null,
      "outputs": [
        {
          "output_type": "execute_result",
          "data": {
            "text/plain": [
              "color                           2\n",
              "director_name                2398\n",
              "num_critic_for_reviews        528\n",
              "duration                      191\n",
              "director_facebook_likes       435\n",
              "actor_3_facebook_likes        906\n",
              "actor_2_name                 3032\n",
              "actor_1_facebook_likes        878\n",
              "gross                        4035\n",
              "genres                        914\n",
              "actor_1_name                 2097\n",
              "movie_title                  4917\n",
              "num_voted_users              4826\n",
              "cast_total_facebook_likes    3978\n",
              "actor_3_name                 3521\n",
              "facenumber_in_poster           19\n",
              "plot_keywords                4760\n",
              "movie_imdb_link              4919\n",
              "num_user_for_reviews          954\n",
              "language                       47\n",
              "country                        65\n",
              "content_rating                 18\n",
              "budget                        439\n",
              "title_year                     91\n",
              "actor_2_facebook_likes        917\n",
              "imdb_score                     78\n",
              "aspect_ratio                   22\n",
              "movie_facebook_likes          876\n",
              "dtype: int64"
            ]
          },
          "metadata": {},
          "execution_count": 13
        }
      ]
    },
    {
      "cell_type": "code",
      "source": [
        "data.isna().values.any()"
      ],
      "metadata": {
        "colab": {
          "base_uri": "https://localhost:8080/"
        },
        "id": "8ijiJrTfK-Ls",
        "outputId": "6ff8261a-424c-4a3d-e1e6-e965058b6106"
      },
      "execution_count": null,
      "outputs": [
        {
          "output_type": "execute_result",
          "data": {
            "text/plain": [
              "True"
            ]
          },
          "metadata": {},
          "execution_count": 15
        }
      ]
    },
    {
      "cell_type": "code",
      "source": [
        "data.isna().sum()"
      ],
      "metadata": {
        "colab": {
          "base_uri": "https://localhost:8080/"
        },
        "id": "O9QzWF4NKasJ",
        "outputId": "1a982dce-a897-4348-af74-c6ede9079bcd"
      },
      "execution_count": null,
      "outputs": [
        {
          "output_type": "execute_result",
          "data": {
            "text/plain": [
              "color                         19\n",
              "director_name                104\n",
              "num_critic_for_reviews        50\n",
              "duration                      15\n",
              "director_facebook_likes      104\n",
              "actor_3_facebook_likes        23\n",
              "actor_2_name                  13\n",
              "actor_1_facebook_likes         7\n",
              "gross                        884\n",
              "genres                         0\n",
              "actor_1_name                   7\n",
              "movie_title                    0\n",
              "num_voted_users                0\n",
              "cast_total_facebook_likes      0\n",
              "actor_3_name                  23\n",
              "facenumber_in_poster          13\n",
              "plot_keywords                153\n",
              "movie_imdb_link                0\n",
              "num_user_for_reviews          21\n",
              "language                      12\n",
              "country                        5\n",
              "content_rating               303\n",
              "budget                       492\n",
              "title_year                   108\n",
              "actor_2_facebook_likes        13\n",
              "imdb_score                     0\n",
              "aspect_ratio                 329\n",
              "movie_facebook_likes           0\n",
              "dtype: int64"
            ]
          },
          "metadata": {},
          "execution_count": 14
        }
      ]
    },
    {
      "cell_type": "code",
      "source": [
        "#visualization"
      ],
      "metadata": {
        "id": "Z0MDYz9FX1TM"
      },
      "execution_count": null,
      "outputs": []
    },
    {
      "cell_type": "code",
      "source": [
        "sns.heatmap(data.isna())"
      ],
      "metadata": {
        "colab": {
          "base_uri": "https://localhost:8080/",
          "height": 394
        },
        "id": "v8aA9H-_K2oP",
        "outputId": "1d7152ae-7e4f-4257-f5b5-f2bb0e9812b4"
      },
      "execution_count": null,
      "outputs": [
        {
          "output_type": "execute_result",
          "data": {
            "text/plain": [
              "<matplotlib.axes._subplots.AxesSubplot at 0x7fd45d1d8cd0>"
            ]
          },
          "metadata": {},
          "execution_count": 16
        },
        {
          "output_type": "display_data",
          "data": {
            "image/png": "[encoded data removed]",
            "text/plain": [
              "<Figure size 432x288 with 2 Axes>"
            ]
          },
          "metadata": {
            "needs_background": "light"
          }
        }
      ]
    },
    {
      "cell_type": "code",
      "source": [
        "data.isna().sum()*100/len(data)"
      ],
      "metadata": {
        "colab": {
          "base_uri": "https://localhost:8080/"
        },
        "id": "pxWdJqZdLjbq",
        "outputId": "32009ba3-14cc-41b4-ebd2-b2dc3be78ff6"
      },
      "execution_count": null,
      "outputs": [
        {
          "output_type": "execute_result",
          "data": {
            "text/plain": [
              "color                         0.376760\n",
              "director_name                 2.062265\n",
              "num_critic_for_reviews        0.991473\n",
              "duration                      0.297442\n",
              "director_facebook_likes       2.062265\n",
              "actor_3_facebook_likes        0.456078\n",
              "actor_2_name                  0.257783\n",
              "actor_1_facebook_likes        0.138806\n",
              "gross                        17.529248\n",
              "genres                        0.000000\n",
              "actor_1_name                  0.138806\n",
              "movie_title                   0.000000\n",
              "num_voted_users               0.000000\n",
              "cast_total_facebook_likes     0.000000\n",
              "actor_3_name                  0.456078\n",
              "facenumber_in_poster          0.257783\n",
              "plot_keywords                 3.033908\n",
              "movie_imdb_link               0.000000\n",
              "num_user_for_reviews          0.416419\n",
              "language                      0.237954\n",
              "country                       0.099147\n",
              "content_rating                6.008328\n",
              "budget                        9.756098\n",
              "title_year                    2.141582\n",
              "actor_2_facebook_likes        0.257783\n",
              "imdb_score                    0.000000\n",
              "aspect_ratio                  6.523895\n",
              "movie_facebook_likes          0.000000\n",
              "dtype: float64"
            ]
          },
          "metadata": {},
          "execution_count": 17
        }
      ]
    },
    {
      "cell_type": "code",
      "source": [
        "data.duplicated().any"
      ],
      "metadata": {
        "colab": {
          "base_uri": "https://localhost:8080/"
        },
        "id": "4slAf-juMRYX",
        "outputId": "ae6e341f-84c9-4f9c-a6d4-4ed493fdf04d"
      },
      "execution_count": null,
      "outputs": [
        {
          "output_type": "execute_result",
          "data": {
            "text/plain": [
              "<bound method NDFrame._add_numeric_operations.<locals>.any of 0       False\n",
              "1       False\n",
              "2       False\n",
              "3       False\n",
              "4       False\n",
              "        ...  \n",
              "5038    False\n",
              "5039    False\n",
              "5040    False\n",
              "5041    False\n",
              "5042    False\n",
              "Length: 5043, dtype: bool>"
            ]
          },
          "metadata": {},
          "execution_count": 18
        }
      ]
    },
    {
      "cell_type": "code",
      "source": [
        "data.duplicated().sum()"
      ],
      "metadata": {
        "colab": {
          "base_uri": "https://localhost:8080/"
        },
        "id": "Y8thZQ5OMYhI",
        "outputId": "306639d5-95e8-4531-9097-0d2d7c31a2d3"
      },
      "execution_count": null,
      "outputs": [
        {
          "output_type": "execute_result",
          "data": {
            "text/plain": [
              "45"
            ]
          },
          "metadata": {},
          "execution_count": 19
        }
      ]
    },
    {
      "cell_type": "code",
      "source": [
        "data[data.duplicated()]"
      ],
      "metadata": {
        "colab": {
          "base_uri": "https://localhost:8080/",
          "height": 1000
        },
        "id": "RhGlbeofMoje",
        "outputId": "4f0e6f36-5b36-414d-eb0a-e827bc204b0b"
      },
      "execution_count": null,
      "outputs": [
        {
          "output_type": "execute_result",
          "data": {
            "text/html": [
              "\n",
              "  <div id=\"df-3bf77ca7-cb17-4a55-b435-0a8d9b731761\">\n",
              "    <div class=\"colab-df-container\">\n",
              "      <div>\n",
              "<style scoped>\n",
              "    .dataframe tbody tr th:only-of-type {\n",
              "        vertical-align: middle;\n",
              "    }\n",
              "\n",
              "    .dataframe tbody tr th {\n",
              "        vertical-align: top;\n",
              "    }\n",
              "\n",
              "    .dataframe thead th {\n",
              "        text-align: right;\n",
              "    }\n",
              "</style>\n",
              "<table border=\"1\" class=\"dataframe\">\n",
              "  <thead>\n",
              "    <tr style=\"text-align: right;\">\n",
              "      <th></th>\n",
              "      <th>color</th>\n",
              "      <th>director_name</th>\n",
              "      <th>num_critic_for_reviews</th>\n",
              "      <th>duration</th>\n",
              "      <th>director_facebook_likes</th>\n",
              "      <th>actor_3_facebook_likes</th>\n",
              "      <th>actor_2_name</th>\n",
              "      <th>actor_1_facebook_likes</th>\n",
              "      <th>gross</th>\n",
              "      <th>genres</th>\n",
              "      <th>actor_1_name</th>\n",
              "      <th>movie_title</th>\n",
              "      <th>num_voted_users</th>\n",
              "      <th>cast_total_facebook_likes</th>\n",
              "      <th>actor_3_name</th>\n",
              "      <th>facenumber_in_poster</th>\n",
              "      <th>plot_keywords</th>\n",
              "      <th>movie_imdb_link</th>\n",
              "      <th>num_user_for_reviews</th>\n",
              "      <th>language</th>\n",
              "      <th>country</th>\n",
              "      <th>content_rating</th>\n",
              "      <th>budget</th>\n",
              "      <th>title_year</th>\n",
              "      <th>actor_2_facebook_likes</th>\n",
              "      <th>imdb_score</th>\n",
              "      <th>aspect_ratio</th>\n",
              "      <th>movie_facebook_likes</th>\n",
              "    </tr>\n",
              "  </thead>\n",
              "  <tbody>\n",
              "    <tr>\n",
              "      <th>137</th>\n",
              "      <td>Color</td>\n",
              "      <td>David Yates</td>\n",
              "      <td>248.0</td>\n",
              "      <td>110.0</td>\n",
              "      <td>282.0</td>\n",
              "      <td>103.0</td>\n",
              "      <td>Alexander Skarsgård</td>\n",
              "      <td>11000.0</td>\n",
              "      <td>124051759.0</td>\n",
              "      <td>Action|Adventure|Drama|Romance</td>\n",
              "      <td>Christoph Waltz</td>\n",
              "      <td>The Legend of Tarzan</td>\n",
              "      <td>42372</td>\n",
              "      <td>21175</td>\n",
              "      <td>Casper Crump</td>\n",
              "      <td>2.0</td>\n",
              "      <td>africa|capture|jungle|male objectification|tarzan</td>\n",
              "      <td>http://www.imdb.com/title/tt0918940/?ref_=fn_t...</td>\n",
              "      <td>239.0</td>\n",
              "      <td>English</td>\n",
              "      <td>USA</td>\n",
              "      <td>PG-13</td>\n",
              "      <td>180000000.0</td>\n",
              "      <td>2016.0</td>\n",
              "      <td>10000.0</td>\n",
              "      <td>6.6</td>\n",
              "      <td>2.35</td>\n",
              "      <td>29000</td>\n",
              "    </tr>\n",
              "    <tr>\n",
              "      <th>187</th>\n",
              "      <td>Color</td>\n",
              "      <td>Bill Condon</td>\n",
              "      <td>322.0</td>\n",
              "      <td>115.0</td>\n",
              "      <td>386.0</td>\n",
              "      <td>12000.0</td>\n",
              "      <td>Kristen Stewart</td>\n",
              "      <td>21000.0</td>\n",
              "      <td>292298923.0</td>\n",
              "      <td>Adventure|Drama|Fantasy|Romance</td>\n",
              "      <td>Robert Pattinson</td>\n",
              "      <td>The Twilight Saga: Breaking Dawn - Part 2</td>\n",
              "      <td>185394</td>\n",
              "      <td>59177</td>\n",
              "      <td>Taylor Lautner</td>\n",
              "      <td>3.0</td>\n",
              "      <td>battle|friend|super strength|vampire|vision</td>\n",
              "      <td>http://www.imdb.com/title/tt1673434/?ref_=fn_t...</td>\n",
              "      <td>329.0</td>\n",
              "      <td>English</td>\n",
              "      <td>USA</td>\n",
              "      <td>PG-13</td>\n",
              "      <td>120000000.0</td>\n",
              "      <td>2012.0</td>\n",
              "      <td>17000.0</td>\n",
              "      <td>5.5</td>\n",
              "      <td>2.35</td>\n",
              "      <td>65000</td>\n",
              "    </tr>\n",
              "    <tr>\n",
              "      <th>204</th>\n",
              "      <td>Color</td>\n",
              "      <td>Hideaki Anno</td>\n",
              "      <td>1.0</td>\n",
              "      <td>120.0</td>\n",
              "      <td>28.0</td>\n",
              "      <td>12.0</td>\n",
              "      <td>Shin'ya Tsukamoto</td>\n",
              "      <td>544.0</td>\n",
              "      <td>NaN</td>\n",
              "      <td>Action|Adventure|Drama|Horror|Sci-Fi</td>\n",
              "      <td>Mark Chinnery</td>\n",
              "      <td>Godzilla Resurgence</td>\n",
              "      <td>374</td>\n",
              "      <td>699</td>\n",
              "      <td>Atsuko Maeda</td>\n",
              "      <td>0.0</td>\n",
              "      <td>blood|godzilla|monster|sequel</td>\n",
              "      <td>http://www.imdb.com/title/tt4262980/?ref_=fn_t...</td>\n",
              "      <td>13.0</td>\n",
              "      <td>Japanese</td>\n",
              "      <td>Japan</td>\n",
              "      <td>NaN</td>\n",
              "      <td>NaN</td>\n",
              "      <td>2016.0</td>\n",
              "      <td>106.0</td>\n",
              "      <td>8.2</td>\n",
              "      <td>2.35</td>\n",
              "      <td>0</td>\n",
              "    </tr>\n",
              "    <tr>\n",
              "      <th>303</th>\n",
              "      <td>Color</td>\n",
              "      <td>Joe Wright</td>\n",
              "      <td>256.0</td>\n",
              "      <td>111.0</td>\n",
              "      <td>456.0</td>\n",
              "      <td>394.0</td>\n",
              "      <td>Cara Delevingne</td>\n",
              "      <td>20000.0</td>\n",
              "      <td>34964818.0</td>\n",
              "      <td>Adventure|Family|Fantasy</td>\n",
              "      <td>Hugh Jackman</td>\n",
              "      <td>Pan</td>\n",
              "      <td>39956</td>\n",
              "      <td>21393</td>\n",
              "      <td>Nonso Anozie</td>\n",
              "      <td>4.0</td>\n",
              "      <td>1940s|child hero|fantasy world|orphan|referenc...</td>\n",
              "      <td>http://www.imdb.com/title/tt3332064/?ref_=fn_t...</td>\n",
              "      <td>186.0</td>\n",
              "      <td>English</td>\n",
              "      <td>USA</td>\n",
              "      <td>PG</td>\n",
              "      <td>150000000.0</td>\n",
              "      <td>2015.0</td>\n",
              "      <td>548.0</td>\n",
              "      <td>5.8</td>\n",
              "      <td>2.35</td>\n",
              "      <td>24000</td>\n",
              "    </tr>\n",
              "    <tr>\n",
              "      <th>389</th>\n",
              "      <td>Color</td>\n",
              "      <td>Josh Trank</td>\n",
              "      <td>369.0</td>\n",
              "      <td>100.0</td>\n",
              "      <td>128.0</td>\n",
              "      <td>78.0</td>\n",
              "      <td>Reg E. Cathey</td>\n",
              "      <td>596.0</td>\n",
              "      <td>56114221.0</td>\n",
              "      <td>Action|Adventure|Sci-Fi</td>\n",
              "      <td>Tim Blake Nelson</td>\n",
              "      <td>Fantastic Four</td>\n",
              "      <td>110486</td>\n",
              "      <td>1261</td>\n",
              "      <td>Tim Heidecker</td>\n",
              "      <td>3.0</td>\n",
              "      <td>box office flop|critically bashed|portal|telep...</td>\n",
              "      <td>http://www.imdb.com/title/tt1502712/?ref_=fn_t...</td>\n",
              "      <td>695.0</td>\n",
              "      <td>English</td>\n",
              "      <td>USA</td>\n",
              "      <td>PG-13</td>\n",
              "      <td>120000000.0</td>\n",
              "      <td>2015.0</td>\n",
              "      <td>360.0</td>\n",
              "      <td>4.3</td>\n",
              "      <td>2.35</td>\n",
              "      <td>41000</td>\n",
              "    </tr>\n",
              "    <tr>\n",
              "      <th>395</th>\n",
              "      <td>Color</td>\n",
              "      <td>Rob Cohen</td>\n",
              "      <td>187.0</td>\n",
              "      <td>106.0</td>\n",
              "      <td>357.0</td>\n",
              "      <td>4000.0</td>\n",
              "      <td>Vin Diesel</td>\n",
              "      <td>23000.0</td>\n",
              "      <td>144512310.0</td>\n",
              "      <td>Action|Crime|Thriller</td>\n",
              "      <td>Paul Walker</td>\n",
              "      <td>The Fast and the Furious</td>\n",
              "      <td>272223</td>\n",
              "      <td>45327</td>\n",
              "      <td>Jordana Brewster</td>\n",
              "      <td>2.0</td>\n",
              "      <td>eighteen wheeler|illegal street racing|truck|t...</td>\n",
              "      <td>http://www.imdb.com/title/tt0232500/?ref_=fn_t...</td>\n",
              "      <td>988.0</td>\n",
              "      <td>English</td>\n",
              "      <td>USA</td>\n",
              "      <td>PG-13</td>\n",
              "      <td>38000000.0</td>\n",
              "      <td>2001.0</td>\n",
              "      <td>14000.0</td>\n",
              "      <td>6.7</td>\n",
              "      <td>2.35</td>\n",
              "      <td>14000</td>\n",
              "    </tr>\n",
              "    <tr>\n",
              "      <th>590</th>\n",
              "      <td>Color</td>\n",
              "      <td>Brett Ratner</td>\n",
              "      <td>245.0</td>\n",
              "      <td>101.0</td>\n",
              "      <td>420.0</td>\n",
              "      <td>467.0</td>\n",
              "      <td>Rufus Sewell</td>\n",
              "      <td>12000.0</td>\n",
              "      <td>72660029.0</td>\n",
              "      <td>Action|Adventure</td>\n",
              "      <td>Dwayne Johnson</td>\n",
              "      <td>Hercules</td>\n",
              "      <td>115687</td>\n",
              "      <td>16235</td>\n",
              "      <td>Ingrid Bolsø Berdal</td>\n",
              "      <td>0.0</td>\n",
              "      <td>army|greek mythology|hercules|king|mercenary</td>\n",
              "      <td>http://www.imdb.com/title/tt1267297/?ref_=fn_t...</td>\n",
              "      <td>269.0</td>\n",
              "      <td>English</td>\n",
              "      <td>USA</td>\n",
              "      <td>PG-13</td>\n",
              "      <td>100000000.0</td>\n",
              "      <td>2014.0</td>\n",
              "      <td>3000.0</td>\n",
              "      <td>6.0</td>\n",
              "      <td>2.35</td>\n",
              "      <td>21000</td>\n",
              "    </tr>\n",
              "    <tr>\n",
              "      <th>656</th>\n",
              "      <td>Color</td>\n",
              "      <td>Paul Verhoeven</td>\n",
              "      <td>196.0</td>\n",
              "      <td>113.0</td>\n",
              "      <td>719.0</td>\n",
              "      <td>217.0</td>\n",
              "      <td>Rachel Ticotin</td>\n",
              "      <td>605.0</td>\n",
              "      <td>119412921.0</td>\n",
              "      <td>Action|Sci-Fi</td>\n",
              "      <td>Ronny Cox</td>\n",
              "      <td>Total Recall</td>\n",
              "      <td>240241</td>\n",
              "      <td>1441</td>\n",
              "      <td>Marshall Bell</td>\n",
              "      <td>0.0</td>\n",
              "      <td>ambiguous ending|false memory|implanted memory...</td>\n",
              "      <td>http://www.imdb.com/title/tt0100802/?ref_=fn_t...</td>\n",
              "      <td>391.0</td>\n",
              "      <td>English</td>\n",
              "      <td>USA</td>\n",
              "      <td>R</td>\n",
              "      <td>65000000.0</td>\n",
              "      <td>1990.0</td>\n",
              "      <td>308.0</td>\n",
              "      <td>7.5</td>\n",
              "      <td>1.85</td>\n",
              "      <td>0</td>\n",
              "    </tr>\n",
              "    <tr>\n",
              "      <th>794</th>\n",
              "      <td>Color</td>\n",
              "      <td>Joss Whedon</td>\n",
              "      <td>703.0</td>\n",
              "      <td>173.0</td>\n",
              "      <td>0.0</td>\n",
              "      <td>19000.0</td>\n",
              "      <td>Robert Downey Jr.</td>\n",
              "      <td>26000.0</td>\n",
              "      <td>623279547.0</td>\n",
              "      <td>Action|Adventure|Sci-Fi</td>\n",
              "      <td>Chris Hemsworth</td>\n",
              "      <td>The Avengers</td>\n",
              "      <td>995415</td>\n",
              "      <td>87697</td>\n",
              "      <td>Scarlett Johansson</td>\n",
              "      <td>3.0</td>\n",
              "      <td>alien invasion|assassin|battle|iron man|soldier</td>\n",
              "      <td>http://www.imdb.com/title/tt0848228/?ref_=fn_t...</td>\n",
              "      <td>1722.0</td>\n",
              "      <td>English</td>\n",
              "      <td>USA</td>\n",
              "      <td>PG-13</td>\n",
              "      <td>220000000.0</td>\n",
              "      <td>2012.0</td>\n",
              "      <td>21000.0</td>\n",
              "      <td>8.1</td>\n",
              "      <td>1.85</td>\n",
              "      <td>123000</td>\n",
              "    </tr>\n",
              "    <tr>\n",
              "      <th>1220</th>\n",
              "      <td>Color</td>\n",
              "      <td>Angelina Jolie Pitt</td>\n",
              "      <td>322.0</td>\n",
              "      <td>137.0</td>\n",
              "      <td>11000.0</td>\n",
              "      <td>465.0</td>\n",
              "      <td>Jack O'Connell</td>\n",
              "      <td>769.0</td>\n",
              "      <td>115603980.0</td>\n",
              "      <td>Biography|Drama|Sport|War</td>\n",
              "      <td>Finn Wittrock</td>\n",
              "      <td>Unbroken</td>\n",
              "      <td>103589</td>\n",
              "      <td>2938</td>\n",
              "      <td>Alex Russell</td>\n",
              "      <td>0.0</td>\n",
              "      <td>emaciation|male nudity|plane crash|prisoner of...</td>\n",
              "      <td>http://www.imdb.com/title/tt1809398/?ref_=fn_t...</td>\n",
              "      <td>351.0</td>\n",
              "      <td>English</td>\n",
              "      <td>USA</td>\n",
              "      <td>PG-13</td>\n",
              "      <td>65000000.0</td>\n",
              "      <td>2014.0</td>\n",
              "      <td>698.0</td>\n",
              "      <td>7.2</td>\n",
              "      <td>2.35</td>\n",
              "      <td>35000</td>\n",
              "    </tr>\n",
              "    <tr>\n",
              "      <th>1305</th>\n",
              "      <td>Color</td>\n",
              "      <td>Paul McGuigan</td>\n",
              "      <td>159.0</td>\n",
              "      <td>110.0</td>\n",
              "      <td>118.0</td>\n",
              "      <td>287.0</td>\n",
              "      <td>Spencer Wilding</td>\n",
              "      <td>11000.0</td>\n",
              "      <td>5773519.0</td>\n",
              "      <td>Drama|Horror|Sci-Fi|Thriller</td>\n",
              "      <td>Daniel Radcliffe</td>\n",
              "      <td>Victor Frankenstein</td>\n",
              "      <td>28618</td>\n",
              "      <td>12876</td>\n",
              "      <td>Daniel Mays</td>\n",
              "      <td>2.0</td>\n",
              "      <td>assistant|experiment|frankenstein|medical stud...</td>\n",
              "      <td>http://www.imdb.com/title/tt1976009/?ref_=fn_t...</td>\n",
              "      <td>91.0</td>\n",
              "      <td>English</td>\n",
              "      <td>USA</td>\n",
              "      <td>PG-13</td>\n",
              "      <td>40000000.0</td>\n",
              "      <td>2015.0</td>\n",
              "      <td>1000.0</td>\n",
              "      <td>6.0</td>\n",
              "      <td>2.35</td>\n",
              "      <td>11000</td>\n",
              "    </tr>\n",
              "    <tr>\n",
              "      <th>1449</th>\n",
              "      <td>Color</td>\n",
              "      <td>Albert Hughes</td>\n",
              "      <td>208.0</td>\n",
              "      <td>122.0</td>\n",
              "      <td>117.0</td>\n",
              "      <td>140.0</td>\n",
              "      <td>Jason Flemyng</td>\n",
              "      <td>40000.0</td>\n",
              "      <td>31598308.0</td>\n",
              "      <td>Horror|Mystery|Thriller</td>\n",
              "      <td>Johnny Depp</td>\n",
              "      <td>From Hell</td>\n",
              "      <td>124765</td>\n",
              "      <td>41636</td>\n",
              "      <td>Ian Richardson</td>\n",
              "      <td>1.0</td>\n",
              "      <td>freemason|jack the ripper|opium|prostitute|vic...</td>\n",
              "      <td>http://www.imdb.com/title/tt0120681/?ref_=fn_t...</td>\n",
              "      <td>541.0</td>\n",
              "      <td>English</td>\n",
              "      <td>USA</td>\n",
              "      <td>R</td>\n",
              "      <td>35000000.0</td>\n",
              "      <td>2001.0</td>\n",
              "      <td>1000.0</td>\n",
              "      <td>6.8</td>\n",
              "      <td>2.35</td>\n",
              "      <td>0</td>\n",
              "    </tr>\n",
              "    <tr>\n",
              "      <th>2169</th>\n",
              "      <td>Color</td>\n",
              "      <td>Paul McGuigan</td>\n",
              "      <td>98.0</td>\n",
              "      <td>114.0</td>\n",
              "      <td>118.0</td>\n",
              "      <td>40.0</td>\n",
              "      <td>Christopher Cousins</td>\n",
              "      <td>489.0</td>\n",
              "      <td>12831121.0</td>\n",
              "      <td>Drama|Mystery|Romance|Thriller</td>\n",
              "      <td>Jessica Paré</td>\n",
              "      <td>Wicker Park</td>\n",
              "      <td>44979</td>\n",
              "      <td>679</td>\n",
              "      <td>Mark Camacho</td>\n",
              "      <td>0.0</td>\n",
              "      <td>flashback|flashback within a flashback|multipl...</td>\n",
              "      <td>http://www.imdb.com/title/tt0324554/?ref_=fn_t...</td>\n",
              "      <td>298.0</td>\n",
              "      <td>English</td>\n",
              "      <td>USA</td>\n",
              "      <td>PG-13</td>\n",
              "      <td>30000000.0</td>\n",
              "      <td>2004.0</td>\n",
              "      <td>93.0</td>\n",
              "      <td>7.0</td>\n",
              "      <td>2.35</td>\n",
              "      <td>0</td>\n",
              "    </tr>\n",
              "    <tr>\n",
              "      <th>2292</th>\n",
              "      <td>Color</td>\n",
              "      <td>Frank Oz</td>\n",
              "      <td>168.0</td>\n",
              "      <td>87.0</td>\n",
              "      <td>0.0</td>\n",
              "      <td>548.0</td>\n",
              "      <td>Ewen Bremner</td>\n",
              "      <td>22000.0</td>\n",
              "      <td>8579684.0</td>\n",
              "      <td>Comedy</td>\n",
              "      <td>Peter Dinklage</td>\n",
              "      <td>Death at a Funeral</td>\n",
              "      <td>89547</td>\n",
              "      <td>24324</td>\n",
              "      <td>Kris Marshall</td>\n",
              "      <td>0.0</td>\n",
              "      <td>end credits roll call|four word title|funeral|...</td>\n",
              "      <td>http://www.imdb.com/title/tt0795368/?ref_=fn_t...</td>\n",
              "      <td>199.0</td>\n",
              "      <td>English</td>\n",
              "      <td>USA</td>\n",
              "      <td>R</td>\n",
              "      <td>9000000.0</td>\n",
              "      <td>2007.0</td>\n",
              "      <td>557.0</td>\n",
              "      <td>7.4</td>\n",
              "      <td>1.85</td>\n",
              "      <td>0</td>\n",
              "    </tr>\n",
              "    <tr>\n",
              "      <th>2472</th>\n",
              "      <td>Color</td>\n",
              "      <td>Jon Cassar</td>\n",
              "      <td>45.0</td>\n",
              "      <td>90.0</td>\n",
              "      <td>78.0</td>\n",
              "      <td>720.0</td>\n",
              "      <td>Landon Liboiron</td>\n",
              "      <td>2000.0</td>\n",
              "      <td>NaN</td>\n",
              "      <td>Drama|Western</td>\n",
              "      <td>Demi Moore</td>\n",
              "      <td>Forsaken</td>\n",
              "      <td>4693</td>\n",
              "      <td>4142</td>\n",
              "      <td>Michael Wincott</td>\n",
              "      <td>1.0</td>\n",
              "      <td>NaN</td>\n",
              "      <td>http://www.imdb.com/title/tt2271563/?ref_=fn_t...</td>\n",
              "      <td>49.0</td>\n",
              "      <td>English</td>\n",
              "      <td>Canada</td>\n",
              "      <td>R</td>\n",
              "      <td>11000000.0</td>\n",
              "      <td>2015.0</td>\n",
              "      <td>1000.0</td>\n",
              "      <td>6.3</td>\n",
              "      <td>2.35</td>\n",
              "      <td>0</td>\n",
              "    </tr>\n",
              "    <tr>\n",
              "      <th>2493</th>\n",
              "      <td>Black and White</td>\n",
              "      <td>Yimou Zhang</td>\n",
              "      <td>283.0</td>\n",
              "      <td>80.0</td>\n",
              "      <td>611.0</td>\n",
              "      <td>576.0</td>\n",
              "      <td>Tony Chiu Wai Leung</td>\n",
              "      <td>5000.0</td>\n",
              "      <td>84961.0</td>\n",
              "      <td>Action|Adventure|History</td>\n",
              "      <td>Jet Li</td>\n",
              "      <td>Hero</td>\n",
              "      <td>149414</td>\n",
              "      <td>6229</td>\n",
              "      <td>Maggie Cheung</td>\n",
              "      <td>4.0</td>\n",
              "      <td>china|flying|king|palace|sword</td>\n",
              "      <td>http://www.imdb.com/title/tt0299977/?ref_=fn_t...</td>\n",
              "      <td>841.0</td>\n",
              "      <td>Mandarin</td>\n",
              "      <td>China</td>\n",
              "      <td>PG-13</td>\n",
              "      <td>31000000.0</td>\n",
              "      <td>2002.0</td>\n",
              "      <td>643.0</td>\n",
              "      <td>7.9</td>\n",
              "      <td>2.35</td>\n",
              "      <td>0</td>\n",
              "    </tr>\n",
              "    <tr>\n",
              "      <th>2533</th>\n",
              "      <td>Color</td>\n",
              "      <td>Neil Burger</td>\n",
              "      <td>236.0</td>\n",
              "      <td>110.0</td>\n",
              "      <td>168.0</td>\n",
              "      <td>96.0</td>\n",
              "      <td>Eddie Marsan</td>\n",
              "      <td>3000.0</td>\n",
              "      <td>39825798.0</td>\n",
              "      <td>Drama|Mystery|Romance|Thriller</td>\n",
              "      <td>Rufus Sewell</td>\n",
              "      <td>The Illusionist</td>\n",
              "      <td>295375</td>\n",
              "      <td>4210</td>\n",
              "      <td>Jake Wood</td>\n",
              "      <td>3.0</td>\n",
              "      <td>duchess|illusionist|magician|prince|supernatur...</td>\n",
              "      <td>http://www.imdb.com/title/tt0443543/?ref_=fn_t...</td>\n",
              "      <td>645.0</td>\n",
              "      <td>English</td>\n",
              "      <td>USA</td>\n",
              "      <td>PG-13</td>\n",
              "      <td>16000000.0</td>\n",
              "      <td>2006.0</td>\n",
              "      <td>979.0</td>\n",
              "      <td>7.6</td>\n",
              "      <td>1.85</td>\n",
              "      <td>15000</td>\n",
              "    </tr>\n",
              "    <tr>\n",
              "      <th>2562</th>\n",
              "      <td>Color</td>\n",
              "      <td>Jon Lucas</td>\n",
              "      <td>81.0</td>\n",
              "      <td>100.0</td>\n",
              "      <td>24.0</td>\n",
              "      <td>851.0</td>\n",
              "      <td>Jay Hernandez</td>\n",
              "      <td>15000.0</td>\n",
              "      <td>55461307.0</td>\n",
              "      <td>Comedy</td>\n",
              "      <td>Mila Kunis</td>\n",
              "      <td>Bad Moms</td>\n",
              "      <td>4654</td>\n",
              "      <td>18786</td>\n",
              "      <td>Jada Pinkett Smith</td>\n",
              "      <td>9.0</td>\n",
              "      <td>lesbian kiss|mom|pta|reference to mad max|scen...</td>\n",
              "      <td>http://www.imdb.com/title/tt4651520/?ref_=fn_t...</td>\n",
              "      <td>46.0</td>\n",
              "      <td>English</td>\n",
              "      <td>USA</td>\n",
              "      <td>R</td>\n",
              "      <td>20000000.0</td>\n",
              "      <td>2016.0</td>\n",
              "      <td>1000.0</td>\n",
              "      <td>6.7</td>\n",
              "      <td>NaN</td>\n",
              "      <td>18000</td>\n",
              "    </tr>\n",
              "    <tr>\n",
              "      <th>2568</th>\n",
              "      <td>Color</td>\n",
              "      <td>Vic Armstrong</td>\n",
              "      <td>169.0</td>\n",
              "      <td>110.0</td>\n",
              "      <td>179.0</td>\n",
              "      <td>734.0</td>\n",
              "      <td>Lea Thompson</td>\n",
              "      <td>12000.0</td>\n",
              "      <td>13998282.0</td>\n",
              "      <td>Action|Drama|Fantasy|Mystery|Thriller</td>\n",
              "      <td>Nicolas Cage</td>\n",
              "      <td>Left Behind</td>\n",
              "      <td>24854</td>\n",
              "      <td>15044</td>\n",
              "      <td>Quinton Aaron</td>\n",
              "      <td>1.0</td>\n",
              "      <td>bible quote|chaos|faith|riot|shrine</td>\n",
              "      <td>http://www.imdb.com/title/tt2467046/?ref_=fn_t...</td>\n",
              "      <td>374.0</td>\n",
              "      <td>English</td>\n",
              "      <td>USA</td>\n",
              "      <td>PG-13</td>\n",
              "      <td>16000000.0</td>\n",
              "      <td>2014.0</td>\n",
              "      <td>1000.0</td>\n",
              "      <td>3.1</td>\n",
              "      <td>2.35</td>\n",
              "      <td>31000</td>\n",
              "    </tr>\n",
              "    <tr>\n",
              "      <th>2619</th>\n",
              "      <td>Color</td>\n",
              "      <td>John Carpenter</td>\n",
              "      <td>318.0</td>\n",
              "      <td>101.0</td>\n",
              "      <td>0.0</td>\n",
              "      <td>598.0</td>\n",
              "      <td>Donald Pleasence</td>\n",
              "      <td>2000.0</td>\n",
              "      <td>47000000.0</td>\n",
              "      <td>Horror|Thriller</td>\n",
              "      <td>Jamie Lee Curtis</td>\n",
              "      <td>Halloween</td>\n",
              "      <td>157857</td>\n",
              "      <td>4400</td>\n",
              "      <td>P.J. Soles</td>\n",
              "      <td>0.0</td>\n",
              "      <td>halloween|masked killer|michael myers|slasher|...</td>\n",
              "      <td>http://www.imdb.com/title/tt0077651/?ref_=fn_t...</td>\n",
              "      <td>1191.0</td>\n",
              "      <td>English</td>\n",
              "      <td>USA</td>\n",
              "      <td>R</td>\n",
              "      <td>300000.0</td>\n",
              "      <td>1978.0</td>\n",
              "      <td>742.0</td>\n",
              "      <td>7.9</td>\n",
              "      <td>2.35</td>\n",
              "      <td>12000</td>\n",
              "    </tr>\n",
              "    <tr>\n",
              "      <th>2771</th>\n",
              "      <td>Color</td>\n",
              "      <td>Ole Bornedal</td>\n",
              "      <td>264.0</td>\n",
              "      <td>92.0</td>\n",
              "      <td>30.0</td>\n",
              "      <td>309.0</td>\n",
              "      <td>Madison Davenport</td>\n",
              "      <td>941.0</td>\n",
              "      <td>49122319.0</td>\n",
              "      <td>Horror|Thriller</td>\n",
              "      <td>Kyra Sedgwick</td>\n",
              "      <td>The Possession</td>\n",
              "      <td>47169</td>\n",
              "      <td>2348</td>\n",
              "      <td>Natasha Calis</td>\n",
              "      <td>0.0</td>\n",
              "      <td>basketball coach|box|jewish|rabbi|yard sale</td>\n",
              "      <td>http://www.imdb.com/title/tt0431021/?ref_=fn_t...</td>\n",
              "      <td>162.0</td>\n",
              "      <td>English</td>\n",
              "      <td>USA</td>\n",
              "      <td>PG-13</td>\n",
              "      <td>14000000.0</td>\n",
              "      <td>2012.0</td>\n",
              "      <td>459.0</td>\n",
              "      <td>5.9</td>\n",
              "      <td>2.35</td>\n",
              "      <td>17000</td>\n",
              "    </tr>\n",
              "    <tr>\n",
              "      <th>2777</th>\n",
              "      <td>Color</td>\n",
              "      <td>Stephen Frears</td>\n",
              "      <td>51.0</td>\n",
              "      <td>119.0</td>\n",
              "      <td>350.0</td>\n",
              "      <td>418.0</td>\n",
              "      <td>Peter Capaldi</td>\n",
              "      <td>18000.0</td>\n",
              "      <td>34700000.0</td>\n",
              "      <td>Drama|Romance</td>\n",
              "      <td>Keanu Reeves</td>\n",
              "      <td>Dangerous Liaisons</td>\n",
              "      <td>52846</td>\n",
              "      <td>35501</td>\n",
              "      <td>Swoosie Kurtz</td>\n",
              "      <td>2.0</td>\n",
              "      <td>catholic|corruption|emotional abuse|france|sed...</td>\n",
              "      <td>http://www.imdb.com/title/tt0094947/?ref_=fn_t...</td>\n",
              "      <td>143.0</td>\n",
              "      <td>English</td>\n",
              "      <td>USA</td>\n",
              "      <td>R</td>\n",
              "      <td>14000000.0</td>\n",
              "      <td>1988.0</td>\n",
              "      <td>17000.0</td>\n",
              "      <td>7.7</td>\n",
              "      <td>1.85</td>\n",
              "      <td>0</td>\n",
              "    </tr>\n",
              "    <tr>\n",
              "      <th>2798</th>\n",
              "      <td>Color</td>\n",
              "      <td>Shawn Levy</td>\n",
              "      <td>69.0</td>\n",
              "      <td>88.0</td>\n",
              "      <td>189.0</td>\n",
              "      <td>799.0</td>\n",
              "      <td>Donald Faison</td>\n",
              "      <td>934.0</td>\n",
              "      <td>47811275.0</td>\n",
              "      <td>Adventure|Comedy|Family</td>\n",
              "      <td>Frankie Muniz</td>\n",
              "      <td>Big Fat Liar</td>\n",
              "      <td>29008</td>\n",
              "      <td>3707</td>\n",
              "      <td>Lee Majors</td>\n",
              "      <td>1.0</td>\n",
              "      <td>brunette|film producer|liar|prank|stunt</td>\n",
              "      <td>http://www.imdb.com/title/tt0265298/?ref_=fn_t...</td>\n",
              "      <td>99.0</td>\n",
              "      <td>English</td>\n",
              "      <td>USA</td>\n",
              "      <td>PG</td>\n",
              "      <td>15000000.0</td>\n",
              "      <td>2002.0</td>\n",
              "      <td>927.0</td>\n",
              "      <td>5.4</td>\n",
              "      <td>1.85</td>\n",
              "      <td>896</td>\n",
              "    </tr>\n",
              "    <tr>\n",
              "      <th>2971</th>\n",
              "      <td>Color</td>\n",
              "      <td>John Lee Hancock</td>\n",
              "      <td>106.0</td>\n",
              "      <td>137.0</td>\n",
              "      <td>102.0</td>\n",
              "      <td>877.0</td>\n",
              "      <td>Marc Blucas</td>\n",
              "      <td>2000.0</td>\n",
              "      <td>22406362.0</td>\n",
              "      <td>Drama|History|War|Western</td>\n",
              "      <td>Dennis Quaid</td>\n",
              "      <td>The Alamo</td>\n",
              "      <td>16832</td>\n",
              "      <td>5780</td>\n",
              "      <td>Jordi Mollà</td>\n",
              "      <td>0.0</td>\n",
              "      <td>army|dictator|general|texan|texas</td>\n",
              "      <td>http://www.imdb.com/title/tt0318974/?ref_=fn_t...</td>\n",
              "      <td>267.0</td>\n",
              "      <td>English</td>\n",
              "      <td>USA</td>\n",
              "      <td>PG-13</td>\n",
              "      <td>107000000.0</td>\n",
              "      <td>2004.0</td>\n",
              "      <td>973.0</td>\n",
              "      <td>6.0</td>\n",
              "      <td>2.35</td>\n",
              "      <td>701</td>\n",
              "    </tr>\n",
              "    <tr>\n",
              "      <th>3117</th>\n",
              "      <td>Color</td>\n",
              "      <td>Guy Ritchie</td>\n",
              "      <td>151.0</td>\n",
              "      <td>104.0</td>\n",
              "      <td>0.0</td>\n",
              "      <td>1000.0</td>\n",
              "      <td>Brad Pitt</td>\n",
              "      <td>26000.0</td>\n",
              "      <td>30093107.0</td>\n",
              "      <td>Comedy|Crime</td>\n",
              "      <td>Jason Statham</td>\n",
              "      <td>Snatch</td>\n",
              "      <td>600996</td>\n",
              "      <td>39175</td>\n",
              "      <td>Jason Flemyng</td>\n",
              "      <td>6.0</td>\n",
              "      <td>boxer|boxing|diamond|fight|gypsy</td>\n",
              "      <td>http://www.imdb.com/title/tt0208092/?ref_=fn_t...</td>\n",
              "      <td>726.0</td>\n",
              "      <td>English</td>\n",
              "      <td>UK</td>\n",
              "      <td>R</td>\n",
              "      <td>6000000.0</td>\n",
              "      <td>2000.0</td>\n",
              "      <td>11000.0</td>\n",
              "      <td>8.3</td>\n",
              "      <td>1.85</td>\n",
              "      <td>27000</td>\n",
              "    </tr>\n",
              "    <tr>\n",
              "      <th>3345</th>\n",
              "      <td>Color</td>\n",
              "      <td>Herbert Ross</td>\n",
              "      <td>60.0</td>\n",
              "      <td>107.0</td>\n",
              "      <td>71.0</td>\n",
              "      <td>304.0</td>\n",
              "      <td>Chris Penn</td>\n",
              "      <td>967.0</td>\n",
              "      <td>80000000.0</td>\n",
              "      <td>Drama|Music|Romance</td>\n",
              "      <td>Dianne Wiest</td>\n",
              "      <td>Footloose</td>\n",
              "      <td>51459</td>\n",
              "      <td>1962</td>\n",
              "      <td>Lori Singer</td>\n",
              "      <td>0.0</td>\n",
              "      <td>church|cowboy boots|dancing|high school dance|...</td>\n",
              "      <td>http://www.imdb.com/title/tt0087277/?ref_=fn_t...</td>\n",
              "      <td>113.0</td>\n",
              "      <td>English</td>\n",
              "      <td>USA</td>\n",
              "      <td>PG</td>\n",
              "      <td>8200000.0</td>\n",
              "      <td>1984.0</td>\n",
              "      <td>455.0</td>\n",
              "      <td>6.5</td>\n",
              "      <td>1.85</td>\n",
              "      <td>0</td>\n",
              "    </tr>\n",
              "    <tr>\n",
              "      <th>3452</th>\n",
              "      <td>Color</td>\n",
              "      <td>Paul Haggis</td>\n",
              "      <td>287.0</td>\n",
              "      <td>115.0</td>\n",
              "      <td>549.0</td>\n",
              "      <td>911.0</td>\n",
              "      <td>Loretta Devine</td>\n",
              "      <td>3000.0</td>\n",
              "      <td>54557348.0</td>\n",
              "      <td>Crime|Drama|Thriller</td>\n",
              "      <td>Don Cheadle</td>\n",
              "      <td>Crash</td>\n",
              "      <td>361169</td>\n",
              "      <td>5732</td>\n",
              "      <td>Jennifer Esposito</td>\n",
              "      <td>0.0</td>\n",
              "      <td>race relations|racism|racist|social problem|st...</td>\n",
              "      <td>http://www.imdb.com/title/tt0375679/?ref_=fn_t...</td>\n",
              "      <td>1624.0</td>\n",
              "      <td>English</td>\n",
              "      <td>Germany</td>\n",
              "      <td>R</td>\n",
              "      <td>6500000.0</td>\n",
              "      <td>2004.0</td>\n",
              "      <td>912.0</td>\n",
              "      <td>7.9</td>\n",
              "      <td>2.35</td>\n",
              "      <td>18000</td>\n",
              "    </tr>\n",
              "    <tr>\n",
              "      <th>3480</th>\n",
              "      <td>Color</td>\n",
              "      <td>Michael Winterbottom</td>\n",
              "      <td>71.0</td>\n",
              "      <td>115.0</td>\n",
              "      <td>187.0</td>\n",
              "      <td>887.0</td>\n",
              "      <td>Sarah Polley</td>\n",
              "      <td>14000.0</td>\n",
              "      <td>403932.0</td>\n",
              "      <td>Drama|Romance|Western</td>\n",
              "      <td>Milla Jovovich</td>\n",
              "      <td>The Claim</td>\n",
              "      <td>5254</td>\n",
              "      <td>17104</td>\n",
              "      <td>Shirley Henderson</td>\n",
              "      <td>4.0</td>\n",
              "      <td>gold|gold mine|miner|railroad|surveyor</td>\n",
              "      <td>http://www.imdb.com/title/tt0218378/?ref_=fn_t...</td>\n",
              "      <td>92.0</td>\n",
              "      <td>English</td>\n",
              "      <td>UK</td>\n",
              "      <td>R</td>\n",
              "      <td>20000000.0</td>\n",
              "      <td>2000.0</td>\n",
              "      <td>900.0</td>\n",
              "      <td>6.5</td>\n",
              "      <td>2.35</td>\n",
              "      <td>141</td>\n",
              "    </tr>\n",
              "    <tr>\n",
              "      <th>3729</th>\n",
              "      <td>Color</td>\n",
              "      <td>Tim Blake Nelson</td>\n",
              "      <td>92.0</td>\n",
              "      <td>95.0</td>\n",
              "      <td>596.0</td>\n",
              "      <td>697.0</td>\n",
              "      <td>Andrew Keegan</td>\n",
              "      <td>1000.0</td>\n",
              "      <td>16017403.0</td>\n",
              "      <td>Drama|Romance|Thriller</td>\n",
              "      <td>Mekhi Phifer</td>\n",
              "      <td>O</td>\n",
              "      <td>17333</td>\n",
              "      <td>3300</td>\n",
              "      <td>John Heard</td>\n",
              "      <td>2.0</td>\n",
              "      <td>basketball|basketball player|boarding school|l...</td>\n",
              "      <td>http://www.imdb.com/title/tt0184791/?ref_=fn_t...</td>\n",
              "      <td>153.0</td>\n",
              "      <td>English</td>\n",
              "      <td>USA</td>\n",
              "      <td>R</td>\n",
              "      <td>5000000.0</td>\n",
              "      <td>2001.0</td>\n",
              "      <td>835.0</td>\n",
              "      <td>6.2</td>\n",
              "      <td>1.85</td>\n",
              "      <td>0</td>\n",
              "    </tr>\n",
              "    <tr>\n",
              "      <th>3900</th>\n",
              "      <td>Color</td>\n",
              "      <td>NaN</td>\n",
              "      <td>9.0</td>\n",
              "      <td>60.0</td>\n",
              "      <td>NaN</td>\n",
              "      <td>904.0</td>\n",
              "      <td>Dylan Minnette</td>\n",
              "      <td>1000.0</td>\n",
              "      <td>NaN</td>\n",
              "      <td>Drama|Fantasy</td>\n",
              "      <td>Holly Hunter</td>\n",
              "      <td>Saving Grace</td>\n",
              "      <td>3852</td>\n",
              "      <td>5203</td>\n",
              "      <td>Bokeem Woodbine</td>\n",
              "      <td>1.0</td>\n",
              "      <td>catholic|death row|inmate|oklahoma city|sexual...</td>\n",
              "      <td>http://www.imdb.com/title/tt0830900/?ref_=fn_t...</td>\n",
              "      <td>47.0</td>\n",
              "      <td>English</td>\n",
              "      <td>USA</td>\n",
              "      <td>TV-MA</td>\n",
              "      <td>NaN</td>\n",
              "      <td>NaN</td>\n",
              "      <td>1000.0</td>\n",
              "      <td>7.5</td>\n",
              "      <td>1.78</td>\n",
              "      <td>634</td>\n",
              "    </tr>\n",
              "    <tr>\n",
              "      <th>3915</th>\n",
              "      <td>Color</td>\n",
              "      <td>Wes Craven</td>\n",
              "      <td>160.0</td>\n",
              "      <td>107.0</td>\n",
              "      <td>0.0</td>\n",
              "      <td>255.0</td>\n",
              "      <td>Emily Meade</td>\n",
              "      <td>798.0</td>\n",
              "      <td>14637490.0</td>\n",
              "      <td>Horror|Mystery|Thriller</td>\n",
              "      <td>Frank Grillo</td>\n",
              "      <td>My Soul to Take</td>\n",
              "      <td>16411</td>\n",
              "      <td>2537</td>\n",
              "      <td>Zena Grey</td>\n",
              "      <td>2.0</td>\n",
              "      <td>evil|killer|murder|psychopath|serial killer</td>\n",
              "      <td>http://www.imdb.com/title/tt0872230/?ref_=fn_t...</td>\n",
              "      <td>136.0</td>\n",
              "      <td>English</td>\n",
              "      <td>USA</td>\n",
              "      <td>R</td>\n",
              "      <td>25000000.0</td>\n",
              "      <td>2010.0</td>\n",
              "      <td>374.0</td>\n",
              "      <td>4.8</td>\n",
              "      <td>2.35</td>\n",
              "      <td>0</td>\n",
              "    </tr>\n",
              "    <tr>\n",
              "      <th>4182</th>\n",
              "      <td>Color</td>\n",
              "      <td>Rob Zombie</td>\n",
              "      <td>220.0</td>\n",
              "      <td>119.0</td>\n",
              "      <td>0.0</td>\n",
              "      <td>593.0</td>\n",
              "      <td>Tyler Mane</td>\n",
              "      <td>908.0</td>\n",
              "      <td>33386128.0</td>\n",
              "      <td>Horror</td>\n",
              "      <td>Scout Taylor-Compton</td>\n",
              "      <td>Halloween II</td>\n",
              "      <td>36372</td>\n",
              "      <td>3226</td>\n",
              "      <td>Margot Kidder</td>\n",
              "      <td>0.0</td>\n",
              "      <td>halloween|hospital|michael myers|rampage|vomiting</td>\n",
              "      <td>http://www.imdb.com/title/tt1311067/?ref_=fn_t...</td>\n",
              "      <td>491.0</td>\n",
              "      <td>English</td>\n",
              "      <td>USA</td>\n",
              "      <td>R</td>\n",
              "      <td>15000000.0</td>\n",
              "      <td>2009.0</td>\n",
              "      <td>764.0</td>\n",
              "      <td>4.9</td>\n",
              "      <td>1.85</td>\n",
              "      <td>3000</td>\n",
              "    </tr>\n",
              "    <tr>\n",
              "      <th>4226</th>\n",
              "      <td>Color</td>\n",
              "      <td>William Friedkin</td>\n",
              "      <td>138.0</td>\n",
              "      <td>104.0</td>\n",
              "      <td>607.0</td>\n",
              "      <td>109.0</td>\n",
              "      <td>Fernando Rey</td>\n",
              "      <td>813.0</td>\n",
              "      <td>NaN</td>\n",
              "      <td>Action|Crime|Drama|Thriller</td>\n",
              "      <td>Roy Scheider</td>\n",
              "      <td>The French Connection</td>\n",
              "      <td>82476</td>\n",
              "      <td>1196</td>\n",
              "      <td>Tony Lo Bianco</td>\n",
              "      <td>0.0</td>\n",
              "      <td>crime boss|drug smuggling|heroin|mafia boss|or...</td>\n",
              "      <td>http://www.imdb.com/title/tt0067116/?ref_=fn_t...</td>\n",
              "      <td>280.0</td>\n",
              "      <td>English</td>\n",
              "      <td>USA</td>\n",
              "      <td>R</td>\n",
              "      <td>1800000.0</td>\n",
              "      <td>1971.0</td>\n",
              "      <td>165.0</td>\n",
              "      <td>7.8</td>\n",
              "      <td>1.85</td>\n",
              "      <td>0</td>\n",
              "    </tr>\n",
              "    <tr>\n",
              "      <th>4282</th>\n",
              "      <td>Color</td>\n",
              "      <td>Kenneth Branagh</td>\n",
              "      <td>85.0</td>\n",
              "      <td>150.0</td>\n",
              "      <td>0.0</td>\n",
              "      <td>401.0</td>\n",
              "      <td>Brian Blessed</td>\n",
              "      <td>597.0</td>\n",
              "      <td>4414535.0</td>\n",
              "      <td>Drama</td>\n",
              "      <td>Julie Christie</td>\n",
              "      <td>Hamlet</td>\n",
              "      <td>30618</td>\n",
              "      <td>1645</td>\n",
              "      <td>Richard Briers</td>\n",
              "      <td>0.0</td>\n",
              "      <td>classic literature|denmark|funeral|madness|prince</td>\n",
              "      <td>http://www.imdb.com/title/tt0116477/?ref_=fn_t...</td>\n",
              "      <td>224.0</td>\n",
              "      <td>English</td>\n",
              "      <td>UK</td>\n",
              "      <td>PG-13</td>\n",
              "      <td>18000000.0</td>\n",
              "      <td>1996.0</td>\n",
              "      <td>591.0</td>\n",
              "      <td>7.8</td>\n",
              "      <td>2.20</td>\n",
              "      <td>0</td>\n",
              "    </tr>\n",
              "    <tr>\n",
              "      <th>4313</th>\n",
              "      <td>Color</td>\n",
              "      <td>Bruce McCulloch</td>\n",
              "      <td>52.0</td>\n",
              "      <td>85.0</td>\n",
              "      <td>54.0</td>\n",
              "      <td>455.0</td>\n",
              "      <td>Megan Mullally</td>\n",
              "      <td>985.0</td>\n",
              "      <td>13973532.0</td>\n",
              "      <td>Comedy|Crime</td>\n",
              "      <td>Martin Starr</td>\n",
              "      <td>Stealing Harvard</td>\n",
              "      <td>11211</td>\n",
              "      <td>3065</td>\n",
              "      <td>Chris Penn</td>\n",
              "      <td>1.0</td>\n",
              "      <td>black humor|crying during sex|harvard|humor|ma...</td>\n",
              "      <td>http://www.imdb.com/title/tt0265808/?ref_=fn_t...</td>\n",
              "      <td>92.0</td>\n",
              "      <td>English</td>\n",
              "      <td>USA</td>\n",
              "      <td>PG-13</td>\n",
              "      <td>25000000.0</td>\n",
              "      <td>2002.0</td>\n",
              "      <td>637.0</td>\n",
              "      <td>5.1</td>\n",
              "      <td>1.85</td>\n",
              "      <td>215</td>\n",
              "    </tr>\n",
              "    <tr>\n",
              "      <th>4408</th>\n",
              "      <td>Color</td>\n",
              "      <td>Yimou Zhang</td>\n",
              "      <td>101.0</td>\n",
              "      <td>95.0</td>\n",
              "      <td>611.0</td>\n",
              "      <td>3.0</td>\n",
              "      <td>Ni Yan</td>\n",
              "      <td>9.0</td>\n",
              "      <td>190666.0</td>\n",
              "      <td>Comedy|Drama</td>\n",
              "      <td>Honglei Sun</td>\n",
              "      <td>A Woman, a Gun and a Noodle Shop</td>\n",
              "      <td>2410</td>\n",
              "      <td>18</td>\n",
              "      <td>Dahong Ni</td>\n",
              "      <td>1.0</td>\n",
              "      <td>betrayal|husband wife relationship|murder|nood...</td>\n",
              "      <td>http://www.imdb.com/title/tt1428556/?ref_=fn_t...</td>\n",
              "      <td>20.0</td>\n",
              "      <td>Mandarin</td>\n",
              "      <td>China</td>\n",
              "      <td>R</td>\n",
              "      <td>NaN</td>\n",
              "      <td>2009.0</td>\n",
              "      <td>4.0</td>\n",
              "      <td>5.7</td>\n",
              "      <td>2.35</td>\n",
              "      <td>784</td>\n",
              "    </tr>\n",
              "    <tr>\n",
              "      <th>4565</th>\n",
              "      <td>Color</td>\n",
              "      <td>Peter Cattaneo</td>\n",
              "      <td>122.0</td>\n",
              "      <td>91.0</td>\n",
              "      <td>11.0</td>\n",
              "      <td>121.0</td>\n",
              "      <td>Mark Addy</td>\n",
              "      <td>1000.0</td>\n",
              "      <td>45857453.0</td>\n",
              "      <td>Comedy|Drama|Music</td>\n",
              "      <td>Tom Wilkinson</td>\n",
              "      <td>The Full Monty</td>\n",
              "      <td>82232</td>\n",
              "      <td>2323</td>\n",
              "      <td>Lesley Sharp</td>\n",
              "      <td>3.0</td>\n",
              "      <td>dole|male stripper|northern england|steel work...</td>\n",
              "      <td>http://www.imdb.com/title/tt0119164/?ref_=fn_t...</td>\n",
              "      <td>174.0</td>\n",
              "      <td>English</td>\n",
              "      <td>UK</td>\n",
              "      <td>R</td>\n",
              "      <td>3500000.0</td>\n",
              "      <td>1997.0</td>\n",
              "      <td>891.0</td>\n",
              "      <td>7.2</td>\n",
              "      <td>1.85</td>\n",
              "      <td>0</td>\n",
              "    </tr>\n",
              "    <tr>\n",
              "      <th>4573</th>\n",
              "      <td>Color</td>\n",
              "      <td>Mel Brooks</td>\n",
              "      <td>48.0</td>\n",
              "      <td>92.0</td>\n",
              "      <td>0.0</td>\n",
              "      <td>842.0</td>\n",
              "      <td>Sid Caesar</td>\n",
              "      <td>1000.0</td>\n",
              "      <td>NaN</td>\n",
              "      <td>Comedy</td>\n",
              "      <td>Madeline Kahn</td>\n",
              "      <td>History of the World: Part I</td>\n",
              "      <td>36559</td>\n",
              "      <td>3931</td>\n",
              "      <td>Dom DeLuise</td>\n",
              "      <td>0.0</td>\n",
              "      <td>french revolution|old testament|part of an unf...</td>\n",
              "      <td>http://www.imdb.com/title/tt0082517/?ref_=fn_t...</td>\n",
              "      <td>131.0</td>\n",
              "      <td>English</td>\n",
              "      <td>USA</td>\n",
              "      <td>R</td>\n",
              "      <td>11000000.0</td>\n",
              "      <td>1981.0</td>\n",
              "      <td>898.0</td>\n",
              "      <td>6.9</td>\n",
              "      <td>2.35</td>\n",
              "      <td>0</td>\n",
              "    </tr>\n",
              "    <tr>\n",
              "      <th>4631</th>\n",
              "      <td>Color</td>\n",
              "      <td>Danny Boyle</td>\n",
              "      <td>393.0</td>\n",
              "      <td>101.0</td>\n",
              "      <td>0.0</td>\n",
              "      <td>888.0</td>\n",
              "      <td>Spencer Wilding</td>\n",
              "      <td>3000.0</td>\n",
              "      <td>2319187.0</td>\n",
              "      <td>Crime|Drama|Mystery|Thriller</td>\n",
              "      <td>Rosario Dawson</td>\n",
              "      <td>Trance</td>\n",
              "      <td>92640</td>\n",
              "      <td>5056</td>\n",
              "      <td>Tuppence Middleton</td>\n",
              "      <td>0.0</td>\n",
              "      <td>amnesia|criminal|heist|hypnotherapy|lost painting</td>\n",
              "      <td>http://www.imdb.com/title/tt1924429/?ref_=fn_t...</td>\n",
              "      <td>212.0</td>\n",
              "      <td>English</td>\n",
              "      <td>UK</td>\n",
              "      <td>R</td>\n",
              "      <td>20000000.0</td>\n",
              "      <td>2013.0</td>\n",
              "      <td>1000.0</td>\n",
              "      <td>7.0</td>\n",
              "      <td>2.35</td>\n",
              "      <td>23000</td>\n",
              "    </tr>\n",
              "    <tr>\n",
              "      <th>4769</th>\n",
              "      <td>Color</td>\n",
              "      <td>Tamra Davis</td>\n",
              "      <td>111.0</td>\n",
              "      <td>93.0</td>\n",
              "      <td>33.0</td>\n",
              "      <td>135.0</td>\n",
              "      <td>Katherine Boecher</td>\n",
              "      <td>1000.0</td>\n",
              "      <td>37188667.0</td>\n",
              "      <td>Comedy|Drama</td>\n",
              "      <td>Britney Spears</td>\n",
              "      <td>Crossroads</td>\n",
              "      <td>34219</td>\n",
              "      <td>1531</td>\n",
              "      <td>Dave Allen</td>\n",
              "      <td>1.0</td>\n",
              "      <td>audition|friendship|graduation|high school gra...</td>\n",
              "      <td>http://www.imdb.com/title/tt0275022/?ref_=fn_t...</td>\n",
              "      <td>578.0</td>\n",
              "      <td>English</td>\n",
              "      <td>USA</td>\n",
              "      <td>PG-13</td>\n",
              "      <td>12000000.0</td>\n",
              "      <td>2002.0</td>\n",
              "      <td>188.0</td>\n",
              "      <td>3.3</td>\n",
              "      <td>1.85</td>\n",
              "      <td>0</td>\n",
              "    </tr>\n",
              "    <tr>\n",
              "      <th>4882</th>\n",
              "      <td>Color</td>\n",
              "      <td>Dan Curtis</td>\n",
              "      <td>NaN</td>\n",
              "      <td>99.0</td>\n",
              "      <td>45.0</td>\n",
              "      <td>224.0</td>\n",
              "      <td>Campbell Scott</td>\n",
              "      <td>1000.0</td>\n",
              "      <td>NaN</td>\n",
              "      <td>Fantasy|Romance</td>\n",
              "      <td>Jennifer Jason Leigh</td>\n",
              "      <td>The Love Letter</td>\n",
              "      <td>1465</td>\n",
              "      <td>2166</td>\n",
              "      <td>Estelle Parsons</td>\n",
              "      <td>1.0</td>\n",
              "      <td>antique|desk|letter|love|time travel</td>\n",
              "      <td>http://www.imdb.com/title/tt0140340/?ref_=fn_t...</td>\n",
              "      <td>56.0</td>\n",
              "      <td>English</td>\n",
              "      <td>USA</td>\n",
              "      <td>Unrated</td>\n",
              "      <td>NaN</td>\n",
              "      <td>1998.0</td>\n",
              "      <td>393.0</td>\n",
              "      <td>7.4</td>\n",
              "      <td>1.33</td>\n",
              "      <td>515</td>\n",
              "    </tr>\n",
              "    <tr>\n",
              "      <th>4927</th>\n",
              "      <td>Color</td>\n",
              "      <td>Jason Stone</td>\n",
              "      <td>48.0</td>\n",
              "      <td>108.0</td>\n",
              "      <td>14.0</td>\n",
              "      <td>826.0</td>\n",
              "      <td>Ellen Burstyn</td>\n",
              "      <td>2000.0</td>\n",
              "      <td>NaN</td>\n",
              "      <td>Thriller</td>\n",
              "      <td>Topher Grace</td>\n",
              "      <td>The Calling</td>\n",
              "      <td>6025</td>\n",
              "      <td>4385</td>\n",
              "      <td>Christopher Heyerdahl</td>\n",
              "      <td>2.0</td>\n",
              "      <td>bouquet|house fire|praying|serial killer|tied ...</td>\n",
              "      <td>http://www.imdb.com/title/tt1666335/?ref_=fn_t...</td>\n",
              "      <td>28.0</td>\n",
              "      <td>English</td>\n",
              "      <td>USA</td>\n",
              "      <td>R</td>\n",
              "      <td>NaN</td>\n",
              "      <td>2014.0</td>\n",
              "      <td>1000.0</td>\n",
              "      <td>5.8</td>\n",
              "      <td>NaN</td>\n",
              "      <td>0</td>\n",
              "    </tr>\n",
              "    <tr>\n",
              "      <th>4942</th>\n",
              "      <td>Color</td>\n",
              "      <td>Paul Schrader</td>\n",
              "      <td>130.0</td>\n",
              "      <td>93.0</td>\n",
              "      <td>261.0</td>\n",
              "      <td>697.0</td>\n",
              "      <td>Ruby Dee</td>\n",
              "      <td>783.0</td>\n",
              "      <td>NaN</td>\n",
              "      <td>Fantasy|Horror|Thriller</td>\n",
              "      <td>Ed Begley Jr.</td>\n",
              "      <td>Cat People</td>\n",
              "      <td>14193</td>\n",
              "      <td>3700</td>\n",
              "      <td>John Heard</td>\n",
              "      <td>1.0</td>\n",
              "      <td>cat|cat people|leopard|love|slip the undergarment</td>\n",
              "      <td>http://www.imdb.com/title/tt0083722/?ref_=fn_t...</td>\n",
              "      <td>106.0</td>\n",
              "      <td>English</td>\n",
              "      <td>USA</td>\n",
              "      <td>R</td>\n",
              "      <td>18000000.0</td>\n",
              "      <td>1982.0</td>\n",
              "      <td>782.0</td>\n",
              "      <td>6.1</td>\n",
              "      <td>1.85</td>\n",
              "      <td>0</td>\n",
              "    </tr>\n",
              "    <tr>\n",
              "      <th>4950</th>\n",
              "      <td>Color</td>\n",
              "      <td>David Hewlett</td>\n",
              "      <td>8.0</td>\n",
              "      <td>88.0</td>\n",
              "      <td>686.0</td>\n",
              "      <td>405.0</td>\n",
              "      <td>David Hewlett</td>\n",
              "      <td>847.0</td>\n",
              "      <td>NaN</td>\n",
              "      <td>Comedy</td>\n",
              "      <td>Christopher Judge</td>\n",
              "      <td>A Dog's Breakfast</td>\n",
              "      <td>3262</td>\n",
              "      <td>2364</td>\n",
              "      <td>Paul McGillion</td>\n",
              "      <td>2.0</td>\n",
              "      <td>dog|vegetarian</td>\n",
              "      <td>http://www.imdb.com/title/tt0796314/?ref_=fn_t...</td>\n",
              "      <td>46.0</td>\n",
              "      <td>English</td>\n",
              "      <td>Canada</td>\n",
              "      <td>NaN</td>\n",
              "      <td>120000.0</td>\n",
              "      <td>2007.0</td>\n",
              "      <td>686.0</td>\n",
              "      <td>7.0</td>\n",
              "      <td>1.78</td>\n",
              "      <td>377</td>\n",
              "    </tr>\n",
              "    <tr>\n",
              "      <th>4951</th>\n",
              "      <td>Black and White</td>\n",
              "      <td>George A. Romero</td>\n",
              "      <td>284.0</td>\n",
              "      <td>96.0</td>\n",
              "      <td>0.0</td>\n",
              "      <td>56.0</td>\n",
              "      <td>Duane Jones</td>\n",
              "      <td>125.0</td>\n",
              "      <td>NaN</td>\n",
              "      <td>Drama|Horror|Mystery</td>\n",
              "      <td>Judith O'Dea</td>\n",
              "      <td>Night of the Living Dead</td>\n",
              "      <td>87978</td>\n",
              "      <td>403</td>\n",
              "      <td>S. William Hinzman</td>\n",
              "      <td>5.0</td>\n",
              "      <td>cemetery|farmhouse|radiation|running out of ga...</td>\n",
              "      <td>http://www.imdb.com/title/tt0063350/?ref_=fn_t...</td>\n",
              "      <td>580.0</td>\n",
              "      <td>English</td>\n",
              "      <td>USA</td>\n",
              "      <td>Unrated</td>\n",
              "      <td>114000.0</td>\n",
              "      <td>1968.0</td>\n",
              "      <td>108.0</td>\n",
              "      <td>8.0</td>\n",
              "      <td>1.85</td>\n",
              "      <td>0</td>\n",
              "    </tr>\n",
              "  </tbody>\n",
              "</table>\n",
              "</div>\n",
              "      <button class=\"colab-df-convert\" onclick=\"convertToInteractive('df-3bf77ca7-cb17-4a55-b435-0a8d9b731761')\"\n",
              "              title=\"Convert this dataframe to an interactive table.\"\n",
              "              style=\"display:none;\">\n",
              "        \n",
              "  <svg xmlns=\"http://www.w3.org/2000/svg\" height=\"24px\"viewBox=\"0 0 24 24\"\n",
              "       width=\"24px\">\n",
              "    <path d=\"M0 0h24v24H0V0z\" fill=\"none\"/>\n",
              "    <path d=\"M18.56 5.44l.94 2.06.94-2.06 2.06-.94-2.06-.94-.94-2.06-.94 2.06-2.06.94zm-11 1L8.5 8.5l.94-2.06 2.06-.94-2.06-.94L8.5 2.5l-.94 2.06-2.06.94zm10 10l.94 2.06.94-2.06 2.06-.94-2.06-.94-.94-2.06-.94 2.06-2.06.94z\"/><path d=\"M17.41 7.96l-1.37-1.37c-.4-.4-.92-.59-1.43-.59-.52 0-1.04.2-1.43.59L10.3 9.45l-7.72 7.72c-.78.78-.78 2.05 0 2.83L4 21.41c.39.39.9.59 1.41.59.51 0 1.02-.2 1.41-.59l7.78-7.78 2.81-2.81c.8-.78.8-2.07 0-2.86zM5.41 20L4 18.59l7.72-7.72 1.47 1.35L5.41 20z\"/>\n",
              "  </svg>\n",
              "      </button>\n",
              "      \n",
              "  <style>\n",
              "    .colab-df-container {\n",
              "      display:flex;\n",
              "      flex-wrap:wrap;\n",
              "      gap: 12px;\n",
              "    }\n",
              "\n",
              "    .colab-df-convert {\n",
              "      background-color: #E8F0FE;\n",
              "      border: none;\n",
              "      border-radius: 50%;\n",
              "      cursor: pointer;\n",
              "      display: none;\n",
              "      fill: #1967D2;\n",
              "      height: 32px;\n",
              "      padding: 0 0 0 0;\n",
              "      width: 32px;\n",
              "    }\n",
              "\n",
              "    .colab-df-convert:hover {\n",
              "      background-color: #E2EBFA;\n",
              "      box-shadow: 0px 1px 2px rgba(60, 64, 67, 0.3), 0px 1px 3px 1px rgba(60, 64, 67, 0.15);\n",
              "      fill: #174EA6;\n",
              "    }\n",
              "\n",
              "    [theme=dark] .colab-df-convert {\n",
              "      background-color: #3B4455;\n",
              "      fill: #D2E3FC;\n",
              "    }\n",
              "\n",
              "    [theme=dark] .colab-df-convert:hover {\n",
              "      background-color: #434B5C;\n",
              "      box-shadow: 0px 1px 3px 1px rgba(0, 0, 0, 0.15);\n",
              "      filter: drop-shadow(0px 1px 2px rgba(0, 0, 0, 0.3));\n",
              "      fill: #FFFFFF;\n",
              "    }\n",
              "  </style>\n",
              "\n",
              "      <script>\n",
              "        const buttonEl =\n",
              "          document.querySelector('#df-3bf77ca7-cb17-4a55-b435-0a8d9b731761 button.colab-df-convert');\n",
              "        buttonEl.style.display =\n",
              "          google.colab.kernel.accessAllowed ? 'block' : 'none';\n",
              "\n",
              "        async function convertToInteractive(key) {\n",
              "          const element = document.querySelector('#df-3bf77ca7-cb17-4a55-b435-0a8d9b731761');\n",
              "          const dataTable =\n",
              "            await google.colab.kernel.invokeFunction('convertToInteractive',\n",
              "                                                     [key], {});\n",
              "          if (!dataTable) return;\n",
              "\n",
              "          const docLinkHtml = 'Like what you see? Visit the ' +\n",
              "            '<a target=\"_blank\" href=https://colab.research.google.com/notebooks/data_table.ipynb>data table notebook</a>'\n",
              "            + ' to learn more about interactive tables.';\n",
              "          element.innerHTML = '';\n",
              "          dataTable['output_type'] = 'display_data';\n",
              "          await google.colab.output.renderOutput(dataTable, element);\n",
              "          const docLink = document.createElement('div');\n",
              "          docLink.innerHTML = docLinkHtml;\n",
              "          element.appendChild(docLink);\n",
              "        }\n",
              "      </script>\n",
              "    </div>\n",
              "  </div>\n",
              "  "
            ],
            "text/plain": [
              "                 color  ... movie_facebook_likes\n",
              "137              Color  ...                29000\n",
              "187              Color  ...                65000\n",
              "204              Color  ...                    0\n",
              "303              Color  ...                24000\n",
              "389              Color  ...                41000\n",
              "395              Color  ...                14000\n",
              "590              Color  ...                21000\n",
              "656              Color  ...                    0\n",
              "794              Color  ...               123000\n",
              "1220             Color  ...                35000\n",
              "1305             Color  ...                11000\n",
              "1449             Color  ...                    0\n",
              "2169             Color  ...                    0\n",
              "2292             Color  ...                    0\n",
              "2472             Color  ...                    0\n",
              "2493   Black and White  ...                    0\n",
              "2533             Color  ...                15000\n",
              "2562             Color  ...                18000\n",
              "2568             Color  ...                31000\n",
              "2619             Color  ...                12000\n",
              "2771             Color  ...                17000\n",
              "2777             Color  ...                    0\n",
              "2798             Color  ...                  896\n",
              "2971             Color  ...                  701\n",
              "3117             Color  ...                27000\n",
              "3345             Color  ...                    0\n",
              "3452             Color  ...                18000\n",
              "3480             Color  ...                  141\n",
              "3729             Color  ...                    0\n",
              "3900             Color  ...                  634\n",
              "3915             Color  ...                    0\n",
              "4182             Color  ...                 3000\n",
              "4226             Color  ...                    0\n",
              "4282             Color  ...                    0\n",
              "4313             Color  ...                  215\n",
              "4408             Color  ...                  784\n",
              "4565             Color  ...                    0\n",
              "4573             Color  ...                    0\n",
              "4631             Color  ...                23000\n",
              "4769             Color  ...                    0\n",
              "4882             Color  ...                  515\n",
              "4927             Color  ...                    0\n",
              "4942             Color  ...                    0\n",
              "4950             Color  ...                  377\n",
              "4951   Black and White  ...                    0\n",
              "\n",
              "[45 rows x 28 columns]"
            ]
          },
          "metadata": {},
          "execution_count": 20
        }
      ]
    },
    {
      "cell_type": "code",
      "source": [
        "data.describe()"
      ],
      "metadata": {
        "colab": {
          "base_uri": "https://localhost:8080/",
          "height": 364
        },
        "id": "xM6HtByxMwQ4",
        "outputId": "3d0419eb-4e67-4c23-b6ee-31c4d4888a4b"
      },
      "execution_count": null,
      "outputs": [
        {
          "output_type": "execute_result",
          "data": {
            "text/html": [
              "\n",
              "  <div id=\"df-3af15c07-f80b-404f-a5cc-635104b5839a\">\n",
              "    <div class=\"colab-df-container\">\n",
              "      <div>\n",
              "<style scoped>\n",
              "    .dataframe tbody tr th:only-of-type {\n",
              "        vertical-align: middle;\n",
              "    }\n",
              "\n",
              "    .dataframe tbody tr th {\n",
              "        vertical-align: top;\n",
              "    }\n",
              "\n",
              "    .dataframe thead th {\n",
              "        text-align: right;\n",
              "    }\n",
              "</style>\n",
              "<table border=\"1\" class=\"dataframe\">\n",
              "  <thead>\n",
              "    <tr style=\"text-align: right;\">\n",
              "      <th></th>\n",
              "      <th>num_critic_for_reviews</th>\n",
              "      <th>duration</th>\n",
              "      <th>director_facebook_likes</th>\n",
              "      <th>actor_3_facebook_likes</th>\n",
              "      <th>actor_1_facebook_likes</th>\n",
              "      <th>gross</th>\n",
              "      <th>num_voted_users</th>\n",
              "      <th>cast_total_facebook_likes</th>\n",
              "      <th>facenumber_in_poster</th>\n",
              "      <th>num_user_for_reviews</th>\n",
              "      <th>budget</th>\n",
              "      <th>title_year</th>\n",
              "      <th>actor_2_facebook_likes</th>\n",
              "      <th>imdb_score</th>\n",
              "      <th>aspect_ratio</th>\n",
              "      <th>movie_facebook_likes</th>\n",
              "    </tr>\n",
              "  </thead>\n",
              "  <tbody>\n",
              "    <tr>\n",
              "      <th>count</th>\n",
              "      <td>4993.000000</td>\n",
              "      <td>5028.000000</td>\n",
              "      <td>4939.000000</td>\n",
              "      <td>5020.000000</td>\n",
              "      <td>5036.000000</td>\n",
              "      <td>4.159000e+03</td>\n",
              "      <td>5.043000e+03</td>\n",
              "      <td>5043.000000</td>\n",
              "      <td>5030.000000</td>\n",
              "      <td>5022.000000</td>\n",
              "      <td>4.551000e+03</td>\n",
              "      <td>4935.000000</td>\n",
              "      <td>5030.000000</td>\n",
              "      <td>5043.000000</td>\n",
              "      <td>4714.000000</td>\n",
              "      <td>5043.000000</td>\n",
              "    </tr>\n",
              "    <tr>\n",
              "      <th>mean</th>\n",
              "      <td>140.194272</td>\n",
              "      <td>107.201074</td>\n",
              "      <td>686.509212</td>\n",
              "      <td>645.009761</td>\n",
              "      <td>6560.047061</td>\n",
              "      <td>4.846841e+07</td>\n",
              "      <td>8.366816e+04</td>\n",
              "      <td>9699.063851</td>\n",
              "      <td>1.371173</td>\n",
              "      <td>272.770808</td>\n",
              "      <td>3.975262e+07</td>\n",
              "      <td>2002.470517</td>\n",
              "      <td>1651.754473</td>\n",
              "      <td>6.442138</td>\n",
              "      <td>2.220403</td>\n",
              "      <td>7525.964505</td>\n",
              "    </tr>\n",
              "    <tr>\n",
              "      <th>std</th>\n",
              "      <td>121.601675</td>\n",
              "      <td>25.197441</td>\n",
              "      <td>2813.328607</td>\n",
              "      <td>1665.041728</td>\n",
              "      <td>15020.759120</td>\n",
              "      <td>6.845299e+07</td>\n",
              "      <td>1.384853e+05</td>\n",
              "      <td>18163.799124</td>\n",
              "      <td>2.013576</td>\n",
              "      <td>377.982886</td>\n",
              "      <td>2.061149e+08</td>\n",
              "      <td>12.474599</td>\n",
              "      <td>4042.438863</td>\n",
              "      <td>1.125116</td>\n",
              "      <td>1.385113</td>\n",
              "      <td>19320.445110</td>\n",
              "    </tr>\n",
              "    <tr>\n",
              "      <th>min</th>\n",
              "      <td>1.000000</td>\n",
              "      <td>7.000000</td>\n",
              "      <td>0.000000</td>\n",
              "      <td>0.000000</td>\n",
              "      <td>0.000000</td>\n",
              "      <td>1.620000e+02</td>\n",
              "      <td>5.000000e+00</td>\n",
              "      <td>0.000000</td>\n",
              "      <td>0.000000</td>\n",
              "      <td>1.000000</td>\n",
              "      <td>2.180000e+02</td>\n",
              "      <td>1916.000000</td>\n",
              "      <td>0.000000</td>\n",
              "      <td>1.600000</td>\n",
              "      <td>1.180000</td>\n",
              "      <td>0.000000</td>\n",
              "    </tr>\n",
              "    <tr>\n",
              "      <th>25%</th>\n",
              "      <td>50.000000</td>\n",
              "      <td>93.000000</td>\n",
              "      <td>7.000000</td>\n",
              "      <td>133.000000</td>\n",
              "      <td>614.000000</td>\n",
              "      <td>5.340988e+06</td>\n",
              "      <td>8.593500e+03</td>\n",
              "      <td>1411.000000</td>\n",
              "      <td>0.000000</td>\n",
              "      <td>65.000000</td>\n",
              "      <td>6.000000e+06</td>\n",
              "      <td>1999.000000</td>\n",
              "      <td>281.000000</td>\n",
              "      <td>5.800000</td>\n",
              "      <td>1.850000</td>\n",
              "      <td>0.000000</td>\n",
              "    </tr>\n",
              "    <tr>\n",
              "      <th>50%</th>\n",
              "      <td>110.000000</td>\n",
              "      <td>103.000000</td>\n",
              "      <td>49.000000</td>\n",
              "      <td>371.500000</td>\n",
              "      <td>988.000000</td>\n",
              "      <td>2.551750e+07</td>\n",
              "      <td>3.435900e+04</td>\n",
              "      <td>3090.000000</td>\n",
              "      <td>1.000000</td>\n",
              "      <td>156.000000</td>\n",
              "      <td>2.000000e+07</td>\n",
              "      <td>2005.000000</td>\n",
              "      <td>595.000000</td>\n",
              "      <td>6.600000</td>\n",
              "      <td>2.350000</td>\n",
              "      <td>166.000000</td>\n",
              "    </tr>\n",
              "    <tr>\n",
              "      <th>75%</th>\n",
              "      <td>195.000000</td>\n",
              "      <td>118.000000</td>\n",
              "      <td>194.500000</td>\n",
              "      <td>636.000000</td>\n",
              "      <td>11000.000000</td>\n",
              "      <td>6.230944e+07</td>\n",
              "      <td>9.630900e+04</td>\n",
              "      <td>13756.500000</td>\n",
              "      <td>2.000000</td>\n",
              "      <td>326.000000</td>\n",
              "      <td>4.500000e+07</td>\n",
              "      <td>2011.000000</td>\n",
              "      <td>918.000000</td>\n",
              "      <td>7.200000</td>\n",
              "      <td>2.350000</td>\n",
              "      <td>3000.000000</td>\n",
              "    </tr>\n",
              "    <tr>\n",
              "      <th>max</th>\n",
              "      <td>813.000000</td>\n",
              "      <td>511.000000</td>\n",
              "      <td>23000.000000</td>\n",
              "      <td>23000.000000</td>\n",
              "      <td>640000.000000</td>\n",
              "      <td>7.605058e+08</td>\n",
              "      <td>1.689764e+06</td>\n",
              "      <td>656730.000000</td>\n",
              "      <td>43.000000</td>\n",
              "      <td>5060.000000</td>\n",
              "      <td>1.221550e+10</td>\n",
              "      <td>2016.000000</td>\n",
              "      <td>137000.000000</td>\n",
              "      <td>9.500000</td>\n",
              "      <td>16.000000</td>\n",
              "      <td>349000.000000</td>\n",
              "    </tr>\n",
              "  </tbody>\n",
              "</table>\n",
              "</div>\n",
              "      <button class=\"colab-df-convert\" onclick=\"convertToInteractive('df-3af15c07-f80b-404f-a5cc-635104b5839a')\"\n",
              "              title=\"Convert this dataframe to an interactive table.\"\n",
              "              style=\"display:none;\">\n",
              "        \n",
              "  <svg xmlns=\"http://www.w3.org/2000/svg\" height=\"24px\"viewBox=\"0 0 24 24\"\n",
              "       width=\"24px\">\n",
              "    <path d=\"M0 0h24v24H0V0z\" fill=\"none\"/>\n",
              "    <path d=\"M18.56 5.44l.94 2.06.94-2.06 2.06-.94-2.06-.94-.94-2.06-.94 2.06-2.06.94zm-11 1L8.5 8.5l.94-2.06 2.06-.94-2.06-.94L8.5 2.5l-.94 2.06-2.06.94zm10 10l.94 2.06.94-2.06 2.06-.94-2.06-.94-.94-2.06-.94 2.06-2.06.94z\"/><path d=\"M17.41 7.96l-1.37-1.37c-.4-.4-.92-.59-1.43-.59-.52 0-1.04.2-1.43.59L10.3 9.45l-7.72 7.72c-.78.78-.78 2.05 0 2.83L4 21.41c.39.39.9.59 1.41.59.51 0 1.02-.2 1.41-.59l7.78-7.78 2.81-2.81c.8-.78.8-2.07 0-2.86zM5.41 20L4 18.59l7.72-7.72 1.47 1.35L5.41 20z\"/>\n",
              "  </svg>\n",
              "      </button>\n",
              "      \n",
              "  <style>\n",
              "    .colab-df-container {\n",
              "      display:flex;\n",
              "      flex-wrap:wrap;\n",
              "      gap: 12px;\n",
              "    }\n",
              "\n",
              "    .colab-df-convert {\n",
              "      background-color: #E8F0FE;\n",
              "      border: none;\n",
              "      border-radius: 50%;\n",
              "      cursor: pointer;\n",
              "      display: none;\n",
              "      fill: #1967D2;\n",
              "      height: 32px;\n",
              "      padding: 0 0 0 0;\n",
              "      width: 32px;\n",
              "    }\n",
              "\n",
              "    .colab-df-convert:hover {\n",
              "      background-color: #E2EBFA;\n",
              "      box-shadow: 0px 1px 2px rgba(60, 64, 67, 0.3), 0px 1px 3px 1px rgba(60, 64, 67, 0.15);\n",
              "      fill: #174EA6;\n",
              "    }\n",
              "\n",
              "    [theme=dark] .colab-df-convert {\n",
              "      background-color: #3B4455;\n",
              "      fill: #D2E3FC;\n",
              "    }\n",
              "\n",
              "    [theme=dark] .colab-df-convert:hover {\n",
              "      background-color: #434B5C;\n",
              "      box-shadow: 0px 1px 3px 1px rgba(0, 0, 0, 0.15);\n",
              "      filter: drop-shadow(0px 1px 2px rgba(0, 0, 0, 0.3));\n",
              "      fill: #FFFFFF;\n",
              "    }\n",
              "  </style>\n",
              "\n",
              "      <script>\n",
              "        const buttonEl =\n",
              "          document.querySelector('#df-3af15c07-f80b-404f-a5cc-635104b5839a button.colab-df-convert');\n",
              "        buttonEl.style.display =\n",
              "          google.colab.kernel.accessAllowed ? 'block' : 'none';\n",
              "\n",
              "        async function convertToInteractive(key) {\n",
              "          const element = document.querySelector('#df-3af15c07-f80b-404f-a5cc-635104b5839a');\n",
              "          const dataTable =\n",
              "            await google.colab.kernel.invokeFunction('convertToInteractive',\n",
              "                                                     [key], {});\n",
              "          if (!dataTable) return;\n",
              "\n",
              "          const docLinkHtml = 'Like what you see? Visit the ' +\n",
              "            '<a target=\"_blank\" href=https://colab.research.google.com/notebooks/data_table.ipynb>data table notebook</a>'\n",
              "            + ' to learn more about interactive tables.';\n",
              "          element.innerHTML = '';\n",
              "          dataTable['output_type'] = 'display_data';\n",
              "          await google.colab.output.renderOutput(dataTable, element);\n",
              "          const docLink = document.createElement('div');\n",
              "          docLink.innerHTML = docLinkHtml;\n",
              "          element.appendChild(docLink);\n",
              "        }\n",
              "      </script>\n",
              "    </div>\n",
              "  </div>\n",
              "  "
            ],
            "text/plain": [
              "       num_critic_for_reviews     duration  ...  aspect_ratio  movie_facebook_likes\n",
              "count             4993.000000  5028.000000  ...   4714.000000           5043.000000\n",
              "mean               140.194272   107.201074  ...      2.220403           7525.964505\n",
              "std                121.601675    25.197441  ...      1.385113          19320.445110\n",
              "min                  1.000000     7.000000  ...      1.180000              0.000000\n",
              "25%                 50.000000    93.000000  ...      1.850000              0.000000\n",
              "50%                110.000000   103.000000  ...      2.350000            166.000000\n",
              "75%                195.000000   118.000000  ...      2.350000           3000.000000\n",
              "max                813.000000   511.000000  ...     16.000000         349000.000000\n",
              "\n",
              "[8 rows x 16 columns]"
            ]
          },
          "metadata": {},
          "execution_count": 21
        }
      ]
    },
    {
      "cell_type": "code",
      "source": [
        "data.columns"
      ],
      "metadata": {
        "colab": {
          "base_uri": "https://localhost:8080/"
        },
        "id": "Ug3TqZVFNMhF",
        "outputId": "9f9ff805-9455-490e-f955-d2ee8fba2941"
      },
      "execution_count": null,
      "outputs": [
        {
          "output_type": "execute_result",
          "data": {
            "text/plain": [
              "Index(['color', 'director_name', 'num_critic_for_reviews', 'duration',\n",
              "       'director_facebook_likes', 'actor_3_facebook_likes', 'actor_2_name',\n",
              "       'actor_1_facebook_likes', 'gross', 'genres', 'actor_1_name',\n",
              "       'movie_title', 'num_voted_users', 'cast_total_facebook_likes',\n",
              "       'actor_3_name', 'facenumber_in_poster', 'plot_keywords',\n",
              "       'movie_imdb_link', 'num_user_for_reviews', 'language', 'country',\n",
              "       'content_rating', 'budget', 'title_year', 'actor_2_facebook_likes',\n",
              "       'imdb_score', 'aspect_ratio', 'movie_facebook_likes'],\n",
              "      dtype='object')"
            ]
          },
          "metadata": {},
          "execution_count": 22
        }
      ]
    },
    {
      "cell_type": "code",
      "source": [
        "data[data['duration']>=180]['movie_title']"
      ],
      "metadata": {
        "colab": {
          "base_uri": "https://localhost:8080/"
        },
        "id": "-eosDAxiNXEQ",
        "outputId": "4edd4035-6480-449d-bac0-6c4346409e0a"
      },
      "execution_count": null,
      "outputs": [
        {
          "output_type": "execute_result",
          "data": {
            "text/plain": [
              "10       Batman v Superman: Dawn of Justice \n",
              "23      The Hobbit: The Desolation of Smaug \n",
              "25                                King Kong \n",
              "26                                  Titanic \n",
              "32                               Iron Man 3 \n",
              "                        ...                 \n",
              "4077                  Judgment at Nuremberg \n",
              "4087         Deadline Gallipoli             \n",
              "4694                              King Kong \n",
              "4708                              Woodstock \n",
              "4747                          Seven Samurai \n",
              "Name: movie_title, Length: 68, dtype: object"
            ]
          },
          "metadata": {},
          "execution_count": 23
        }
      ]
    },
    {
      "cell_type": "code",
      "source": [
        "data['title_year'].value_counts()"
      ],
      "metadata": {
        "colab": {
          "base_uri": "https://localhost:8080/"
        },
        "id": "K9vvd_qKORbT",
        "outputId": "1add8936-1939-4cc8-facc-2d3942291da2"
      },
      "execution_count": null,
      "outputs": [
        {
          "output_type": "execute_result",
          "data": {
            "text/plain": [
              "2009.0    260\n",
              "2014.0    252\n",
              "2006.0    239\n",
              "2013.0    237\n",
              "2010.0    230\n",
              "         ... \n",
              "1932.0      1\n",
              "1916.0      1\n",
              "1934.0      1\n",
              "1925.0      1\n",
              "1920.0      1\n",
              "Name: title_year, Length: 91, dtype: int64"
            ]
          },
          "metadata": {},
          "execution_count": 24
        }
      ]
    },
    {
      "cell_type": "code",
      "source": [
        "plt.figure(figsize=(10,5))\n",
        "sns.countplot('title_year',data=data)\n",
        "plt.xticks(rotation=90)\n",
        "plt.show()"
      ],
      "metadata": {
        "id": "TQJiaxFjOgKs",
        "colab": {
          "base_uri": "https://localhost:8080/",
          "height": 415
        },
        "outputId": "c4602bc8-f01f-4dde-f901-8ddd9630de96"
      },
      "execution_count": null,
      "outputs": [
        {
          "output_type": "stream",
          "name": "stderr",
          "text": [
            "/usr/local/lib/python3.7/dist-packages/seaborn/_decorators.py:43: FutureWarning: Pass the following variable as a keyword arg: x. From version 0.12, the only valid positional argument will be `data`, and passing other arguments without an explicit keyword will result in an error or misinterpretation.\n",
            "  FutureWarning\n"
          ]
        },
        {
          "output_type": "display_data",
          "data": {
            "image/png": "[encoded data removed]",
            "text/plain": [
              "<Figure size 720x360 with 1 Axes>"
            ]
          },
          "metadata": {
            "needs_background": "light"
          }
        }
      ]
    },
    {
      "cell_type": "code",
      "source": [
        "votes=data.groupby('title_year')[['num_voted_users']].mean().sort_values(by='num_voted_users',ascending=False)\n",
        "votes"
      ],
      "metadata": {
        "id": "BRWwy9awQY1o",
        "colab": {
          "base_uri": "https://localhost:8080/",
          "height": 455
        },
        "outputId": "d920bbdb-ea2d-4860-a804-2d02d519c917"
      },
      "execution_count": null,
      "outputs": [
        {
          "output_type": "execute_result",
          "data": {
            "text/html": [
              "\n",
              "  <div id=\"df-a3fa3050-3966-44a8-bf7a-cb69386c97aa\">\n",
              "    <div class=\"colab-df-container\">\n",
              "      <div>\n",
              "<style scoped>\n",
              "    .dataframe tbody tr th:only-of-type {\n",
              "        vertical-align: middle;\n",
              "    }\n",
              "\n",
              "    .dataframe tbody tr th {\n",
              "        vertical-align: top;\n",
              "    }\n",
              "\n",
              "    .dataframe thead th {\n",
              "        text-align: right;\n",
              "    }\n",
              "</style>\n",
              "<table border=\"1\" class=\"dataframe\">\n",
              "  <thead>\n",
              "    <tr style=\"text-align: right;\">\n",
              "      <th></th>\n",
              "      <th>num_voted_users</th>\n",
              "    </tr>\n",
              "    <tr>\n",
              "      <th>title_year</th>\n",
              "      <th></th>\n",
              "    </tr>\n",
              "  </thead>\n",
              "  <tbody>\n",
              "    <tr>\n",
              "      <th>1957.0</th>\n",
              "      <td>298614.500000</td>\n",
              "    </tr>\n",
              "    <tr>\n",
              "      <th>1975.0</th>\n",
              "      <td>269305.500000</td>\n",
              "    </tr>\n",
              "    <tr>\n",
              "      <th>1942.0</th>\n",
              "      <td>240866.500000</td>\n",
              "    </tr>\n",
              "    <tr>\n",
              "      <th>1939.0</th>\n",
              "      <td>194869.000000</td>\n",
              "    </tr>\n",
              "    <tr>\n",
              "      <th>1960.0</th>\n",
              "      <td>179921.666667</td>\n",
              "    </tr>\n",
              "    <tr>\n",
              "      <th>...</th>\n",
              "      <td>...</td>\n",
              "    </tr>\n",
              "    <tr>\n",
              "      <th>1932.0</th>\n",
              "      <td>3519.000000</td>\n",
              "    </tr>\n",
              "    <tr>\n",
              "      <th>1950.0</th>\n",
              "      <td>3167.000000</td>\n",
              "    </tr>\n",
              "    <tr>\n",
              "      <th>1943.0</th>\n",
              "      <td>1553.000000</td>\n",
              "    </tr>\n",
              "    <tr>\n",
              "      <th>1944.0</th>\n",
              "      <td>1079.000000</td>\n",
              "    </tr>\n",
              "    <tr>\n",
              "      <th>1920.0</th>\n",
              "      <td>5.000000</td>\n",
              "    </tr>\n",
              "  </tbody>\n",
              "</table>\n",
              "<p>91 rows × 1 columns</p>\n",
              "</div>\n",
              "      <button class=\"colab-df-convert\" onclick=\"convertToInteractive('df-a3fa3050-3966-44a8-bf7a-cb69386c97aa')\"\n",
              "              title=\"Convert this dataframe to an interactive table.\"\n",
              "              style=\"display:none;\">\n",
              "        \n",
              "  <svg xmlns=\"http://www.w3.org/2000/svg\" height=\"24px\"viewBox=\"0 0 24 24\"\n",
              "       width=\"24px\">\n",
              "    <path d=\"M0 0h24v24H0V0z\" fill=\"none\"/>\n",
              "    <path d=\"M18.56 5.44l.94 2.06.94-2.06 2.06-.94-2.06-.94-.94-2.06-.94 2.06-2.06.94zm-11 1L8.5 8.5l.94-2.06 2.06-.94-2.06-.94L8.5 2.5l-.94 2.06-2.06.94zm10 10l.94 2.06.94-2.06 2.06-.94-2.06-.94-.94-2.06-.94 2.06-2.06.94z\"/><path d=\"M17.41 7.96l-1.37-1.37c-.4-.4-.92-.59-1.43-.59-.52 0-1.04.2-1.43.59L10.3 9.45l-7.72 7.72c-.78.78-.78 2.05 0 2.83L4 21.41c.39.39.9.59 1.41.59.51 0 1.02-.2 1.41-.59l7.78-7.78 2.81-2.81c.8-.78.8-2.07 0-2.86zM5.41 20L4 18.59l7.72-7.72 1.47 1.35L5.41 20z\"/>\n",
              "  </svg>\n",
              "      </button>\n",
              "      \n",
              "  <style>\n",
              "    .colab-df-container {\n",
              "      display:flex;\n",
              "      flex-wrap:wrap;\n",
              "      gap: 12px;\n",
              "    }\n",
              "\n",
              "    .colab-df-convert {\n",
              "      background-color: #E8F0FE;\n",
              "      border: none;\n",
              "      border-radius: 50%;\n",
              "      cursor: pointer;\n",
              "      display: none;\n",
              "      fill: #1967D2;\n",
              "      height: 32px;\n",
              "      padding: 0 0 0 0;\n",
              "      width: 32px;\n",
              "    }\n",
              "\n",
              "    .colab-df-convert:hover {\n",
              "      background-color: #E2EBFA;\n",
              "      box-shadow: 0px 1px 2px rgba(60, 64, 67, 0.3), 0px 1px 3px 1px rgba(60, 64, 67, 0.15);\n",
              "      fill: #174EA6;\n",
              "    }\n",
              "\n",
              "    [theme=dark] .colab-df-convert {\n",
              "      background-color: #3B4455;\n",
              "      fill: #D2E3FC;\n",
              "    }\n",
              "\n",
              "    [theme=dark] .colab-df-convert:hover {\n",
              "      background-color: #434B5C;\n",
              "      box-shadow: 0px 1px 3px 1px rgba(0, 0, 0, 0.15);\n",
              "      filter: drop-shadow(0px 1px 2px rgba(0, 0, 0, 0.3));\n",
              "      fill: #FFFFFF;\n",
              "    }\n",
              "  </style>\n",
              "\n",
              "      <script>\n",
              "        const buttonEl =\n",
              "          document.querySelector('#df-a3fa3050-3966-44a8-bf7a-cb69386c97aa button.colab-df-convert');\n",
              "        buttonEl.style.display =\n",
              "          google.colab.kernel.accessAllowed ? 'block' : 'none';\n",
              "\n",
              "        async function convertToInteractive(key) {\n",
              "          const element = document.querySelector('#df-a3fa3050-3966-44a8-bf7a-cb69386c97aa');\n",
              "          const dataTable =\n",
              "            await google.colab.kernel.invokeFunction('convertToInteractive',\n",
              "                                                     [key], {});\n",
              "          if (!dataTable) return;\n",
              "\n",
              "          const docLinkHtml = 'Like what you see? Visit the ' +\n",
              "            '<a target=\"_blank\" href=https://colab.research.google.com/notebooks/data_table.ipynb>data table notebook</a>'\n",
              "            + ' to learn more about interactive tables.';\n",
              "          element.innerHTML = '';\n",
              "          dataTable['output_type'] = 'display_data';\n",
              "          await google.colab.output.renderOutput(dataTable, element);\n",
              "          const docLink = document.createElement('div');\n",
              "          docLink.innerHTML = docLinkHtml;\n",
              "          element.appendChild(docLink);\n",
              "        }\n",
              "      </script>\n",
              "    </div>\n",
              "  </div>\n",
              "  "
            ],
            "text/plain": [
              "            num_voted_users\n",
              "title_year                 \n",
              "1957.0        298614.500000\n",
              "1975.0        269305.500000\n",
              "1942.0        240866.500000\n",
              "1939.0        194869.000000\n",
              "1960.0        179921.666667\n",
              "...                     ...\n",
              "1932.0          3519.000000\n",
              "1950.0          3167.000000\n",
              "1943.0          1553.000000\n",
              "1944.0          1079.000000\n",
              "1920.0             5.000000\n",
              "\n",
              "[91 rows x 1 columns]"
            ]
          },
          "metadata": {},
          "execution_count": 29
        }
      ]
    },
    {
      "cell_type": "code",
      "source": [
        "plt.figure(figsize=(10,5))\n",
        "sns.barplot(x='title_year',y='num_voted_users',data=data)\n",
        "plt.xticks(rotation=90)\n",
        "plt.show()"
      ],
      "metadata": {
        "id": "KVRFT7RrQ92h",
        "colab": {
          "base_uri": "https://localhost:8080/",
          "height": 361
        },
        "outputId": "6e8dbaf3-b20c-4cbe-bb19-215aa1efc02c"
      },
      "execution_count": null,
      "outputs": [
        {
          "output_type": "display_data",
          "data": {
            "image/png": "[encoded data removed]",
            "text/plain": [
              "<Figure size 720x360 with 1 Axes>"
            ]
          },
          "metadata": {
            "needs_background": "light"
          }
        }
      ]
    },
    {
      "cell_type": "code",
      "source": [
        "avg_gross=data.groupby('title_year')[['gross']].mean().sort_values(by='gross',ascending=False)\n",
        "avg_gross"
      ],
      "metadata": {
        "id": "vNfAA-UORe24",
        "colab": {
          "base_uri": "https://localhost:8080/",
          "height": 455
        },
        "outputId": "e984938a-b8e1-4920-e5c3-2b0892e6cabe"
      },
      "execution_count": null,
      "outputs": [
        {
          "output_type": "execute_result",
          "data": {
            "text/html": [
              "\n",
              "  <div id=\"df-3ffb3451-85ea-48c9-821b-8e936c7b14ac\">\n",
              "    <div class=\"colab-df-container\">\n",
              "      <div>\n",
              "<style scoped>\n",
              "    .dataframe tbody tr th:only-of-type {\n",
              "        vertical-align: middle;\n",
              "    }\n",
              "\n",
              "    .dataframe tbody tr th {\n",
              "        vertical-align: top;\n",
              "    }\n",
              "\n",
              "    .dataframe thead th {\n",
              "        text-align: right;\n",
              "    }\n",
              "</style>\n",
              "<table border=\"1\" class=\"dataframe\">\n",
              "  <thead>\n",
              "    <tr style=\"text-align: right;\">\n",
              "      <th></th>\n",
              "      <th>gross</th>\n",
              "    </tr>\n",
              "    <tr>\n",
              "      <th>title_year</th>\n",
              "      <th></th>\n",
              "    </tr>\n",
              "  </thead>\n",
              "  <tbody>\n",
              "    <tr>\n",
              "      <th>1937.0</th>\n",
              "      <td>1.849255e+08</td>\n",
              "    </tr>\n",
              "    <tr>\n",
              "      <th>1975.0</th>\n",
              "      <td>1.244097e+08</td>\n",
              "    </tr>\n",
              "    <tr>\n",
              "      <th>1939.0</th>\n",
              "      <td>1.104289e+08</td>\n",
              "    </tr>\n",
              "    <tr>\n",
              "      <th>1977.0</th>\n",
              "      <td>1.062908e+08</td>\n",
              "    </tr>\n",
              "    <tr>\n",
              "      <th>1973.0</th>\n",
              "      <td>1.029195e+08</td>\n",
              "    </tr>\n",
              "    <tr>\n",
              "      <th>...</th>\n",
              "      <td>...</td>\n",
              "    </tr>\n",
              "    <tr>\n",
              "      <th>1949.0</th>\n",
              "      <td>NaN</td>\n",
              "    </tr>\n",
              "    <tr>\n",
              "      <th>1951.0</th>\n",
              "      <td>NaN</td>\n",
              "    </tr>\n",
              "    <tr>\n",
              "      <th>1955.0</th>\n",
              "      <td>NaN</td>\n",
              "    </tr>\n",
              "    <tr>\n",
              "      <th>1956.0</th>\n",
              "      <td>NaN</td>\n",
              "    </tr>\n",
              "    <tr>\n",
              "      <th>1958.0</th>\n",
              "      <td>NaN</td>\n",
              "    </tr>\n",
              "  </tbody>\n",
              "</table>\n",
              "<p>91 rows × 1 columns</p>\n",
              "</div>\n",
              "      <button class=\"colab-df-convert\" onclick=\"convertToInteractive('df-3ffb3451-85ea-48c9-821b-8e936c7b14ac')\"\n",
              "              title=\"Convert this dataframe to an interactive table.\"\n",
              "              style=\"display:none;\">\n",
              "        \n",
              "  <svg xmlns=\"http://www.w3.org/2000/svg\" height=\"24px\"viewBox=\"0 0 24 24\"\n",
              "       width=\"24px\">\n",
              "    <path d=\"M0 0h24v24H0V0z\" fill=\"none\"/>\n",
              "    <path d=\"M18.56 5.44l.94 2.06.94-2.06 2.06-.94-2.06-.94-.94-2.06-.94 2.06-2.06.94zm-11 1L8.5 8.5l.94-2.06 2.06-.94-2.06-.94L8.5 2.5l-.94 2.06-2.06.94zm10 10l.94 2.06.94-2.06 2.06-.94-2.06-.94-.94-2.06-.94 2.06-2.06.94z\"/><path d=\"M17.41 7.96l-1.37-1.37c-.4-.4-.92-.59-1.43-.59-.52 0-1.04.2-1.43.59L10.3 9.45l-7.72 7.72c-.78.78-.78 2.05 0 2.83L4 21.41c.39.39.9.59 1.41.59.51 0 1.02-.2 1.41-.59l7.78-7.78 2.81-2.81c.8-.78.8-2.07 0-2.86zM5.41 20L4 18.59l7.72-7.72 1.47 1.35L5.41 20z\"/>\n",
              "  </svg>\n",
              "      </button>\n",
              "      \n",
              "  <style>\n",
              "    .colab-df-container {\n",
              "      display:flex;\n",
              "      flex-wrap:wrap;\n",
              "      gap: 12px;\n",
              "    }\n",
              "\n",
              "    .colab-df-convert {\n",
              "      background-color: #E8F0FE;\n",
              "      border: none;\n",
              "      border-radius: 50%;\n",
              "      cursor: pointer;\n",
              "      display: none;\n",
              "      fill: #1967D2;\n",
              "      height: 32px;\n",
              "      padding: 0 0 0 0;\n",
              "      width: 32px;\n",
              "    }\n",
              "\n",
              "    .colab-df-convert:hover {\n",
              "      background-color: #E2EBFA;\n",
              "      box-shadow: 0px 1px 2px rgba(60, 64, 67, 0.3), 0px 1px 3px 1px rgba(60, 64, 67, 0.15);\n",
              "      fill: #174EA6;\n",
              "    }\n",
              "\n",
              "    [theme=dark] .colab-df-convert {\n",
              "      background-color: #3B4455;\n",
              "      fill: #D2E3FC;\n",
              "    }\n",
              "\n",
              "    [theme=dark] .colab-df-convert:hover {\n",
              "      background-color: #434B5C;\n",
              "      box-shadow: 0px 1px 3px 1px rgba(0, 0, 0, 0.15);\n",
              "      filter: drop-shadow(0px 1px 2px rgba(0, 0, 0, 0.3));\n",
              "      fill: #FFFFFF;\n",
              "    }\n",
              "  </style>\n",
              "\n",
              "      <script>\n",
              "        const buttonEl =\n",
              "          document.querySelector('#df-3ffb3451-85ea-48c9-821b-8e936c7b14ac button.colab-df-convert');\n",
              "        buttonEl.style.display =\n",
              "          google.colab.kernel.accessAllowed ? 'block' : 'none';\n",
              "\n",
              "        async function convertToInteractive(key) {\n",
              "          const element = document.querySelector('#df-3ffb3451-85ea-48c9-821b-8e936c7b14ac');\n",
              "          const dataTable =\n",
              "            await google.colab.kernel.invokeFunction('convertToInteractive',\n",
              "                                                     [key], {});\n",
              "          if (!dataTable) return;\n",
              "\n",
              "          const docLinkHtml = 'Like what you see? Visit the ' +\n",
              "            '<a target=\"_blank\" href=https://colab.research.google.com/notebooks/data_table.ipynb>data table notebook</a>'\n",
              "            + ' to learn more about interactive tables.';\n",
              "          element.innerHTML = '';\n",
              "          dataTable['output_type'] = 'display_data';\n",
              "          await google.colab.output.renderOutput(dataTable, element);\n",
              "          const docLink = document.createElement('div');\n",
              "          docLink.innerHTML = docLinkHtml;\n",
              "          element.appendChild(docLink);\n",
              "        }\n",
              "      </script>\n",
              "    </div>\n",
              "  </div>\n",
              "  "
            ],
            "text/plain": [
              "                   gross\n",
              "title_year              \n",
              "1937.0      1.849255e+08\n",
              "1975.0      1.244097e+08\n",
              "1939.0      1.104289e+08\n",
              "1977.0      1.062908e+08\n",
              "1973.0      1.029195e+08\n",
              "...                  ...\n",
              "1949.0               NaN\n",
              "1951.0               NaN\n",
              "1955.0               NaN\n",
              "1956.0               NaN\n",
              "1958.0               NaN\n",
              "\n",
              "[91 rows x 1 columns]"
            ]
          },
          "metadata": {},
          "execution_count": 30
        }
      ]
    },
    {
      "cell_type": "code",
      "source": [
        "plt.figure(figsize=(10,5))\n",
        "sns.barplot(x='title_year',y='gross',data=data)\n",
        "plt.xticks(rotation=90)\n",
        "plt.show()"
      ],
      "metadata": {
        "colab": {
          "base_uri": "https://localhost:8080/",
          "height": 371
        },
        "id": "UMjIMcGlTprC",
        "outputId": "e0e846ef-08a2-4edc-eb92-b740c5c49d6b"
      },
      "execution_count": null,
      "outputs": [
        {
          "output_type": "display_data",
          "data": {
            "image/png": "[encoded data removed]",
            "text/plain": [
              "<Figure size 720x360 with 1 Axes>"
            ]
          },
          "metadata": {
            "needs_background": "light"
          }
        }
      ]
    },
    {
      "cell_type": "code",
      "source": [
        ""
      ],
      "metadata": {
        "id": "Xq6W21FfUf8r"
      },
      "execution_count": null,
      "outputs": []
    },
    {
      "cell_type": "code",
      "source": [
        "#Finding average number of votes for each directior\n",
        "\n",
        "data.groupby('director_name')['imdb_score'].mean().sort_values(ascending = False)"
      ],
      "metadata": {
        "colab": {
          "base_uri": "https://localhost:8080/"
        },
        "id": "-V2UVh7L_WvZ",
        "outputId": "a4f3ed4d-a206-4984-ef6e-3ac4d0e6ff87"
      },
      "execution_count": null,
      "outputs": [
        {
          "output_type": "execute_result",
          "data": {
            "text/plain": [
              "director_name\n",
              "John Blanchard        9.5\n",
              "Mitchell Altieri      8.7\n",
              "Sadyk Sher-Niyaz      8.7\n",
              "Cary Bell             8.7\n",
              "Mike Mayhall          8.6\n",
              "                     ... \n",
              "Georgia Hilton        2.2\n",
              "Vondie Curtis-Hall    2.1\n",
              "Frédéric Auburtin     2.0\n",
              "A. Raven Cruz         1.9\n",
              "Lawrence Kasanoff     1.7\n",
              "Name: imdb_score, Length: 2398, dtype: float64"
            ]
          },
          "metadata": {},
          "execution_count": 33
        }
      ]
    },
    {
      "cell_type": "markdown",
      "source": [
        ""
      ],
      "metadata": {
        "id": "IWhR0F-c4UG2"
      }
    },
    {
      "cell_type": "code",
      "source": [
        ""
      ],
      "metadata": {
        "id": "vV0yr0o8UgDd"
      },
      "execution_count": null,
      "outputs": []
    },
    {
      "cell_type": "code",
      "source": [
        "#check whether the popularity of directon on social media influences the rating\n",
        "\n",
        "sns.histplot(x=data.imdb_score, y = data.director_facebook_likes, bins = 10, data = data)"
      ],
      "metadata": {
        "colab": {
          "base_uri": "https://localhost:8080/",
          "height": 297
        },
        "id": "5fHNbD1SAlud",
        "outputId": "6c6454cd-9f43-4df6-91e4-b08b4f592453"
      },
      "execution_count": null,
      "outputs": [
        {
          "output_type": "execute_result",
          "data": {
            "text/plain": [
              "<matplotlib.axes._subplots.AxesSubplot at 0x7fd457c773d0>"
            ]
          },
          "metadata": {},
          "execution_count": 34
        },
        {
          "output_type": "display_data",
          "data": {
            "image/png": "[encoded data removed]",
            "text/plain": [
              "<Figure size 432x288 with 1 Axes>"
            ]
          },
          "metadata": {
            "needs_background": "light"
          }
        }
      ]
    },
    {
      "cell_type": "code",
      "source": [
        ""
      ],
      "metadata": {
        "id": "dtaSqIJSVYw8"
      },
      "execution_count": null,
      "outputs": []
    },
    {
      "cell_type": "code",
      "source": [
        "#check the average rating for directors above and below 10000 likes\n",
        "\n",
        "\n",
        "data[(data['director_facebook_likes']>15000)]['imdb_score'].mean()"
      ],
      "metadata": {
        "colab": {
          "base_uri": "https://localhost:8080/"
        },
        "id": "90JJ13gQL94j",
        "outputId": "f0c0c1fe-b928-4f5a-f948-eaa825de4e38"
      },
      "execution_count": null,
      "outputs": [
        {
          "output_type": "execute_result",
          "data": {
            "text/plain": [
              "7.597222222222224"
            ]
          },
          "metadata": {},
          "execution_count": 35
        }
      ]
    },
    {
      "cell_type": "code",
      "source": [
        ""
      ],
      "metadata": {
        "id": "wNV1_u9xVgkk"
      },
      "execution_count": null,
      "outputs": []
    },
    {
      "cell_type": "code",
      "source": [
        "data[(data['director_facebook_likes']>10000) & (data['director_facebook_likes']<=15000)]['imdb_score'].mean()"
      ],
      "metadata": {
        "colab": {
          "base_uri": "https://localhost:8080/"
        },
        "id": "itQVYjHRI5rJ",
        "outputId": "03a54537-d996-4f35-acbb-d2dd81bf712d"
      },
      "execution_count": null,
      "outputs": [
        {
          "output_type": "execute_result",
          "data": {
            "text/plain": [
              "7.031192660550459"
            ]
          },
          "metadata": {},
          "execution_count": 36
        }
      ]
    },
    {
      "cell_type": "code",
      "source": [
        "data[(data['director_facebook_likes']>5000) & (data['director_facebook_likes']<=10000)]['imdb_score'].mean()"
      ],
      "metadata": {
        "colab": {
          "base_uri": "https://localhost:8080/"
        },
        "id": "uBoSH7tEKfB0",
        "outputId": "d6344107-967f-4f02-f8da-168801ace37f"
      },
      "execution_count": null,
      "outputs": [
        {
          "output_type": "execute_result",
          "data": {
            "text/plain": [
              "8.225"
            ]
          },
          "metadata": {},
          "execution_count": 37
        }
      ]
    },
    {
      "cell_type": "code",
      "source": [
        "data[(data['director_facebook_likes']<=5000)]['imdb_score'].mean()"
      ],
      "metadata": {
        "colab": {
          "base_uri": "https://localhost:8080/"
        },
        "id": "FWYM1xJlLaE-",
        "outputId": "04ccf9b7-a040-4c57-cf54-a41e366a261e"
      },
      "execution_count": null,
      "outputs": [
        {
          "output_type": "execute_result",
          "data": {
            "text/plain": [
              "6.38544383676903"
            ]
          },
          "metadata": {},
          "execution_count": 38
        }
      ]
    },
    {
      "cell_type": "code",
      "source": [
        "# check whether number of critic for reviews has impact on imdb score"
      ],
      "metadata": {
        "id": "oKzPark5MGsD"
      },
      "execution_count": null,
      "outputs": []
    },
    {
      "cell_type": "code",
      "source": [
        "sns.distplot(data.num_critic_for_reviews)"
      ],
      "metadata": {
        "colab": {
          "base_uri": "https://localhost:8080/",
          "height": 352
        },
        "id": "m0s3VeW0M4UX",
        "outputId": "47b18738-9f62-4fe1-a993-fc2c14982926"
      },
      "execution_count": null,
      "outputs": [
        {
          "output_type": "stream",
          "name": "stderr",
          "text": [
            "/usr/local/lib/python3.7/dist-packages/seaborn/distributions.py:2619: FutureWarning: `distplot` is a deprecated function and will be removed in a future version. Please adapt your code to use either `displot` (a figure-level function with similar flexibility) or `histplot` (an axes-level function for histograms).\n",
            "  warnings.warn(msg, FutureWarning)\n"
          ]
        },
        {
          "output_type": "execute_result",
          "data": {
            "text/plain": [
              "<matplotlib.axes._subplots.AxesSubplot at 0x7fd45764d710>"
            ]
          },
          "metadata": {},
          "execution_count": 40
        },
        {
          "output_type": "display_data",
          "data": {
            "image/png": "[encoded data removed]",
            "text/plain": [
              "<Figure size 432x288 with 1 Axes>"
            ]
          },
          "metadata": {
            "needs_background": "light"
          }
        }
      ]
    },
    {
      "cell_type": "code",
      "source": [
        "sns.histplot(x=data.imdb_score, y = data.num_critic_for_reviews, bins = 10, data = data)"
      ],
      "metadata": {
        "colab": {
          "base_uri": "https://localhost:8080/",
          "height": 297
        },
        "id": "b7chZC4oNHO7",
        "outputId": "01cc2168-1210-46e4-d5e6-cbcb2afeaa6d"
      },
      "execution_count": null,
      "outputs": [
        {
          "output_type": "execute_result",
          "data": {
            "text/plain": [
              "<matplotlib.axes._subplots.AxesSubplot at 0x7fd455550ed0>"
            ]
          },
          "metadata": {},
          "execution_count": 41
        },
        {
          "output_type": "display_data",
          "data": {
            "image/png": "[encoded data removed]",
            "text/plain": [
              "<Figure size 432x288 with 1 Axes>"
            ]
          },
          "metadata": {
            "needs_background": "light"
          }
        }
      ]
    },
    {
      "cell_type": "code",
      "source": [
        "#check whether the popularity of directon on social media influences the rating"
      ],
      "metadata": {
        "id": "kH2uA4KNQNOP"
      },
      "execution_count": null,
      "outputs": []
    },
    {
      "cell_type": "code",
      "source": [
        "sns.histplot(x=data.imdb_score, y = data.cast_total_facebook_likes, bins = 10, data = data)\n",
        "plt.show()"
      ],
      "metadata": {
        "colab": {
          "base_uri": "https://localhost:8080/",
          "height": 280
        },
        "id": "NkYFX-d24Wrl",
        "outputId": "493d51a9-ceb7-4bad-d2a7-37de8d3d46d1"
      },
      "execution_count": null,
      "outputs": [
        {
          "output_type": "display_data",
          "data": {
            "image/png": "[encoded data removed]",
            "text/plain": [
              "<Figure size 432x288 with 1 Axes>"
            ]
          },
          "metadata": {
            "needs_background": "light"
          }
        }
      ]
    },
    {
      "cell_type": "code",
      "source": [
        "# check weather there is a relation between the gross and the rating"
      ],
      "metadata": {
        "id": "zarTK1VX4bv1"
      },
      "execution_count": null,
      "outputs": []
    },
    {
      "cell_type": "code",
      "source": [
        "sns.scatterplot(x=data.imdb_score, y = data.gross, data = data)\n",
        "plt.show()"
      ],
      "metadata": {
        "colab": {
          "base_uri": "https://localhost:8080/",
          "height": 291
        },
        "id": "XRxsCzrT6Vqz",
        "outputId": "b95507b0-ca80-4024-94ce-dec3b25b9ab7"
      },
      "execution_count": null,
      "outputs": [
        {
          "output_type": "display_data",
          "data": {
            "image/png": "[encoded data removed]",
            "text/plain": [
              "<Figure size 432x288 with 1 Axes>"
            ]
          },
          "metadata": {
            "needs_background": "light"
          }
        }
      ]
    },
    {
      "cell_type": "code",
      "source": [
        "# check weather there is a relation between the number of voted users and the rating"
      ],
      "metadata": {
        "id": "WjxqlVDy7Aps"
      },
      "execution_count": null,
      "outputs": []
    },
    {
      "cell_type": "code",
      "source": [
        "sns.scatterplot(x=data.imdb_score, y = data.num_voted_users, data = data)\n",
        "plt.show()"
      ],
      "metadata": {
        "colab": {
          "base_uri": "https://localhost:8080/",
          "height": 291
        },
        "id": "edLEbr1P8ZyB",
        "outputId": "e23590cc-5ef3-416d-f07a-82a20ee0a612"
      },
      "execution_count": null,
      "outputs": [
        {
          "output_type": "display_data",
          "data": {
            "image/png": "[encoded data removed]",
            "text/plain": [
              "<Figure size 432x288 with 1 Axes>"
            ]
          },
          "metadata": {
            "needs_background": "light"
          }
        }
      ]
    },
    {
      "cell_type": "code",
      "source": [
        "#Has face number in poster influenced the score? Lets check."
      ],
      "metadata": {
        "id": "JXeCujg18flE"
      },
      "execution_count": null,
      "outputs": []
    },
    {
      "cell_type": "code",
      "source": [
        "sns.scatterplot(x=data.imdb_score, y = data.facenumber_in_poster, data = data)\n",
        "plt.show()"
      ],
      "metadata": {
        "colab": {
          "base_uri": "https://localhost:8080/",
          "height": 280
        },
        "id": "893WWACl9eit",
        "outputId": "95aaf38e-1efa-41cb-82aa-6d269c56d5f1"
      },
      "execution_count": null,
      "outputs": [
        {
          "output_type": "display_data",
          "data": {
            "image/png": "[encoded data removed]",
            "text/plain": [
              "<Figure size 432x288 with 1 Axes>"
            ]
          },
          "metadata": {
            "needs_background": "light"
          }
        }
      ]
    },
    {
      "cell_type": "code",
      "source": [
        "# Lets check how the score is distributed among various languages"
      ],
      "metadata": {
        "id": "6Yd7EzdA9j07"
      },
      "execution_count": null,
      "outputs": []
    },
    {
      "cell_type": "code",
      "source": [
        "plt.figure(figsize=(5,10))\n",
        "grup_lan = data.groupby('language')[['imdb_score']].mean().sort_values(by= 'imdb_score',ascending= False)\n",
        "sns.barplot(x= grup_lan.imdb_score, y = grup_lan.index, data = grup_lan)"
      ],
      "metadata": {
        "colab": {
          "base_uri": "https://localhost:8080/",
          "height": 623
        },
        "id": "0ucvVc_k_BNW",
        "outputId": "02d34152-7fe1-41e0-a97e-263acc50e3f2"
      },
      "execution_count": null,
      "outputs": [
        {
          "output_type": "execute_result",
          "data": {
            "text/plain": [
              "<matplotlib.axes._subplots.AxesSubplot at 0x7fd457ab2090>"
            ]
          },
          "metadata": {},
          "execution_count": 51
        },
        {
          "output_type": "display_data",
          "data": {
            "image/png": "[encoded data removed]",
            "text/plain": [
              "<Figure size 360x720 with 1 Axes>"
            ]
          },
          "metadata": {
            "needs_background": "light"
          }
        }
      ]
    },
    {
      "cell_type": "code",
      "source": [
        "# lets check the average country wise rating too"
      ],
      "metadata": {
        "id": "wCAdRMnf_Hoe"
      },
      "execution_count": null,
      "outputs": []
    },
    {
      "cell_type": "code",
      "source": [
        "plt.figure(figsize=(5,10))\n",
        "grup_lan = data.groupby('country')[['imdb_score']].mean().sort_values(by= 'imdb_score',ascending= False)\n",
        "sns.barplot(x= grup_lan.imdb_score, y = grup_lan.index, data = grup_lan)"
      ],
      "metadata": {
        "colab": {
          "base_uri": "https://localhost:8080/",
          "height": 623
        },
        "id": "HtUZdRfyDIRE",
        "outputId": "93e98460-c4e5-4946-a4ec-a38c42d708c6"
      },
      "execution_count": null,
      "outputs": [
        {
          "output_type": "execute_result",
          "data": {
            "text/plain": [
              "<matplotlib.axes._subplots.AxesSubplot at 0x7fd457c1fad0>"
            ]
          },
          "metadata": {},
          "execution_count": 53
        },
        {
          "output_type": "display_data",
          "data": {
            "image/png": "[encoded data removed]",
            "text/plain": [
              "<Figure size 360x720 with 1 Axes>"
            ]
          },
          "metadata": {
            "needs_background": "light"
          }
        }
      ]
    },
    {
      "cell_type": "code",
      "source": [
        "# check weather there is a relation between the budget and the rating"
      ],
      "metadata": {
        "id": "2enEBw8CDNqQ"
      },
      "execution_count": null,
      "outputs": []
    },
    {
      "cell_type": "code",
      "source": [
        "sns.scatterplot(x=data.imdb_score, y = data.budget, data = data)\n",
        "plt.show()"
      ],
      "metadata": {
        "colab": {
          "base_uri": "https://localhost:8080/",
          "height": 291
        },
        "id": "DWw3-PGZLz7i",
        "outputId": "145269fd-5c25-439e-8b7a-3d224d4d6908"
      },
      "execution_count": null,
      "outputs": [
        {
          "output_type": "display_data",
          "data": {
            "image/png": "[encoded data removed]",
            "text/plain": [
              "<Figure size 432x288 with 1 Axes>"
            ]
          },
          "metadata": {
            "needs_background": "light"
          }
        }
      ]
    },
    {
      "cell_type": "code",
      "source": [
        "# lets plot the graph for movies with budger less than 250000000\n",
        "\n",
        "sns.scatterplot(x=data[data['budget']<250000000].imdb_score, y = data[data['budget']<250000000].budget, data = data)\n",
        "plt.show()"
      ],
      "metadata": {
        "colab": {
          "base_uri": "https://localhost:8080/",
          "height": 291
        },
        "id": "b7UtPX8dMAIP",
        "outputId": "bfef2b5f-df65-4b72-e099-ccc401bed6f9"
      },
      "execution_count": null,
      "outputs": [
        {
          "output_type": "display_data",
          "data": {
            "image/png": "[encoded data removed]",
            "text/plain": [
              "<Figure size 432x288 with 1 Axes>"
            ]
          },
          "metadata": {
            "needs_background": "light"
          }
        }
      ]
    }
  ]
}